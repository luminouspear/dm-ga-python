{
 "cells": [
  {
   "cell_type": "code",
   "execution_count": null,
   "metadata": {},
   "outputs": [],
   "source": [
    "# Given string num representing a non-negative integer num and and integer k, return the smallest possible integer after removing k digits from num\n",
    "\n",
    "# Ex: input: num = 1432219, k = 3\n",
    "# Output: 1219\n",
    "# Explanation: Remove the three digits 4, 3 and 2 to form the new number 1219, which is the smallest\n",
    "\n",
    "# Ex 2: input: num = 10200, k = 1\n",
    "# Output: 200\n",
    "# Explanation: Remove the leading 1 and the number is 200. Note that the output must not contain leading zeroes.\n",
    "\n",
    "# Use a monotonic stack to solve this\n",
    "# Add numbers to the stack as long as the number continues to increase\n",
    "# Remove numbers from the stack if the number on the stack is larger than the next number to be added\n",
    "\n",
    "\n"
   ]
  }
 ],
 "metadata": {
  "language_info": {
   "name": "python"
  },
  "orig_nbformat": 4
 },
 "nbformat": 4,
 "nbformat_minor": 2
}
