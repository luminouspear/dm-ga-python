{
 "cells": [
  {
   "cell_type": "code",
   "execution_count": 7,
   "metadata": {},
   "outputs": [
    {
     "ename": "TclError",
     "evalue": "invalid command name \"tkdnd::drop_target\"",
     "output_type": "error",
     "traceback": [
      "\u001b[0;31m---------------------------------------------------------------------------\u001b[0m",
      "\u001b[0;31mTclError\u001b[0m                                  Traceback (most recent call last)",
      "Cell \u001b[0;32mIn[7], line 27\u001b[0m\n\u001b[1;32m     24\u001b[0m label_one \u001b[39m=\u001b[39m tk\u001b[39m.\u001b[39mLabel(root, textvariable\u001b[39m=\u001b[39mdrop_zone_label, relief\u001b[39m=\u001b[39m\u001b[39m\"\u001b[39m\u001b[39msolid\u001b[39m\u001b[39m\"\u001b[39m)\n\u001b[1;32m     25\u001b[0m label_one\u001b[39m.\u001b[39mpack(fill\u001b[39m=\u001b[39m\u001b[39m\"\u001b[39m\u001b[39mboth\u001b[39m\u001b[39m\"\u001b[39m, expand\u001b[39m=\u001b[39m\u001b[39mTrue\u001b[39;00m, padx\u001b[39m=\u001b[39m\u001b[39m10\u001b[39m, pady\u001b[39m=\u001b[39m\u001b[39m10\u001b[39m)\n\u001b[0;32m---> 27\u001b[0m label_one\u001b[39m.\u001b[39;49mregister_drop_target(\u001b[39m\"\u001b[39;49m\u001b[39m*\u001b[39;49m\u001b[39m\"\u001b[39;49m)\n\u001b[1;32m     28\u001b[0m label_one\u001b[39m.\u001b[39mbind(\u001b[39m\"\u001b[39m\u001b[39m<<Drop>>\u001b[39m\u001b[39m\"\u001b[39m, drop)\n\u001b[1;32m     30\u001b[0m label_one\u001b[39m.\u001b[39mregister_drag_source(\u001b[39m\"\u001b[39m\u001b[39m*\u001b[39m\u001b[39m\"\u001b[39m)\n",
      "File \u001b[0;32m/Library/Frameworks/Python.framework/Versions/3.9/lib/python3.9/site-packages/tkinterDnD/dnd.py:206\u001b[0m, in \u001b[0;36mDnDWrapper.register_drop_target\u001b[0;34m(self, dndtypes)\u001b[0m\n\u001b[1;32m    204\u001b[0m \u001b[39mdef\u001b[39;00m \u001b[39mregister_drop_target\u001b[39m(\u001b[39mself\u001b[39m, dndtypes\u001b[39m=\u001b[39m\u001b[39m\"\u001b[39m\u001b[39m*\u001b[39m\u001b[39m\"\u001b[39m):\n\u001b[1;32m    205\u001b[0m     \u001b[39m\"\"\"Registers the widget as drop target\"\"\"\u001b[39;00m        \n\u001b[0;32m--> 206\u001b[0m     \u001b[39mself\u001b[39;49m\u001b[39m.\u001b[39;49mtk\u001b[39m.\u001b[39;49mcall(\u001b[39m\"\u001b[39;49m\u001b[39mtkdnd::drop_target\u001b[39;49m\u001b[39m\"\u001b[39;49m, \u001b[39m\"\u001b[39;49m\u001b[39mregister\u001b[39;49m\u001b[39m\"\u001b[39;49m, \u001b[39mself\u001b[39;49m\u001b[39m.\u001b[39;49m_w, dndtypes)\n",
      "\u001b[0;31mTclError\u001b[0m: invalid command name \"tkdnd::drop_target\""
     ]
    }
   ],
   "source": [
    "import tkinter as tk\n",
    "from tkinter import ttk\n",
    "\n",
    "# Use the tkinterDnD.Tk object for easy initalization\n",
    "# and to be able to use the main window as a dnd widget\n",
    "\n",
    "root = tk.Tk()\n",
    "root.title(\"Keynote Converter\")\n",
    "\n",
    "drop_zone_label = tk.StringVar()\n",
    "drop_zone_label.set('Drop your file here')\n",
    "\n",
    "def drop(event):\n",
    "    # this function is called when stuff is dropped onto the widget.\n",
    "    drop_zone_label.set(event.data)\n",
    "\n",
    "def drag_command(event):\n",
    "    # this function is called at the start of the drag\n",
    "    # it returns the drag type, the content type and the actual content.\n",
    "    return (tk.COPY, \"DnD_Text\", \"Some dropped text!\")\n",
    "\n",
    "# Without DnD hook you need to register the widget for every purpose and\n",
    "# bind it to the function we want to call.\n",
    "label_one = tk.Label(root, textvariable=drop_zone_label, relief=\"solid\")\n",
    "label_one.pack(fill=\"both\", expand=True, padx=10, pady=10)\n",
    "\n",
    "label_one.register_drop_target(\"*\")\n",
    "label_one.bind(\"<<Drop>>\", drop)\n",
    "\n",
    "label_one.register_drag_source(\"*\")\n",
    "label_one.bind(\"<<DragInitCmd>>\", drag_command)\n",
    "\n",
    "# With DnD hook you just pass the command to the proper argument\n",
    "# and tkinterDnD wil take care of the rest.\n",
    "\n",
    "label_two = ttk.Label(root, ondrop=drop, ondragstart=drag_command, textvar=drop_zone_label, padding=50, relief=\"solid\")\n",
    "label_two.pack(fill=\"both\", expand=True, padx=10, pady=10)\n",
    "\n",
    "root.mainloop()"
   ]
  },
  {
   "cell_type": "code",
   "execution_count": 3,
   "metadata": {},
   "outputs": [
    {
     "ename": "RuntimeError",
     "evalue": "Unable to load tkdnd library.",
     "output_type": "error",
     "traceback": [
      "\u001b[0;31m---------------------------------------------------------------------------\u001b[0m",
      "\u001b[0;31mTclError\u001b[0m                                  Traceback (most recent call last)",
      "File \u001b[0;32m/Library/Frameworks/Python.framework/Versions/3.9/lib/python3.9/site-packages/tkdnd/TkinterDnD.py:53\u001b[0m, in \u001b[0;36m_require\u001b[0;34m(tkroot)\u001b[0m\n\u001b[1;32m     52\u001b[0m     tkroot\u001b[39m.\u001b[39mtk\u001b[39m.\u001b[39mcall(\u001b[39m'\u001b[39m\u001b[39mlappend\u001b[39m\u001b[39m'\u001b[39m, \u001b[39m'\u001b[39m\u001b[39mauto_path\u001b[39m\u001b[39m'\u001b[39m, module_path)\n\u001b[0;32m---> 53\u001b[0m     TkdndVersion \u001b[39m=\u001b[39m tkroot\u001b[39m.\u001b[39;49mtk\u001b[39m.\u001b[39;49mcall(\u001b[39m'\u001b[39;49m\u001b[39mpackage\u001b[39;49m\u001b[39m'\u001b[39;49m, \u001b[39m'\u001b[39;49m\u001b[39mrequire\u001b[39;49m\u001b[39m'\u001b[39;49m, \u001b[39m'\u001b[39;49m\u001b[39mtkdnd\u001b[39;49m\u001b[39m'\u001b[39;49m)\n\u001b[1;32m     54\u001b[0m \u001b[39mexcept\u001b[39;00m tkinter\u001b[39m.\u001b[39mTclError:\n",
      "\u001b[0;31mTclError\u001b[0m: dlopen(/Library/Frameworks/Python.framework/Versions/3.9/lib/python3.9/site-packages/tkdnd/tkdnd/osx64/libtkdnd2.9.2.dylib, 0x0006): tried: '/Library/Frameworks/Python.framework/Versions/3.9/lib/python3.9/site-packages/tkdnd/tkdnd/osx64/libtkdnd2.9.2.dylib' (mach-o file, but is an incompatible architecture (have 'x86_64', need 'arm64')), '/System/Volumes/Preboot/Cryptexes/OS/Library/Frameworks/Python.framework/Versions/3.9/lib/python3.9/site-packages/tkdnd/tkdnd/osx64/libtkdnd2.9.2.dylib' (no such file), '/Library/Frameworks/Python.framework/Versions/3.9/lib/python3.9/site-packages/tkdnd/tkdnd/osx64/libtkdnd2.9.2.dylib' (mach-o file, but is an incompatible architecture (have 'x86_64', need 'arm64'))",
      "\nDuring handling of the above exception, another exception occurred:\n",
      "\u001b[0;31mRuntimeError\u001b[0m                              Traceback (most recent call last)",
      "Cell \u001b[0;32mIn[3], line 15\u001b[0m\n\u001b[1;32m     12\u001b[0m                 line\u001b[39m=\u001b[39mline\u001b[39m.\u001b[39mstrip()\n\u001b[1;32m     13\u001b[0m                 textarea\u001b[39m.\u001b[39minsert(\u001b[39m\"\u001b[39m\u001b[39mend\u001b[39m\u001b[39m\"\u001b[39m,\u001b[39mf\u001b[39m\u001b[39m\"\u001b[39m\u001b[39m{\u001b[39;00mline\u001b[39m}\u001b[39;00m\u001b[39m\\n\u001b[39;00m\u001b[39m\"\u001b[39m)\n\u001b[0;32m---> 15\u001b[0m ws \u001b[39m=\u001b[39m tkdnd\u001b[39m.\u001b[39;49mTk()\n\u001b[1;32m     16\u001b[0m ws\u001b[39m.\u001b[39mtitle(\u001b[39m'\u001b[39m\u001b[39mPythonGuides\u001b[39m\u001b[39m'\u001b[39m)\n\u001b[1;32m     17\u001b[0m ws\u001b[39m.\u001b[39mgeometry(\u001b[39m'\u001b[39m\u001b[39m400x300\u001b[39m\u001b[39m'\u001b[39m)\n",
      "File \u001b[0;32m/Library/Frameworks/Python.framework/Versions/3.9/lib/python3.9/site-packages/tkdnd/TkinterDnD.py:285\u001b[0m, in \u001b[0;36mTk.__init__\u001b[0;34m(self, *args, **kw)\u001b[0m\n\u001b[1;32m    283\u001b[0m \u001b[39mdef\u001b[39;00m \u001b[39m__init__\u001b[39m(\u001b[39mself\u001b[39m, \u001b[39m*\u001b[39margs, \u001b[39m*\u001b[39m\u001b[39m*\u001b[39mkw):\n\u001b[1;32m    284\u001b[0m     tkinter\u001b[39m.\u001b[39mTk\u001b[39m.\u001b[39m\u001b[39m__init__\u001b[39m(\u001b[39mself\u001b[39m, \u001b[39m*\u001b[39margs, \u001b[39m*\u001b[39m\u001b[39m*\u001b[39mkw)\n\u001b[0;32m--> 285\u001b[0m     \u001b[39mself\u001b[39m\u001b[39m.\u001b[39mTkdndVersion \u001b[39m=\u001b[39m _require(\u001b[39mself\u001b[39;49m)\n",
      "File \u001b[0;32m/Library/Frameworks/Python.framework/Versions/3.9/lib/python3.9/site-packages/tkdnd/TkinterDnD.py:55\u001b[0m, in \u001b[0;36m_require\u001b[0;34m(tkroot)\u001b[0m\n\u001b[1;32m     53\u001b[0m     TkdndVersion \u001b[39m=\u001b[39m tkroot\u001b[39m.\u001b[39mtk\u001b[39m.\u001b[39mcall(\u001b[39m'\u001b[39m\u001b[39mpackage\u001b[39m\u001b[39m'\u001b[39m, \u001b[39m'\u001b[39m\u001b[39mrequire\u001b[39m\u001b[39m'\u001b[39m, \u001b[39m'\u001b[39m\u001b[39mtkdnd\u001b[39m\u001b[39m'\u001b[39m)\n\u001b[1;32m     54\u001b[0m \u001b[39mexcept\u001b[39;00m tkinter\u001b[39m.\u001b[39mTclError:\n\u001b[0;32m---> 55\u001b[0m     \u001b[39mraise\u001b[39;00m \u001b[39mRuntimeError\u001b[39;00m(\u001b[39m'\u001b[39m\u001b[39mUnable to load tkdnd library.\u001b[39m\u001b[39m'\u001b[39m)\n\u001b[1;32m     56\u001b[0m \u001b[39mreturn\u001b[39;00m TkdndVersion\n",
      "\u001b[0;31mRuntimeError\u001b[0m: Unable to load tkdnd library."
     ]
    }
   ],
   "source": [
    "from tkinter import *\n",
    "from TkinterDnD2 import DND_FILES, TkinterDnD\n",
    "import tkdnd\n",
    "from tkdnd import TkinterDnD as tkdnd\n",
    "\n",
    "\n",
    "def show_text(event):\n",
    "    textarea.delete(\"1.0\",\"end\")\n",
    "    if event.data.endswith(\".txt\"):\n",
    "        with open(event.data, \"r\") as file:\n",
    "            for line in file:\n",
    "                line=line.strip()\n",
    "                textarea.insert(\"end\",f\"{line}\\n\")\n",
    "\n",
    "ws = tkdnd.Tk()\n",
    "ws.title('PythonGuides')\n",
    "ws.geometry('400x300')\n",
    "ws.config(bg='#fcb103')\n",
    "\n",
    "frame = Frame(ws)\n",
    "frame.pack()\n",
    "\n",
    "textarea = Text(frame, height=18, width=40)\n",
    "textarea.pack(side=LEFT)\n",
    "textarea.drop_target_register(DND_FILES)\n",
    "textarea.dnd_bind('<<Drop>>', show_text)\n",
    "\n",
    "sbv = Scrollbar(frame, orient=VERTICAL)\n",
    "sbv.pack(side=RIGHT, fill=Y)\n",
    "\n",
    "textarea.configure(yscrollcommand=sbv.set)\n",
    "sbv.config(command=textarea.yview)\n",
    "\n",
    "\n",
    "\n",
    "ws.mainloop()\n"
   ]
  },
  {
   "cell_type": "code",
   "execution_count": 2,
   "metadata": {},
   "outputs": [
    {
     "ename": "KeyboardInterrupt",
     "evalue": "",
     "output_type": "error",
     "traceback": [
      "\u001b[0;31m---------------------------------------------------------------------------\u001b[0m",
      "\u001b[0;31mKeyboardInterrupt\u001b[0m                         Traceback (most recent call last)",
      "Cell \u001b[0;32mIn[2], line 30\u001b[0m\n\u001b[1;32m     27\u001b[0m text\u001b[39m.\u001b[39mbind(\u001b[39m\"\u001b[39m\u001b[39m<<Drop>>\u001b[39m\u001b[39m\"\u001b[39m, on_drop)\n\u001b[1;32m     29\u001b[0m \u001b[39m# Run the main loop to display the window\u001b[39;00m\n\u001b[0;32m---> 30\u001b[0m root\u001b[39m.\u001b[39;49mmainloop()\n",
      "File \u001b[0;32m/Library/Frameworks/Python.framework/Versions/3.9/lib/python3.9/tkinter/__init__.py:1429\u001b[0m, in \u001b[0;36mMisc.mainloop\u001b[0;34m(self, n)\u001b[0m\n\u001b[1;32m   1427\u001b[0m \u001b[39mdef\u001b[39;00m \u001b[39mmainloop\u001b[39m(\u001b[39mself\u001b[39m, n\u001b[39m=\u001b[39m\u001b[39m0\u001b[39m):\n\u001b[1;32m   1428\u001b[0m     \u001b[39m\"\"\"Call the mainloop of Tk.\"\"\"\u001b[39;00m\n\u001b[0;32m-> 1429\u001b[0m     \u001b[39mself\u001b[39;49m\u001b[39m.\u001b[39;49mtk\u001b[39m.\u001b[39;49mmainloop(n)\n",
      "\u001b[0;31mKeyboardInterrupt\u001b[0m: "
     ]
    }
   ],
   "source": [
    "import tkinter as tk\n",
    "\n",
    "# Create the root window\n",
    "root = tk.Tk()\n",
    "\n",
    "# Create a Label widget to display a message\n",
    "label = tk.Label(root, text=\"Drop a file here:\")\n",
    "label.pack()\n",
    "\n",
    "# Create a Canvas widget to display the background\n",
    "canvas = tk.Canvas(root, width=800, height=600)\n",
    "canvas.pack()\n",
    "\n",
    "# Create a Text widget to display the file path\n",
    "text = tk.Text(root)\n",
    "text.pack()\n",
    "\n",
    "# Define a function to be called when a file is dropped onto the Text widget\n",
    "def on_drop(event):\n",
    "    print('drop happened')\n",
    "    # Get the file path from the event object\n",
    "    file_path = event.data\n",
    "    # Insert the file path into the Text widget\n",
    "    text.insert(\"end\", file_path)\n",
    "\n",
    "# Bind the on_drop function to the \"<<Drop>>\" event on the Text widget\n",
    "canvas.bind(\"<<Drop>>\", on_drop)\n",
    "\n",
    "# Run the main loop to display the window\n",
    "root.mainloop()"
   ]
  },
  {
   "cell_type": "code",
   "execution_count": 4,
   "metadata": {},
   "outputs": [
    {
     "ename": "AttributeError",
     "evalue": "module 'tkinter.dnd' has no attribute 'DropTarget'",
     "output_type": "error",
     "traceback": [
      "\u001b[0;31m---------------------------------------------------------------------------\u001b[0m",
      "\u001b[0;31mAttributeError\u001b[0m                            Traceback (most recent call last)",
      "Cell \u001b[0;32mIn[4], line 18\u001b[0m\n\u001b[1;32m     15\u001b[0m         \u001b[39mprint\u001b[39m(\u001b[39m\"\u001b[39m\u001b[39mSuccessfully dropped a .key file!\u001b[39m\u001b[39m\"\u001b[39m)\n\u001b[1;32m     17\u001b[0m \u001b[39m# Create a DropTarget object and specify the function to call when a file is dropped onto the window\u001b[39;00m\n\u001b[0;32m---> 18\u001b[0m drop_target \u001b[39m=\u001b[39m dnd\u001b[39m.\u001b[39;49mDropTarget(root, handle_file_drop)\n\u001b[1;32m     20\u001b[0m \u001b[39m# Start the main event loop\u001b[39;00m\n\u001b[1;32m     21\u001b[0m root\u001b[39m.\u001b[39mmainloop()\n",
      "\u001b[0;31mAttributeError\u001b[0m: module 'tkinter.dnd' has no attribute 'DropTarget'"
     ]
    }
   ],
   "source": [
    "import tkinter as tk\n",
    "from tkinter import dnd\n",
    "\n",
    "# Create the root window\n",
    "root = tk.Tk()\n",
    "\n",
    "# Create a function to handle when a file is dropped onto the window\n",
    "def handle_file_drop(event):\n",
    "    # Get the file path from the event data\n",
    "    file_path = event.data\n",
    "    \n",
    "    # Check if the file is a \".key\" file\n",
    "    if file_path.endswith(\".key\"):\n",
    "        # If it is, display a success message\n",
    "        print(\"Successfully dropped a .key file!\")\n",
    "\n",
    "# Create a DropTarget object and specify the function to call when a file is dropped onto the window\n",
    "drop_target = dnd.DropTarget(root, handle_file_drop)\n",
    "\n",
    "# Start the main event loop\n",
    "root.mainloop()"
   ]
  },
  {
   "cell_type": "code",
   "execution_count": 3,
   "metadata": {},
   "outputs": [],
   "source": [
    "\n",
    "# https://stackoverflow.com/questions/44887576/how-can-i-create-a-drag-and-drop-interface"
   ]
  },
  {
   "cell_type": "code",
   "execution_count": 6,
   "metadata": {},
   "outputs": [
    {
     "ename": "KeyboardInterrupt",
     "evalue": "",
     "output_type": "error",
     "traceback": [
      "\u001b[0;31m---------------------------------------------------------------------------\u001b[0m",
      "\u001b[0;31mKeyboardInterrupt\u001b[0m                         Traceback (most recent call last)",
      "Cell \u001b[0;32mIn[6], line 53\u001b[0m\n\u001b[1;32m     50\u001b[0m label \u001b[39m=\u001b[39m tk\u001b[39m.\u001b[39mLabel(root, text\u001b[39m=\u001b[39m\u001b[39m\"\u001b[39m\u001b[39mDrop a .key file here\u001b[39m\u001b[39m\"\u001b[39m, font\u001b[39m=\u001b[39m(\u001b[39m\"\u001b[39m\u001b[39mHelvetica\u001b[39m\u001b[39m\"\u001b[39m, \u001b[39m24\u001b[39m))\n\u001b[1;32m     51\u001b[0m label\u001b[39m.\u001b[39mplace(relx\u001b[39m=\u001b[39m\u001b[39m0.5\u001b[39m, rely\u001b[39m=\u001b[39m\u001b[39m0.5\u001b[39m, anchor\u001b[39m=\u001b[39mtk\u001b[39m.\u001b[39mCENTER)\n\u001b[0;32m---> 53\u001b[0m root\u001b[39m.\u001b[39;49mmainloop()\n",
      "File \u001b[0;32m/Library/Frameworks/Python.framework/Versions/3.9/lib/python3.9/tkinter/__init__.py:1429\u001b[0m, in \u001b[0;36mMisc.mainloop\u001b[0;34m(self, n)\u001b[0m\n\u001b[1;32m   1427\u001b[0m \u001b[39mdef\u001b[39;00m \u001b[39mmainloop\u001b[39m(\u001b[39mself\u001b[39m, n\u001b[39m=\u001b[39m\u001b[39m0\u001b[39m):\n\u001b[1;32m   1428\u001b[0m     \u001b[39m\"\"\"Call the mainloop of Tk.\"\"\"\u001b[39;00m\n\u001b[0;32m-> 1429\u001b[0m     \u001b[39mself\u001b[39;49m\u001b[39m.\u001b[39;49mtk\u001b[39m.\u001b[39;49mmainloop(n)\n",
      "\u001b[0;31mKeyboardInterrupt\u001b[0m: "
     ]
    }
   ],
   "source": [
    "import tkinter as tk\n",
    "from tkinter import dnd as dnd_module\n",
    "\n",
    "class DragManager():\n",
    "    def add_draggable(self, widget):\n",
    "        widget.bind(\"<ButtonPress-1>\", self.on_start)\n",
    "        widget.bind(\"<B1-Motion>\", self.on_drag)\n",
    "        widget.bind(\"<ButtonRelease-1>\", self.on_drop)\n",
    "        widget.configure(cursor=\"hand1\")\n",
    "\n",
    "    def on_start(self, event):\n",
    "        # create a new top-level window to hold the widget being dragged\n",
    "        self.drag_window = tk.Toplevel(event.widget)\n",
    "\n",
    "        # create a new label to hold the text of the original widget\n",
    "        self.drag_label = tk.Label(self.drag_window, text=event.widget[\"text\"])\n",
    "        self.drag_label.pack()\n",
    "\n",
    "        # record the offset between the cursor and the top-left corner of the widget\n",
    "        self.offset_x = event.widget.winfo_x() - event.x_root\n",
    "        self.offset_y = event.widget.winfo_y() - event.y_root\n",
    "\n",
    "        # hide the original widget\n",
    "        event.widget.pack_forget()\n",
    "\n",
    "        # position the drag window next to the cursor\n",
    "        self.drag_window.geometry(f\"+{event.x_root + self.offset_x}+{event.y_root + self.offset_y}\")\n",
    "\n",
    "    def on_drag(self, event):\n",
    "        # you could use this method to move a floating window that\n",
    "        # represents what you're dragging\n",
    "        print(f'Dragging')\n",
    "        pass\n",
    "\n",
    "    def on_drop(self, event):\n",
    "        pass\n",
    "\n",
    "\n",
    "\n",
    "root = tk.Tk()\n",
    "root.geometry(\"400x300\")\n",
    "\n",
    "canvas = tk.Canvas(root, width=400, height=300, bg=\"white\")\n",
    "canvas.pack()\n",
    "\n",
    "dnd = DragManager()\n",
    "dnd.add_draggable(root)\n",
    "\n",
    "\n",
    "label = tk.Label(root, text=\"Drop a .key file here\", font=(\"Helvetica\", 24))\n",
    "label.place(relx=0.5, rely=0.5, anchor=tk.CENTER)\n",
    "\n",
    "root.mainloop()"
   ]
  },
  {
   "cell_type": "code",
   "execution_count": null,
   "metadata": {},
   "outputs": [],
   "source": [
    "import tkinter as tk\n",
    "\n",
    "from TkinterDnD2 import DND_FILES, TkinterDnD\n",
    "\n",
    "def drop_inside_list_box(event):\n",
    "    pass\n",
    "\n",
    "def drop_inside_text_box(event):\n",
    "    pass\n",
    "\n",
    "root = TkinterDnD.Tk()\n",
    "root.geometry(\"800x500\")\n",
    "\n",
    "listb = tk.listbox(root, selectmode=tk.SINGLE, background=\"#ffe0d6\")\n",
    "listb.pack(fill=tk.X)\n",
    "drop.drop_target_register(DND_FILES)"
   ]
  }
 ],
 "metadata": {
  "kernelspec": {
   "display_name": "Python 3",
   "language": "python",
   "name": "python3"
  },
  "language_info": {
   "codemirror_mode": {
    "name": "ipython",
    "version": 3
   },
   "file_extension": ".py",
   "mimetype": "text/x-python",
   "name": "python",
   "nbconvert_exporter": "python",
   "pygments_lexer": "ipython3",
   "version": "3.9.13 (v3.9.13:6de2ca5339, May 17 2022, 11:37:23) \n[Clang 13.0.0 (clang-1300.0.29.30)]"
  },
  "orig_nbformat": 4,
  "vscode": {
   "interpreter": {
    "hash": "aee8b7b246df8f9039afb4144a1f6fd8d2ca17a180786b69acc140d282b71a49"
   }
  }
 },
 "nbformat": 4,
 "nbformat_minor": 2
}
