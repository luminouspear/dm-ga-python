{
 "cells": [
  {
   "cell_type": "code",
   "execution_count": 1,
   "metadata": {},
   "outputs": [
    {
     "ename": "AttributeError",
     "evalue": "No attribute Resolution",
     "output_type": "error",
     "traceback": [
      "\u001b[0;31m---------------------------------------------------------------------------\u001b[0m",
      "\u001b[0;31mAttributeError\u001b[0m                            Traceback (most recent call last)",
      "Cell \u001b[0;32mIn[1], line 18\u001b[0m\n\u001b[1;32m     15\u001b[0m         \u001b[39mprint\u001b[39m(\u001b[39m\"\u001b[39m\u001b[39mThe specified resolution is not available for this display.\u001b[39m\u001b[39m\"\u001b[39m)\n\u001b[1;32m     17\u001b[0m \u001b[39m# Example usage: Change the resolution of the second display to 1920x1080\u001b[39;00m\n\u001b[0;32m---> 18\u001b[0m change_resolution(\u001b[39m1\u001b[39m, NSScreen\u001b[39m.\u001b[39;49mResolution(\u001b[39m1920\u001b[39m, \u001b[39m1080\u001b[39m))\n",
      "\u001b[0;31mAttributeError\u001b[0m: No attribute Resolution"
     ]
    }
   ],
   "source": [
    "from AppKit import NSScreen\n",
    "\n",
    "def change_resolution(display, new_resolution):\n",
    "    # Get the screen object for the specified display\n",
    "    screen = NSScreen.screens()[display]\n",
    "    \n",
    "    # Get the available resolutions for the display\n",
    "    available_resolutions = screen.availableModes()\n",
    "    \n",
    "    # Check if the specified resolution is available for the display\n",
    "    if new_resolution in available_resolutions:\n",
    "        # Set the new screen resolution\n",
    "        screen.setFrame_(NSRect(0, 0, new_resolution.width, new_resolution.height))\n",
    "    else:\n",
    "        print(\"The specified resolution is not available for this display.\")\n",
    "\n",
    "# Example usage: Change the resolution of the second display to 1920x1080\n",
    "change_resolution(1, NSScreen.)"
   ]
  },
  {
   "cell_type": "code",
   "execution_count": 2,
   "metadata": {},
   "outputs": [
    {
     "ename": "AttributeError",
     "evalue": "'NSScreen' object has no attribute 'availableModes'",
     "output_type": "error",
     "traceback": [
      "\u001b[0;31m---------------------------------------------------------------------------\u001b[0m",
      "\u001b[0;31mAttributeError\u001b[0m                            Traceback (most recent call last)",
      "Cell \u001b[0;32mIn[2], line 7\u001b[0m\n\u001b[1;32m      4\u001b[0m main_screen \u001b[39m=\u001b[39m NSScreen\u001b[39m.\u001b[39mmainScreen()\n\u001b[1;32m      6\u001b[0m \u001b[39m# Get the available screen resolutions\u001b[39;00m\n\u001b[0;32m----> 7\u001b[0m available_resolutions \u001b[39m=\u001b[39m main_screen\u001b[39m.\u001b[39;49mavailableModes()\n\u001b[1;32m      9\u001b[0m \u001b[39m# Define a function to change the screen resolution\u001b[39;00m\n\u001b[1;32m     10\u001b[0m \u001b[39mdef\u001b[39;00m \u001b[39mchange_resolution\u001b[39m(resolution):\n\u001b[1;32m     11\u001b[0m     \u001b[39m# Check if the specified resolution is available\u001b[39;00m\n",
      "\u001b[0;31mAttributeError\u001b[0m: 'NSScreen' object has no attribute 'availableModes'"
     ]
    }
   ],
   "source": [
    "from AppKit import NSScreen, NSRect\n",
    "\n",
    "# Get the main screen object\n",
    "main_screen = NSScreen.mainScreen()\n",
    "\n",
    "# Get the available screen resolutions\n",
    "available_resolutions = main_screen.availableModes()\n",
    "\n",
    "# Define a function to change the screen resolution\n",
    "def change_resolution(resolution):\n",
    "    # Check if the specified resolution is available\n",
    "    if resolution in available_resolutions:\n",
    "        # Set the new screen resolution\n",
    "        main_screen.setFrame_(NSRect(0, 0, resolution.width, resolution.height))\n",
    "    else:\n",
    "        print(\"Specified resolution is not available\")\n",
    "\n",
    "# Change the screen resolution to 1920x1080\n",
    "change_resolution(NSScreen.Resolution(width=1920, height=1080))"
   ]
  },
  {
   "cell_type": "code",
   "execution_count": 4,
   "metadata": {},
   "outputs": [
    {
     "ename": "ModuleNotFoundError",
     "evalue": "No module named 'CoreGraphics'",
     "output_type": "error",
     "traceback": [
      "\u001b[0;31m---------------------------------------------------------------------------\u001b[0m",
      "\u001b[0;31mModuleNotFoundError\u001b[0m                       Traceback (most recent call last)",
      "Cell \u001b[0;32mIn[4], line 2\u001b[0m\n\u001b[1;32m      1\u001b[0m \u001b[39mfrom\u001b[39;00m \u001b[39mAppKit\u001b[39;00m \u001b[39mimport\u001b[39;00m NSScreen\n\u001b[0;32m----> 2\u001b[0m \u001b[39mfrom\u001b[39;00m \u001b[39mCoreGraphics\u001b[39;00m \u001b[39mimport\u001b[39;00m CGDirectDisplay\n\u001b[1;32m      4\u001b[0m \u001b[39m# Get the main screen object\u001b[39;00m\n\u001b[1;32m      5\u001b[0m main_screen \u001b[39m=\u001b[39m NSScreen\u001b[39m.\u001b[39mmainScreen()\n",
      "\u001b[0;31mModuleNotFoundError\u001b[0m: No module named 'CoreGraphics'"
     ]
    },
    {
     "ename": "",
     "evalue": "",
     "output_type": "error",
     "traceback": [
      "\u001b[1;31mThe Kernel crashed while executing code in the the current cell or a previous cell. Please review the code in the cell(s) to identify a possible cause of the failure. Click <a href='https://aka.ms/vscodeJupyterKernelCrash'>here</a> for more info. View Jupyter <a href='command:jupyter.viewOutput'>log</a> for further details."
     ]
    }
   ],
   "source": [
    "from AppKit import NSScreen\n",
    "import Quartz\n",
    "\n",
    "# Get the main screen object\n",
    "main_screen = NSScreen.mainScreen()\n",
    "\n",
    "# Get the screen resolution\n",
    "resolution = main_screen.frame().size\n",
    "print(\"Current screen resolution:\", resolution)\n",
    "\n",
    "# Function to change the screen resolution\n",
    "def change_screen_resolution(display_id, width, height):\n",
    "    # Get the display object\n",
    "    display = CGDirectDisplay.displayWithDisplayID_(display_id)\n",
    "\n",
    "    # Set the new screen resolution\n",
    "    display.setMode_(int(width), int(height), 60, 0)\n",
    "\n",
    "# Change the screen resolution to 1920x1080\n",
    "change_screen_resolution(main_screen.displayID(), 1920, 1080)"
   ]
  }
 ],
 "metadata": {
  "kernelspec": {
   "display_name": "Python 3",
   "language": "python",
   "name": "python3"
  },
  "language_info": {
   "codemirror_mode": {
    "name": "ipython",
    "version": 3
   },
   "file_extension": ".py",
   "mimetype": "text/x-python",
   "name": "python",
   "nbconvert_exporter": "python",
   "pygments_lexer": "ipython3",
   "version": "3.9.13"
  },
  "orig_nbformat": 4,
  "vscode": {
   "interpreter": {
    "hash": "aee8b7b246df8f9039afb4144a1f6fd8d2ca17a180786b69acc140d282b71a49"
   }
  }
 },
 "nbformat": 4,
 "nbformat_minor": 2
}
