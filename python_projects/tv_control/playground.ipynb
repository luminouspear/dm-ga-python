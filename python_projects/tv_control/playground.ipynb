{
 "cells": [
  {
   "cell_type": "markdown",
   "metadata": {},
   "source": []
  },
  {
   "cell_type": "code",
   "execution_count": 11,
   "metadata": {},
   "outputs": [
    {
     "name": "stdout",
     "output_type": "stream",
     "text": [
      "starting json decoding\n",
      "com.webostv.app.hdmi2\n"
     ]
    }
   ],
   "source": [
    "import json\n",
    "\n",
    "with open('device_capabilities.json', 'r') as read_file:\n",
    "    print('starting json decoding')\n",
    "    device_capabilities = json.load(read_file)\n",
    "    try:\n",
    "        command_string = device_capabilities['inputs']['hdmi2']\n",
    "        print(command_string)\n",
    "    except (KeyError) as e:\n",
    "        print(e)\n",
    "    "
   ]
  },
  {
   "cell_type": "code",
   "execution_count": 16,
   "metadata": {},
   "outputs": [
    {
     "data": {
      "text/plain": [
       "'com.webostv.app.hdmi1'"
      ]
     },
     "execution_count": 16,
     "metadata": {},
     "output_type": "execute_result"
    }
   ],
   "source": [
    "import json\n",
    "\n",
    "def get_command_string(command_type, command):\n",
    "    with open('device_capabilities.json', 'r') as read_file:\n",
    "        device_capabilities = json.load(read_file)\n",
    "        try:\n",
    "            command_string = device_capabilities[command_type][command]\n",
    "            return command_string\n",
    "        except (KeyError) as e:\n",
    "            return e\n",
    "\n",
    "get_command_string('inputs', 'hdmi1')\n",
    "    "
   ]
  },
  {
   "cell_type": "markdown",
   "metadata": {},
   "source": [
    "# WTFields for validation:\n",
    "\n",
    "## Fields\n",
    "\n",
    "BooleanField\n",
    "DateField\n",
    "DateTimeField - Time added as well as date\n",
    "DecimalField - only decimal fields\n",
    "FileField - Upload files\n",
    "HiddenField\n",
    "MultipleField\n",
    "FieldList\n",
    "FloatField\n",
    "FormField\n",
    "IntegerField - Whole numbers\n",
    "PasswordField\n",
    "RadioField\n",
    "SelectField - Dropdowns\n",
    "SelectMultipleField \n",
    "SubmitField\n",
    "StringField\n",
    "TextAreaField - Square Box\n",
    "\n",
    "## Validators\n",
    "\n",
    "DataRequired\n",
    "Email\n",
    "EqualTo\n",
    "InputRequired\n",
    "IPAddress\n",
    "MacAddress\n",
    "Length\n",
    "NumberRange - ex 10-20 \n",
    "Optional\n",
    "Regexp\n",
    "URL - correct url?\n",
    "UUID\n",
    "AnyOf\n",
    "NoneOf"
   ]
  },
  {
   "cell_type": "code",
   "execution_count": 5,
   "metadata": {},
   "outputs": [
    {
     "name": "stdout",
     "output_type": "stream",
     "text": [
      "True\n"
     ]
    }
   ],
   "source": [
    "\n",
    "with open(\"device_output.json\", \"r\") as read_file:\n",
    "    device_output = json.load(read_file)\n",
    "\n",
    "    print(device_output['returnValue'])\n",
    "    "
   ]
  }
 ],
 "metadata": {
  "kernelspec": {
   "display_name": "Python 3.10.6 64-bit",
   "language": "python",
   "name": "python3"
  },
  "language_info": {
   "codemirror_mode": {
    "name": "ipython",
    "version": 3
   },
   "file_extension": ".py",
   "mimetype": "text/x-python",
   "name": "python",
   "nbconvert_exporter": "python",
   "pygments_lexer": "ipython3",
   "version": "3.10.6"
  },
  "orig_nbformat": 4,
  "vscode": {
   "interpreter": {
    "hash": "b0fa6594d8f4cbf19f97940f81e996739fb7646882a419484c72d19e05852a7e"
   }
  }
 },
 "nbformat": 4,
 "nbformat_minor": 2
}
