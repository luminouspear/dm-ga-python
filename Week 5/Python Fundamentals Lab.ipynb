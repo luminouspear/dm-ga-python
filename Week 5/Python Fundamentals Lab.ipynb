{
 "cells": [
  {
   "cell_type": "code",
   "execution_count": 5,
   "metadata": {},
   "outputs": [],
   "source": [
    "import os\n",
    "import csv\n",
    "\n",
    "command = \"\"\n",
    "\n",
    "\n",
    "\n",
    "def add_new_entry():\n",
    "    title = \"\"\n",
    "    expense_type = \"\"\n",
    "    amount = 0\n",
    "    date = \"\"\n",
    "\n",
    "    if not os.path.exists(\"./budget_output.csv\"):\n",
    "        with open(\"./budget_output.csv\", \"w\") as file:\n",
    "\n",
    "            writer = csv.writer(file)\n",
    "\n",
    "\n",
    "            title = input(\"Please enter a title: \")\n",
    "\n",
    "            while expense_type != \"e\" and expense_type != \"i\":\n",
    "                expense_type = input(\"Is this an [E]xpense or [I]ncome? \").lower()\n",
    "\n",
    "            expense_type = \"Income\" if expense_type == \"i\" else \"Expense\"\n",
    "\n",
    "            amount = input(\"Please enter an amount: \")\n",
    "\n",
    "            date = input(\"Please enter a date: \")\n",
    "\n",
    "            writer.writerow([title, expense_type, amount, date])\n",
    "\n",
    "\n",
    "while command != \"q\":\n",
    "    command = input(\n",
    "        \"Welcome to the Budget Tracker\\n\\nPress [a] to add a new entry.\\nPress [b] to display total account balance.\\nPress [c] to view all previous entries.\\nPress [q] to quit.\")\n",
    "\n",
    "    if command == \"a\":\n",
    "        add_new_entry()\n",
    "    elif command == \"b\":\n",
    "        display_total_account_bal()\n",
    "    elif command == \"c\":\n",
    "        display_all_account_entries()\n",
    "\n",
    "\n",
    "\n",
    "\n"
   ]
  }
 ],
 "metadata": {
  "kernelspec": {
   "display_name": "Python 3.9.12 64-bit",
   "language": "python",
   "name": "python3"
  },
  "language_info": {
   "codemirror_mode": {
    "name": "ipython",
    "version": 3
   },
   "file_extension": ".py",
   "mimetype": "text/x-python",
   "name": "python",
   "nbconvert_exporter": "python",
   "pygments_lexer": "ipython3",
   "version": "3.9.12"
  },
  "orig_nbformat": 4,
  "vscode": {
   "interpreter": {
    "hash": "aee8b7b246df8f9039afb4144a1f6fd8d2ca17a180786b69acc140d282b71a49"
   }
  }
 },
 "nbformat": 4,
 "nbformat_minor": 2
}
