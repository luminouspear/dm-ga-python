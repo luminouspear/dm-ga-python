{
 "cells": [
  {
   "cell_type": "markdown",
   "metadata": {},
   "source": [
    "#### 1. Running a Flask Server"
   ]
  },
  {
   "cell_type": "code",
   "execution_count": 16,
   "metadata": {},
   "outputs": [
    {
     "name": "stdout",
     "output_type": "stream",
     "text": [
      "__main__\n"
     ]
    }
   ],
   "source": [
    "print(__name__)"
   ]
  },
  {
   "cell_type": "code",
   "execution_count": 9,
   "metadata": {},
   "outputs": [
    {
     "name": "stdout",
     "output_type": "stream",
     "text": [
      "Note: you may need to restart the kernel to use updated packages.\n",
      " * Serving Flask app \"__main__\" (lazy loading)\n",
      " * Environment: production\n",
      "\u001b[31m   WARNING: This is a development server. Do not use it in a production deployment.\u001b[0m\n",
      "\u001b[2m   Use a production WSGI server instead.\u001b[0m\n",
      " * Debug mode: off\n"
     ]
    },
    {
     "name": "stderr",
     "output_type": "stream",
     "text": [
      "The filename, directory name, or volume label syntax is incorrect.\n",
      " * Running on http://127.0.0.1:5000/ (Press CTRL+C to quit)\n"
     ]
    }
   ],
   "source": [
    "%pip install flask\n",
    "from flask import Flask,request, render_template # import the Flask class to create an app\n",
    "\n",
    "app = Flask(__name__) # invoke the Flask clas\n",
    "\n",
    "@app.route('/') # define the first route, the home route\n",
    "def index(): # define the function that responds to the above route\n",
    "  return 'Hello, World!'\n",
    "\n",
    "if __name__ == '__main__':\n",
    "    app.run() # Start the server listening for requests"
   ]
  },
  {
   "cell_type": "markdown",
   "metadata": {},
   "source": [
    "#### 2. API Routes\n",
    "Create each of the seven RESTful routes for \"/reviews\", responding with a string describing what the route's purpose is. Note that, in order for these routes to be part of the app, you will have to move the app.run()  conditional statement to be the very last piece of code in the app."
   ]
  },
  {
   "cell_type": "code",
   "execution_count": 15,
   "metadata": {},
   "outputs": [
    {
     "name": "stdout",
     "output_type": "stream",
     "text": [
      " * Serving Flask app \"__main__\" (lazy loading)\n",
      " * Environment: production\n",
      "\u001b[31m   WARNING: This is a development server. Do not use it in a production deployment.\u001b[0m\n",
      "\u001b[2m   Use a production WSGI server instead.\u001b[0m\n",
      " * Debug mode: off\n"
     ]
    },
    {
     "name": "stderr",
     "output_type": "stream",
     "text": [
      " * Running on http://127.0.0.1:5000/ (Press CTRL+C to quit)\n",
      "127.0.0.1 - - [02/Feb/2022 18:44:27] \"GET /reviews HTTP/1.1\" 200 -\n",
      "127.0.0.1 - - [02/Feb/2022 18:44:28] \"POST /reviews HTTP/1.1\" 200 -\n",
      "127.0.0.1 - - [02/Feb/2022 18:44:32] \"GET /reviews HTTP/1.1\" 200 -\n"
     ]
    }
   ],
   "source": [
    "# A. index\n",
    "app = Flask(__name__) # invoke the Flask clas\n",
    "\n",
    "@app.route(\"/reviews\", methods=[\"GET\", \"POST\"])\n",
    "def index_review():\n",
    "    if request.method == \"GET\":\n",
    "        return render_template('demo.html')\n",
    "    elif request.method == \"POST\":\n",
    "        fname = request.form[\"fname\"]\n",
    "        lname = request.form[\"lname\"]\n",
    "        return f\"This route would be for creating a new profile, here name {fname} {lname} is created\"\n",
    "\n",
    "app.run()"
   ]
  },
  {
   "cell_type": "code",
   "execution_count": null,
   "metadata": {},
   "outputs": [],
   "source": [
    "# B. create\n",
    "# See above for handling multiple request types to the same URL address"
   ]
  },
  {
   "cell_type": "code",
   "execution_count": 6,
   "metadata": {
    "scrolled": true
   },
   "outputs": [],
   "source": [
    "# C. show\n",
    "# D. update\n",
    "# E. delete\n",
    "@app.route(\"/reviews/<id>\", methods=[\"GET\", \"PUT\", \"DELETE\"])\n",
    "def individual_review(id):\n",
    "    if request.method == \"GET\":\n",
    "        return \"This route would be to show the details page of an individual review\"\n",
    "    elif request.method == \"PUT\":\n",
    "        return \"This route would be for updating the specific review\"\n",
    "    elif request.method == \"DELETE\":\n",
    "        return \"This route would delete the specific review\""
   ]
  },
  {
   "cell_type": "code",
   "execution_count": null,
   "metadata": {},
   "outputs": [],
   "source": [
    "# F. new\n",
    "@app.route(\"/reviews/new\", methods=[\"GET\"])\n",
    "def new_review():\n",
    "    return \"This route would be to serve the user the form to create a new review\""
   ]
  },
  {
   "cell_type": "code",
   "execution_count": 21,
   "metadata": {},
   "outputs": [
    {
     "name": "stdout",
     "output_type": "stream",
     "text": [
      " * Serving Flask app \"__main__\" (lazy loading)\n",
      " * Environment: production\n",
      "\u001b[31m   WARNING: This is a development server. Do not use it in a production deployment.\u001b[0m\n",
      "\u001b[2m   Use a production WSGI server instead.\u001b[0m\n",
      " * Debug mode: off\n"
     ]
    },
    {
     "name": "stderr",
     "output_type": "stream",
     "text": [
      " * Running on http://127.0.0.1:5000/ (Press CTRL+C to quit)\n",
      "127.0.0.1 - - [02/Feb/2022 19:23:11] \"GET /reviews/usr/edit HTTP/1.1\" 200 -\n",
      "127.0.0.1 - - [02/Feb/2022 19:23:15] \"GET /reviews/chen/edit HTTP/1.1\" 200 -\n"
     ]
    }
   ],
   "source": [
    "# G. edit\n",
    "app = Flask(__name__) # invoke the Flask clas\n",
    "\n",
    "@app.route(\"/reviews/<id>/edit\", methods=[\"GET\"])\n",
    "def edit_review(id):\n",
    "    return f\"This route would show the form to edit the particular review for {id}\"\n",
    "\n",
    "app.run()"
   ]
  }
 ],
 "metadata": {
  "kernelspec": {
   "display_name": "Python 3",
   "language": "python",
   "name": "python3"
  },
  "language_info": {
   "codemirror_mode": {
    "name": "ipython",
    "version": 3
   },
   "file_extension": ".py",
   "mimetype": "text/x-python",
   "name": "python",
   "nbconvert_exporter": "python",
   "pygments_lexer": "ipython3",
   "version": "3.7.11"
  }
 },
 "nbformat": 4,
 "nbformat_minor": 4
}
