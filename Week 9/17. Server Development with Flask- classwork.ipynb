{
 "cells": [
  {
   "cell_type": "markdown",
   "metadata": {},
   "source": [
    "#### 1. Running a Flask Server"
   ]
  },
  {
   "cell_type": "code",
   "execution_count": 16,
   "metadata": {},
   "outputs": [
    {
     "data": {
      "text/plain": [
       "'player choose rock but computer choose paper thus score adds 0'"
      ]
     },
     "execution_count": 16,
     "metadata": {},
     "output_type": "execute_result"
    }
   ],
   "source": [
    "rps_results = pd.read_csv(r'C:\\Users\\Chen\\OneDrive\\PY_Nov\\Jupyter Notebooks\\rock_paper_scissors_results.csv')\n",
    "f\"player choose {rps_results['player_choice'][0]} but computer choose {rps_results['computer_choice'][0]} thus score adds {rps_results['result'][0]}\""
   ]
  },
  {
   "cell_type": "code",
   "execution_count": 20,
   "metadata": {},
   "outputs": [
    {
     "data": {
      "text/plain": [
       "'rock'"
      ]
     },
     "execution_count": 20,
     "metadata": {},
     "output_type": "execute_result"
    }
   ],
   "source": []
  },
  {
   "cell_type": "code",
   "execution_count": 29,
   "metadata": {},
   "outputs": [
    {
     "name": "stdout",
     "output_type": "stream",
     "text": [
      "Note: you may need to restart the kernel to use updated packages.\n",
      " * Serving Flask app \"__main__\" (lazy loading)\n",
      " * Environment: production\n",
      "\u001b[31m   WARNING: This is a development server. Do not use it in a production deployment.\u001b[0m\n",
      "\u001b[2m   Use a production WSGI server instead.\u001b[0m\n",
      " * Debug mode: off\n"
     ]
    },
    {
     "name": "stderr",
     "output_type": "stream",
     "text": [
      "The filename, directory name, or volume label syntax is incorrect.\n",
      " * Running on http://127.0.0.1:5000/ (Press CTRL+C to quit)\n",
      "127.0.0.1 - - [02/Feb/2022 20:40:55] \"GET / HTTP/1.1\" 404 -\n",
      "127.0.0.1 - - [02/Feb/2022 20:41:09] \"GET / HTTP/1.1\" 404 -\n",
      "127.0.0.1 - - [02/Feb/2022 20:41:51] \"GET /CHEN/display HTTP/1.1\" 200 -\n",
      "127.0.0.1 - - [02/Feb/2022 20:42:12] \"GET /Kerry/display HTTP/1.1\" 200 -\n"
     ]
    }
   ],
   "source": [
    "%pip install flask\n",
    "from flask import Flask, render_template # import the Flask class to create an app\n",
    "import pandas as pd\n",
    "\n",
    "app = Flask(__name__) # invoke the Flask clas\n",
    "\n",
    "@app.route('/<string_input>/display') # define the first route, the home route\n",
    "def what_to_do(string_input): # define the function that responds to the above route\n",
    "    return f\"hello world... you have given {string_input} before /display\"\n",
    "\n",
    "@app.route('/csv') # define the first route, the home route\n",
    "def what_to_do_csv(): # define the function that responds to the above route\n",
    "  rps_results = pd.read_csv(r'C:\\Users\\Chen\\OneDrive\\PY_Nov\\Jupyter Notebooks\\rock_paper_scissors_results.csv')\n",
    "  return f\"player choose {rps_results['player_choice'][0]} but computer choose {rps_results['computer_choice'][0]} thus score adds {rps_results['result'][0]}\"\n",
    "\n",
    "app.run() # Start the server listening for requests"
   ]
  },
  {
   "cell_type": "markdown",
   "metadata": {},
   "source": [
    "#### 2. API Routes\n",
    "Create each of the seven RESTful routes for \"/reviews\", responding with a string describing what the route's purpose is. Note that, in order for these routes to be part of the app, you will have to move the app.run()  conditional statement to be the very last piece of code in the app."
   ]
  },
  {
   "cell_type": "code",
   "execution_count": null,
   "metadata": {},
   "outputs": [],
   "source": [
    "#GET\n",
    "from flask import Flask, render_template # import the Flask class to create an app\n",
    "import pandas as pd\n",
    "\n",
    "app = Flask(__name__) # invoke the Flask class\n",
    "\n",
    "\n",
    "@app.route('/',methods='GET') # define the first route, the home route\n",
    "def what_to_do(string_input): # define the function that responds to the above route\n",
    "    return f\"hello world... you have given {string_input} before /display\"\n",
    "\n"
   ]
  },
  {
   "cell_type": "code",
   "execution_count": 47,
   "metadata": {},
   "outputs": [
    {
     "data": {
      "text/plain": [
       "'20220202-211056'"
      ]
     },
     "execution_count": 47,
     "metadata": {},
     "output_type": "execute_result"
    }
   ],
   "source": [
    "import datetime\n"
   ]
  },
  {
   "cell_type": "code",
   "execution_count": 50,
   "metadata": {},
   "outputs": [
    {
     "name": "stdout",
     "output_type": "stream",
     "text": [
      " * Serving Flask app \"__main__\" (lazy loading)\n",
      " * Environment: production\n",
      "\u001b[31m   WARNING: This is a development server. Do not use it in a production deployment.\u001b[0m\n",
      "\u001b[2m   Use a production WSGI server instead.\u001b[0m\n",
      " * Debug mode: off\n"
     ]
    },
    {
     "name": "stderr",
     "output_type": "stream",
     "text": [
      " * Running on http://127.0.0.1:5000/ (Press CTRL+C to quit)\n",
      "127.0.0.1 - - [02/Feb/2022 21:25:31] \"GET / HTTP/1.1\" 200 -\n"
     ]
    }
   ],
   "source": [
    "#POST\n",
    "#GET\n",
    "from flask import Flask, render_template,request # import the Flask class to create an app\n",
    "import pandas as pd\n",
    "import datetime\n",
    "\n",
    "app = Flask(__name__) # invoke the Flask class\n",
    "\n",
    "@app.route('/',methods=['GET','POST']) # define the first route, the home route\n",
    "def main_page(): # define the function that responds to the above route\n",
    "    if request.method == \"GET\":\n",
    "        return render_template('demo.html')\n",
    "    elif request.method == \"POST\":\n",
    "        first_name = request.form.get('fname')\n",
    "        last_name = request.form.get('lname')\n",
    "        df = pd.DataFrame([first_name,last_name])\n",
    "        ts = datetime.datetime.today().strftime(\"%Y%m%d-%H%M%S\")\n",
    "        df.to_csv('client_name'+ts+'.csv')\n",
    "        return f\"{request.form.get('fname')} {request.form.get('lname')} is saved as a csv on the harddrive\"\n",
    "\n",
    "@app.route('/page1',methods=['GET','POST']) # define the first route, the home route\n",
    "def page1(): # define the function that responds to the above route\n",
    "    if request.method == \"GET\":\n",
    "        return render_template('demo.html')\n",
    "    elif request.method == \"POST\":\n",
    "        first_name = request.form.get('fname')\n",
    "        last_name = request.form.get('lname')\n",
    "        df = pd.DataFrame([first_name,last_name])\n",
    "        ts = datetime.datetime.today().strftime(\"%Y%m%d-%H%M%S\")\n",
    "        df.to_csv('client_name'+ts+'.csv')\n",
    "        return f\"{request.form.get('fname')} {request.form.get('lname')} is saved as a csv on the harddrive\"\n",
    "\n",
    "\n",
    "app.run() # Start the server listening for requests\n"
   ]
  },
  {
   "cell_type": "code",
   "execution_count": null,
   "metadata": {},
   "outputs": [],
   "source": [
    "{'first_name':'Chen','last_name':'SHen'}"
   ]
  },
  {
   "cell_type": "code",
   "execution_count": null,
   "metadata": {},
   "outputs": [],
   "source": [
    "# A. index"
   ]
  },
  {
   "cell_type": "code",
   "execution_count": null,
   "metadata": {},
   "outputs": [],
   "source": [
    "# B. create"
   ]
  },
  {
   "cell_type": "code",
   "execution_count": null,
   "metadata": {},
   "outputs": [],
   "source": [
    "# C. show"
   ]
  },
  {
   "cell_type": "code",
   "execution_count": null,
   "metadata": {},
   "outputs": [],
   "source": [
    "# D. update"
   ]
  },
  {
   "cell_type": "code",
   "execution_count": null,
   "metadata": {},
   "outputs": [],
   "source": [
    "# E. delete"
   ]
  },
  {
   "cell_type": "code",
   "execution_count": null,
   "metadata": {},
   "outputs": [],
   "source": [
    "# F. new"
   ]
  },
  {
   "cell_type": "code",
   "execution_count": null,
   "metadata": {},
   "outputs": [],
   "source": [
    "# G. edit"
   ]
  }
 ],
 "metadata": {
  "kernelspec": {
   "display_name": "Python 3",
   "language": "python",
   "name": "python3"
  },
  "language_info": {
   "codemirror_mode": {
    "name": "ipython",
    "version": 3
   },
   "file_extension": ".py",
   "mimetype": "text/x-python",
   "name": "python",
   "nbconvert_exporter": "python",
   "pygments_lexer": "ipython3",
   "version": "3.7.11"
  }
 },
 "nbformat": 4,
 "nbformat_minor": 4
}
