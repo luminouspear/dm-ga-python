{
 "cells": [
  {
   "cell_type": "code",
   "execution_count": null,
   "metadata": {},
   "outputs": [],
   "source": [
    "# 3.1 Price Conditions\n",
    "# Translate the following logical decisions into python conditionals"
   ]
  },
  {
   "cell_type": "code",
   "execution_count": null,
   "metadata": {},
   "outputs": [],
   "source": [
    "# A. If the price is under 10, add 10% tax to the price. \n",
    "# Otherwise, add 15% luxury tax instead.\n",
    "price = 25"
   ]
  },
  {
   "cell_type": "code",
   "execution_count": null,
   "metadata": {},
   "outputs": [],
   "source": [
    "# B. If the customer's status is \"VIP\", lower the price by 20%\n",
    "customer = { \"name\": \"Lisa Su\", \"status\": \"VIP\" }"
   ]
  },
  {
   "cell_type": "code",
   "execution_count": null,
   "metadata": {},
   "outputs": [],
   "source": [
    "# C. Let's alter our advertising based on the price of the product, filling in the blank with the price\n",
    "#    i. If the price is less than 5, print \"For less than a cup of coffee, buy now for _____\"\n",
    "#.   ii. Otherwise, if the price is less than 20, print \"Good value. Great products. Buy now for _____\"\n",
    "#.   iii. Otherwise, print \"You get what you pay for. Get the most. Buy now for ______\""
   ]
  },
  {
   "cell_type": "code",
   "execution_count": null,
   "metadata": {},
   "outputs": [],
   "source": [
    "# D. Given this list of products, use a conditional to figure out which has the lower price.\n",
    "#.   Print a message saying \"Your best value is the _____ for only ______\"\n",
    "#.   Fill in the blanks with the name and price of the cheaper item, respectively\n",
    "bargain_bin = [\n",
    "    {\"name\": \"90s Comedy DVD\", \"price\": 2.99},\n",
    "    {\"name\": \"80s Drama DVD\", \"price\": 3.99}\n",
    "]"
   ]
  },
  {
   "cell_type": "code",
   "execution_count": null,
   "metadata": {},
   "outputs": [],
   "source": [
    "# 3.2 Complex Conditions"
   ]
  },
  {
   "cell_type": "code",
   "execution_count": null,
   "metadata": {},
   "outputs": [],
   "source": [
    "# A. Write a conditional that determines whether the letter is a vowel\n",
    "#.   Print a message stating \"___ is a vowel\" or \"___ is not a vowel\"\n",
    "letter = \"b\""
   ]
  },
  {
   "cell_type": "code",
   "execution_count": null,
   "metadata": {},
   "outputs": [],
   "source": [
    "# B. Determine whether the player beat the computer at rock, paper, scissors\n",
    "#    As a reminder, \"rock\" beats \"paper\", \"paper\" beats \"scissors\", and \"scissors\" beats \"rock\"\n",
    "#.   Print a message saying whether the player won, lost, or tied\n",
    "player_choice = \"rock\"\n",
    "computer_choice = \"scissors\""
   ]
  },
  {
   "cell_type": "code",
   "execution_count": null,
   "metadata": {},
   "outputs": [],
   "source": [
    "# C. Write the code that determines if the triangle is:\n",
    "#      equalateral - all three sides are equal in length\n",
    "#      scalene - all three sides are unequal in length\n",
    "#      isosceles - two sides are the same length\n",
    "side_a = 5\n",
    "side_b = 7\n",
    "side_c = 5"
   ]
  },
  {
   "cell_type": "code",
   "execution_count": null,
   "metadata": {},
   "outputs": [],
   "source": [
    "# D. Calculate what season it is based upon this chart:\n",
    "#      Dec 21 - Mar 19: Winter\n",
    "#      Mar 20 - Jun 20: Spring\n",
    "#      Jun 21 - Sep 21: Summer\n",
    "#      Sep 22 - Dec 20: Fall\n",
    "# Print the result as follows:\n",
    "#      <Mmm> <dd> is in <season> \n",
    "month = \"Sep\"\n",
    "day = 25"
   ]
  },
  {
   "cell_type": "code",
   "execution_count": null,
   "metadata": {},
   "outputs": [],
   "source": [
    "# E. The Farmer's Boat\n",
    "boat = {\n",
    "    \"has_fox\": True,\n",
    "    \"has_chicken\": False,\n",
    "    \"has_grain\": True\n",
    "}\n",
    "# 1. If all three properties are true, print \"The boat was too heavy and sank\"\n",
    "# 2. If the boat's has_fox and has_chicken properties are true, print \"The fox ate the chicken\" \n",
    "# 3. If the boat's has_chicken and has_grain propertes are true, print \"The chicken ate the grain\"\n",
    "# 4. If none of them are true, print \"The boat sank from disuse\"\n",
    "# 5. Otherwise, print \"The boat is in a valid, productive state. Go boat!\""
   ]
  }
 ],
 "metadata": {
  "kernelspec": {
   "display_name": "Python 3",
   "language": "python",
   "name": "python3"
  },
  "language_info": {
   "codemirror_mode": {
    "name": "ipython",
    "version": 3
   },
   "file_extension": ".py",
   "mimetype": "text/x-python",
   "name": "python",
   "nbconvert_exporter": "python",
   "pygments_lexer": "ipython3",
   "version": "3.7.6"
  }
 },
 "nbformat": 4,
 "nbformat_minor": 4
}
