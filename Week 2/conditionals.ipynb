{
 "cells": [
  {
   "cell_type": "code",
   "execution_count": 8,
   "metadata": {},
   "outputs": [
    {
     "name": "stdout",
     "output_type": "stream",
     "text": [
      "You are not eligible to vote.\n",
      "This city is too far.\n",
      "Let's do something else today.\n",
      "Fun stuff! Woo hoo!\n"
     ]
    }
   ],
   "source": [
    "age = 17\n",
    "\n",
    "if age >= 18:\n",
    "    print(\"You are eligible to vote.\")\n",
    "else:\n",
    "    print(\"You are not eligible to vote.\")\n",
    "\n",
    "city_one = 45\n",
    "city_two = 56\n",
    "\n",
    "if abs(city_one - city_two) > 10:\n",
    "    print(\"This city is too far.\")\n",
    "else:\n",
    "    print(\"This city is close enough.\")\n",
    "\n",
    "day_of_week = \"Tue\"\n",
    "\n",
    "if day_of_week == \"Mon\":\n",
    "    print(\"This is a good day for Python,\")\n",
    "else:\n",
    "    print(\"Let's do something else today.\")\n",
    "\n",
    "if day_of_week == \"Mon\":\n",
    "    print(\"if else\")\n",
    "elif day_of_week == \"Wed\":\n",
    "    print(\"Loops\")\n",
    "elif day_of_week == \"Fri\":\n",
    "    print(\"homework\")\n",
    "else:\n",
    "    print(\"Fun stuff! Woo hoo!\")"
   ]
  },
  {
   "cell_type": "code",
   "execution_count": 13,
   "metadata": {},
   "outputs": [
    {
     "name": "stdout",
     "output_type": "stream",
     "text": [
      "Go outside\n"
     ]
    }
   ],
   "source": [
    "# Compound statements in our if\n",
    "\n",
    "# if it is Monday and raining, stay inside\n",
    "\n",
    "day_of_week = \"Mon\"\n",
    "weather = \"sunny\"\n",
    "action = None\n",
    "\n",
    "if day_of_week == \"Mon\" and weather == \"rainy\":\n",
    "    action = \"Stay inside\"\n",
    "else:\n",
    "    action = \"Go outside\"\n",
    "\n",
    "print(action)"
   ]
  },
  {
   "cell_type": "code",
   "execution_count": 19,
   "metadata": {},
   "outputs": [
    {
     "name": "stdout",
     "output_type": "stream",
     "text": [
      "This is a consonant\n",
      "This is a consonant.\n"
     ]
    }
   ],
   "source": [
    "letter_one = \"a\"\n",
    "letter_two = \"b\"\n",
    "letter_three = \"i\"\n",
    "letter_four = \"u\"\n",
    "\n",
    "test = letter_two\n",
    "\n",
    "if test == \"a\" or test == \"e\" or test == \"i\" or test == \"o\" or test == \"u\":\n",
    "    print(\"This is a vowel\")\n",
    "else: \n",
    "    print(\"This is a consonant\")\n",
    "\n",
    "\n",
    "vowels = \"aeiou\"\n",
    "\n",
    "if test in vowels:\n",
    "    print(\"This is a vowel\")\n",
    "else:\n",
    "    print(\"This is a consonant.\")\n"
   ]
  },
  {
   "cell_type": "code",
   "execution_count": 22,
   "metadata": {},
   "outputs": [
    {
     "name": "stdout",
     "output_type": "stream",
     "text": [
      "Dan\n"
     ]
    }
   ],
   "source": [
    "# user input from keyboard\n",
    "\n",
    "name = input(\"Type your name here: \")\n",
    "print(name)"
   ]
  },
  {
   "cell_type": "code",
   "execution_count": 25,
   "metadata": {},
   "outputs": [
    {
     "name": "stdout",
     "output_type": "stream",
     "text": [
      "57\n"
     ]
    }
   ],
   "source": [
    "number_one = input(\"Enter first number: \")\n",
    "number_two = input(\"Enter second number: \")\n",
    "\n",
    "print(int(number_one) + int(number_two))"
   ]
  }
 ],
 "metadata": {
  "interpreter": {
   "hash": "31f2aee4e71d21fbe5cf8b01ff0e069b9275f58929596ceb00d14d90e3e16cd6"
  },
  "kernelspec": {
   "display_name": "Python 3.8.9 64-bit",
   "language": "python",
   "name": "python3"
  },
  "language_info": {
   "codemirror_mode": {
    "name": "ipython",
    "version": 3
   },
   "file_extension": ".py",
   "mimetype": "text/x-python",
   "name": "python",
   "nbconvert_exporter": "python",
   "pygments_lexer": "ipython3",
   "version": "3.8.9"
  },
  "orig_nbformat": 4
 },
 "nbformat": 4,
 "nbformat_minor": 2
}
