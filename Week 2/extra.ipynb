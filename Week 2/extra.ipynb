{
 "cells": [
  {
   "cell_type": "code",
   "execution_count": 9,
   "metadata": {},
   "outputs": [
    {
     "name": "stdout",
     "output_type": "stream",
     "text": [
      "381.5\n"
     ]
    }
   ],
   "source": [
    "import csv\n",
    "\n",
    "with open('uber_eats.csv') as data_file:\n",
    "    data = csv.reader(data_file)\n",
    "\n",
    "    uber_total = 0\n",
    "    row_count = 0\n",
    "    for row in data:\n",
    "        \n",
    "        if row_count > 0:\n",
    "            uber_total += float(row[2])\n",
    "        row_count += 1\n",
    "\n",
    "    print(uber_total)\n"
   ]
  }
 ],
 "metadata": {
  "interpreter": {
   "hash": "31f2aee4e71d21fbe5cf8b01ff0e069b9275f58929596ceb00d14d90e3e16cd6"
  },
  "kernelspec": {
   "display_name": "Python 3.8.9 64-bit",
   "language": "python",
   "name": "python3"
  },
  "language_info": {
   "codemirror_mode": {
    "name": "ipython",
    "version": 3
   },
   "file_extension": ".py",
   "mimetype": "text/x-python",
   "name": "python",
   "nbconvert_exporter": "python",
   "pygments_lexer": "ipython3",
   "version": "3.8.9"
  },
  "orig_nbformat": 4
 },
 "nbformat": 4,
 "nbformat_minor": 2
}
