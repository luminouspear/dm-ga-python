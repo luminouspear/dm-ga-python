{
 "cells": [
  {
   "cell_type": "code",
   "execution_count": 7,
   "metadata": {},
   "outputs": [
    {
     "name": "stdout",
     "output_type": "stream",
     "text": [
      "There are 9 vowels in your string.\n"
     ]
    }
   ],
   "source": [
    "# for loops\n",
    "\n",
    "my_string = input(\"Give me an arbitrary string, please?\")\n",
    "vowels = \"aeiouAEIOU\"\n",
    "vowel_counter = 0\n",
    "\n",
    "for letter in my_string:\n",
    "    if letter in vowels:\n",
    "        vowel_counter+=1\n",
    "print(\"There are \" + str(vowel_counter) + \" vowels in your string.\")"
   ]
  },
  {
   "cell_type": "code",
   "execution_count": 14,
   "metadata": {},
   "outputs": [
    {
     "name": "stdout",
     "output_type": "stream",
     "text": [
      "Found a zero.\n"
     ]
    }
   ],
   "source": [
    "#check if there is a zero in this list\n",
    "\n",
    "\n",
    "nums = [1,-1,-5,0,3,6,7]\n",
    "\n",
    "zero_flag = False\n",
    "\n",
    "for number in nums:\n",
    "    if number == 0:\n",
    "        zero_flag = True\n",
    "\n",
    "if zero_flag == True:\n",
    "    print(\"Found a zero.\")\n",
    "else:\n",
    "    print(\"No zero found.\")"
   ]
  },
  {
   "cell_type": "code",
   "execution_count": 15,
   "metadata": {},
   "outputs": [
    {
     "name": "stdout",
     "output_type": "stream",
     "text": [
      "13\n"
     ]
    }
   ],
   "source": [
    "#print the first odd number in the list\n",
    "\n",
    "my_nums = [0, 2, -6, 12, 13, 5, 24, 31, 3]\n",
    "\n",
    "for num in my_nums:\n",
    "    if num % 2 == 1:\n",
    "        print(num)\n",
    "        break"
   ]
  },
  {
   "cell_type": "code",
   "execution_count": 21,
   "metadata": {},
   "outputs": [
    {
     "name": "stdout",
     "output_type": "stream",
     "text": [
      "51 59 -8\n"
     ]
    }
   ],
   "source": [
    "# find the sum of all the numbers in a list\n",
    "\n",
    "temps = [-2, -5, -1, 0, 2, 5, 11, 7, 13, 21]\n",
    "total_temps = 0\n",
    "positive_total = 0\n",
    "negative_total = 0\n",
    "\n",
    "for temp in temps:\n",
    "    total_temps += temp\n",
    "    if temp > 0:\n",
    "        positive_total += temp\n",
    "    else:\n",
    "        negative_total += temp\n",
    "\n",
    "print(total_temps, positive_total, negative_total)\n",
    "\n",
    "#calculate two totals: total of the negative numbers, and total of the positive numbers\n",
    "\n"
   ]
  },
  {
   "cell_type": "code",
   "execution_count": 22,
   "metadata": {},
   "outputs": [
    {
     "name": "stdout",
     "output_type": "stream",
     "text": [
      "Pythn s mzng\n"
     ]
    }
   ],
   "source": [
    "#create a new string from this string with all the vowels removed\n",
    "\n",
    "\n",
    "string = \"Python is amazing\"\n",
    "vowels = \"aeiouAEIOU\"\n",
    "output_string = \"\"\n",
    "\n",
    "for letter in string:\n",
    "    if letter not in vowels:\n",
    "        output_string += letter\n",
    "\n",
    "print(output_string)"
   ]
  },
  {
   "cell_type": "code",
   "execution_count": 29,
   "metadata": {},
   "outputs": [
    {
     "name": "stdout",
     "output_type": "stream",
     "text": [
      "['Cancun', 'Los Cabos', 'New Orleans', 'Montego Bay', 'Rio De Janeiro', 'Los Cabos'] [1, 5]\n"
     ]
    }
   ],
   "source": [
    "# challenge\n",
    "\n",
    "cities = [\"Cancun\", \"Cozumel\", \"New Orleans\", \"Montego Bay\", \"Rio De Janeiro\", \"Cozumel\"]\n",
    "match_locations = []\n",
    "\n",
    "#find the position of Cozumel in the list\n",
    "# replace it with los Cabos\n",
    "\n",
    "for i in range(len(cities)):\n",
    "    if cities[i] == \"Cozumel\":\n",
    "        match_locations.append(i)\n",
    "        cities[i] = \"Los Cabos\"\n",
    "print(cities, match_locations)"
   ]
  },
  {
   "cell_type": "code",
   "execution_count": null,
   "metadata": {},
   "outputs": [
    {
     "name": "stdout",
     "output_type": "stream",
     "text": [
      "3\n"
     ]
    },
    {
     "data": {
      "text/plain": [
       "<range_iterator at 0x104404750>"
      ]
     },
     "execution_count": 24,
     "metadata": {},
     "output_type": "execute_result"
    }
   ],
   "source": [
    "#for loops using indeces\n",
    "\n",
    "# what if we want to know the index of a value in a list\n",
    "\n",
    "values = [-1, 5, 3, 7, 2, 8, 7, -11, 23]\n",
    "\n",
    "for i in range(len(values)):\n",
    "    if values[i] == 7:\n",
    "        print(i)\n",
    "        break\n"
   ]
  }
 ],
 "metadata": {
  "interpreter": {
   "hash": "31f2aee4e71d21fbe5cf8b01ff0e069b9275f58929596ceb00d14d90e3e16cd6"
  },
  "kernelspec": {
   "display_name": "Python 3.8.9 64-bit",
   "language": "python",
   "name": "python3"
  },
  "language_info": {
   "codemirror_mode": {
    "name": "ipython",
    "version": 3
   },
   "file_extension": ".py",
   "mimetype": "text/x-python",
   "name": "python",
   "nbconvert_exporter": "python",
   "pygments_lexer": "ipython3",
   "version": "3.8.9"
  },
  "orig_nbformat": 4
 },
 "nbformat": 4,
 "nbformat_minor": 2
}
