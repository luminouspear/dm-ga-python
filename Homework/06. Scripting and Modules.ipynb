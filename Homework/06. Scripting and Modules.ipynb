{
 "cells": [
  {
   "cell_type": "code",
   "execution_count": 1,
   "metadata": {},
   "outputs": [
    {
     "name": "stdout",
     "output_type": "stream",
     "text": [
      "0.51\n"
     ]
    }
   ],
   "source": [
    "# 6.1 Games of Chance\n",
    "import random\n",
    "# A. Simulate flipping a coin 100 times, then print the percentage of results that were \"heads\"\n",
    "\n",
    "#We need a way for us to do the same stuff (gennerate random number 0,1 X100) => for loop that loops 100 times (or N times)\n",
    "count_head = 0\n",
    "count_tail = 0\n",
    "for i in range(100):\n",
    "    #Within the loop, we need a counter to account for how many times we are flipping heads and tails\n",
    "    flip_outcome = random.randint(0,1)\n",
    "    if flip_outcome == 0: #head\n",
    "        count_head = count_head + 1\n",
    "    else:\n",
    "        count_tail = count_tail + 1\n",
    "\n",
    "#Outside loop, we need a calculator to find out the percentage of results that were head \n",
    "perc_head = count_head/100\n",
    "print(perc_head)\n"
   ]
  },
  {
   "cell_type": "code",
   "execution_count": 2,
   "metadata": {},
   "outputs": [],
   "source": [
    "#x = ['ariel','ammar','kerry','israel']\n"
   ]
  },
  {
   "cell_type": "code",
   "execution_count": 2,
   "metadata": {},
   "outputs": [
    {
     "name": "stdout",
     "output_type": "stream",
     "text": [
      "blue\n",
      "blue\n",
      "yellow\n"
     ]
    }
   ],
   "source": [
    "# B. Randomly choose an element until you choose \"yellow\", incrememting flips each time\n",
    "#    Print a message each time including how many flips have been executed and what the result was\n",
    "import random\n",
    "\n",
    "flip = 0\n",
    "blue = 0\n",
    "sides = [\"blue\", \"blue\", \"blue\", \"blue\", \"yellow\", \"blue\"]\n",
    "color_outcome = \"\"\n",
    "\n",
    "while ('yellow' != color_outcome):    \n",
    "    flip_outcome = random.randint(0,5)\n",
    "    color_outcome = sides[flip_outcome]\n",
    "    flip = flip + 1\n",
    "    print(f'{sides[flip_outcome]}')\n",
    "\n"
   ]
  },
  {
   "cell_type": "code",
   "execution_count": 3,
   "metadata": {},
   "outputs": [
    {
     "name": "stdout",
     "output_type": "stream",
     "text": [
      "Result: GREEN, GREEN, BLUE\n",
      "Better luck next time. Try again.\n",
      "Current Balance:\t6\n",
      "Result: BLUE, BLUE, BLUE\n",
      "All are the same! You win 2!\n",
      "Current Balance:\t5\n",
      "Result: GREEN, RED, GREEN\n",
      "Better luck next time. Try again.\n",
      "Current Balance:\t6\n",
      "Result: GREEN, GREEN, RED\n",
      "Better luck next time. Try again.\n",
      "Current Balance:\t5\n",
      "Result: GREEN, RED, GREEN\n",
      "Better luck next time. Try again.\n",
      "Current Balance:\t4\n",
      "Result: RED, RED, RED\n",
      "All are the same! You win 2!\n",
      "Current Balance:\t3\n",
      "Result: BLUE, BLUE, GREEN\n",
      "Better luck next time. Try again.\n",
      "Current Balance:\t4\n",
      "Result: GREEN, BLUE, BLUE\n",
      "Better luck next time. Try again.\n",
      "Current Balance:\t3\n",
      "Result: GREEN, GREEN, RED\n",
      "Better luck next time. Try again.\n",
      "Current Balance:\t2\n",
      "Result: BLUE, RED, GREEN\n",
      "All are different! You win 5!\n",
      "Current Balance:\t6\n",
      "Result: RED, RED, RED\n",
      "All are the same! You win 2!\n",
      "Current Balance:\t5\n",
      "Result: RED, BLUE, RED\n",
      "Better luck next time. Try again.\n",
      "Current Balance:\t6\n",
      "Result: RED, BLUE, GREEN\n",
      "All are different! You win 5!\n",
      "Current Balance:\t10\n"
     ]
    }
   ],
   "source": [
    "# C. Simulate a slot machine with the following rules:\n",
    "#    i. Each turn, the player loses 1 point and three random elements are chosen\n",
    "#    ii. If the three elements are all the same, the player wins 2 points\n",
    "#    iii. If all three elements are different, the player wins 5 points\n",
    "#    Continue taking turns until the player has 0 points or more than 10 points\n",
    "#    Each turn, print a message describing the outcome of the machine\n",
    "elements = [\"red\", \"green\", \"blue\"]\n",
    "player_points = 7\n",
    "\n",
    "def get_element(int):\n",
    "    if int == 1:\n",
    "        return \"red\"\n",
    "    if int == 2:\n",
    "        return \"green\"\n",
    "    if int == 3:\n",
    "        return \"blue\"\n",
    "\n",
    "\n",
    "while player_points > 0 and player_points < 10:\n",
    "    slot_one = get_element(random.randint(1, 3))\n",
    "    slot_two = get_element(random.randint(1, 3))\n",
    "    slot_three = get_element(random.randint(1, 3))\n",
    "\n",
    "    player_points -= 1\n",
    "    print(f'Result: {slot_one.upper()}, {slot_two.upper()}, {slot_three.upper()}')\n",
    "\n",
    "    if slot_one == slot_two and slot_one == slot_three:\n",
    "        print(f\"All are the same! You win 2!\\nCurrent Balance:\\t{player_points}\")\n",
    "        player_points += 2\n",
    "    elif slot_one != slot_two and slot_one != slot_three and slot_two != slot_three:\n",
    "        player_points += 5\n",
    "        print(\n",
    "            f\"All are different! You win 5!\\nCurrent Balance:\\t{player_points}\")\n",
    "    else:\n",
    "        print(\n",
    "            f\"Better luck next time. Try again.\\nCurrent Balance:\\t{player_points}\")\n",
    "\n",
    "\n",
    "    \n"
   ]
  },
  {
   "cell_type": "code",
   "execution_count": 5,
   "metadata": {},
   "outputs": [
    {
     "name": "stdout",
     "output_type": "stream",
     "text": [
      "Space Needle has lat 47.62053000000003 and lon of -122.34927999999996\n"
     ]
    }
   ],
   "source": [
    "# 6.2 GeoCoder Road Trip\n",
    "destinations = [\"Space Needle\",\n",
    "                \"Crater Lake\",\n",
    "                \"Golden Gate Bridge\",\n",
    "                \"Yosemite National Park\",\n",
    "                \"Las Vegas, Nevada\",\n",
    "                \"Grand Canyon National Park\",\n",
    "                \"Aspen, Colorado\",\n",
    "                \"Mount Rushmore\",\n",
    "                \"Yellowstone National Park\",\n",
    "                \"Sandpoint, Idaho\",\n",
    "                \"Banff National Park\",\n",
    "                \"Capilano Suspension Bridge\"]\n",
    "\n",
    "# A. Install and import the geocoder library: https://geocoder.readthedocs.io/index.html\n",
    "#    Then, print a statement describing the latitude and longitude of our first destination, Space Needle\n",
    "\n",
    "import geocoder\n",
    "i = 0\n",
    "\n",
    "location_0 = geocoder.arcgis(destinations[i])\n",
    "\n",
    "print(f'{destinations[i]} has lat {location_0.lat} and lon of {location_0.lng}')\n",
    "\n"
   ]
  },
  {
   "cell_type": "code",
   "execution_count": 29,
   "metadata": {},
   "outputs": [
    {
     "name": "stdout",
     "output_type": "stream",
     "text": [
      "''''hello\n"
     ]
    }
   ],
   "source": []
  },
  {
   "cell_type": "code",
   "execution_count": 16,
   "metadata": {},
   "outputs": [
    {
     "name": "stdout",
     "output_type": "stream",
     "text": [
      "36.058200000000056\n"
     ]
    }
   ],
   "source": [
    "# B. Find the farthest south destination (the result with the lowest latitude)\n",
    "latitudes = []\n",
    "\n",
    "\n",
    "for index in range(len(destinations)):\n",
    "    location = geocoder.arcgis(destinations[index])\n",
    "    latitudes.append(location.lat)\n",
    "\n",
    "sorted_lats = latitudes.sort()\n",
    "\n",
    "print(sorted_lats[0])"
   ]
  },
  {
   "cell_type": "code",
   "execution_count": 22,
   "metadata": {},
   "outputs": [
    {
     "name": "stdout",
     "output_type": "stream",
     "text": [
      "[-122.34927999999996, -122.14828999999997, -122.47846999999996, -119.58848999999998, -115.14000999999996, -112.11089999999996, -106.81817999999998, -103.45879999999994, -110.69993999999997, -116.54780999999997, -115.57079999999996, -123.11394999999999]\n"
     ]
    }
   ],
   "source": [
    "# C. For each destination, describe the direction being traveled from the previous destination\n",
    "\n",
    "\n",
    "longitudes = [geocoder.arcgis(destinations[index]).lng for index in range(len(destinations))]\n",
    "\n",
    "print(longitudes)\n",
    "\n"
   ]
  },
  {
   "cell_type": "code",
   "execution_count": 29,
   "metadata": {},
   "outputs": [
    {
     "name": "stdout",
     "output_type": "stream",
     "text": [
      "First we start at Space Needle.\n",
      "Next we travel Southeast to Crater Lake.\n",
      "Next we travel Northwest to Golden Gate Bridge.\n",
      "Next we travel Southwest to Yosemite National Park.\n",
      "Next we travel Northwest to Las Vegas, Nevada.\n",
      "Next we travel Northwest to Grand Canyon National Park.\n",
      "Next we travel Northwest to Aspen, Colorado.\n",
      "Next we travel Northwest to Mount Rushmore.\n",
      "Next we travel Northwest to Yellowstone National Park.\n",
      "Next we travel Northwest to Sandpoint, Idaho.\n",
      "Next we travel Northwest to Banff National Park.\n",
      "Next we travel Northwest to Capilano Suspension Bridge.\n"
     ]
    }
   ],
   "source": [
    "#    Hint: You can keep track of where we are using current_lat and current_lng variables\n",
    "#    If the next destination has a greater latitude, it means we're going North\n",
    "#    If the next destination has a greater longitude, it means we're going West\n",
    "#    Print a message in the following format: \"Next, we travel SouthWest to XXXXX\"\n",
    "\n",
    "lats_and_longs = zip(latitudes, longitudes)\n",
    "old_lat = 0\n",
    "old_long = 0\n",
    "i = 0\n",
    "\n",
    "for lat, long in list(lats_and_longs):\n",
    "    output_string = f\"Next we travel {location_string} to {destinations[i]}.\" if old_lat != 0 else f\"First we start at {destinations[0]}.\"\n",
    "    i+=1\n",
    "\n",
    "    location_string = \"\"\n",
    "\n",
    "    old_long = long if old_long == 0 else old_long\n",
    "    old_lat = lat if old_lat == 0 else old_lat\n",
    "\n",
    "    location_string = \"North\" if long > old_long else \"South\"\n",
    "\n",
    "    location_string += \"West\" if lat > old_lat else \"East\"\n",
    "\n",
    "    location_string = location_string.capitalize()\n",
    "\n",
    "    print(output_string)\n"
   ]
  },
  {
   "cell_type": "code",
   "execution_count": null,
   "metadata": {},
   "outputs": [],
   "source": [
    "# 6.3 So Much To Do\n",
    "# Reading code can be just as important as writing code!\n",
    "# Add a comment to each line of this python script, attempting to explain what it does\n",
    "\n",
    "with open(\"./to_do_list.txt\", \"a+\") as file: # open file for reading, writing and appending. \"With\" means this will only stay open as long as the code below is executing.\n",
    "    print(\"Welcome to ToDoVille! Here are your items:\")\n",
    "    file.seek(0) # go to the start of the file\n",
    "    lines = file.readlines() # stores the output (a list of all the lines in teh document) of readlines in the lines variable.\n",
    "    for line in lines: # iterates through all the lines in the lines variable one at a time\n",
    "        print(line) # prints each line\n",
    "    current_command = \"\" #initializes current_command\n",
    "    while(current_command != \"q\"): #waits until the user hits q to quit.\n",
    "        current_command = input(\"Awaiting further commands. [q] to quit, [a] to add new item, [p] to print list: \") #Asks the user for input\n",
    "        if(current_command == \"a\"): #if input is a\n",
    "            new_item = input(\"Type your todo below: \") #asks for input with the current prompt\n",
    "            file.write(new_item + \"\\n\")  #writes wahtever you wrote into the file with a new line\n",
    "        elif(current_command == \"p\"): # when the user hits p\n",
    "            file.seek(0) # we go back to the beginning\n",
    "            lines = file.readlines() # we store all the lines into lines agin\n",
    "            for line in lines: # and then print every line individually.\n",
    "                print(line)"
   ]
  },
  {
   "cell_type": "code",
   "execution_count": 40,
   "metadata": {},
   "outputs": [],
   "source": [
    "# 6.4 Writing to CSV\n",
    "\n",
    "import csv\n",
    "\n",
    "employees = [\n",
    "  {\n",
    "    \"first_name\": \"Hennah\", \n",
    "    \"last_name\": \"Chadwick\",\n",
    "    \"job_title\": \"Vice President\",\n",
    "    \"hire_date\": 1985,\n",
    "    \"performance_review\": \"excellent\"\n",
    "  }, {\n",
    "    \"first_name\": \"Michael\", \n",
    "    \"last_name\": \"Bolton\",\n",
    "    \"job_title\": \"Programmer\",\n",
    "    \"hire_date\": 1995,\n",
    "    \"performance_review\": \"poor\"\n",
    "  }, {\n",
    "    \"first_name\": \"Ellesse\", \n",
    "    \"last_name\": \"Jaramillo\",\n",
    "    \"job_title\": \"Programmer\",\n",
    "    \"hire_date\": 1989,\n",
    "    \"performance_review\": \"poor\"\n",
    "  }, {\n",
    "    \"first_name\": \"Samir\", \n",
    "    \"last_name\": \"Nagheenanajar\",\n",
    "    \"job_title\": \"Programmer\",\n",
    "    \"hire_date\": 1974,\n",
    "    \"performance_review\": \"fair\"\n",
    "  }, {\n",
    "    \"first_name\": \"Milton\", \n",
    "    \"last_name\": \"Waddams\",\n",
    "    \"job_title\": \"Collator\",\n",
    "    \"hire_date\": 1974,\n",
    "    \"performance_review\": \"does he even work here?\"\n",
    "  }, {\n",
    "    \"first_name\": \"Bob\", \n",
    "    \"last_name\": \"Porter\",\n",
    "    \"job_title\": \"Consultant\",\n",
    "    \"hire_date\": 1999,\n",
    "    \"performance_review\": \"excellent\"\n",
    "  }, {\n",
    "    \"first_name\": \"Bob\", \n",
    "    \"last_name\": \"Slydell\",\n",
    "    \"job_title\": \"Consultant\",\n",
    "    \"hire_date\": 1999,\n",
    "    \"performance_review\": \"excellent\"\n",
    "  }\n",
    "]\n",
    "# A. Write the above list of dictionaries to a csv file\n",
    "#    Include a column named \"action_item\" with the following logic:\n",
    "#    If the performance_review is \"poor\" the action_item should be \"terminate\"\n",
    "#    If the performance_review is \"excellent\" the action_item should be \"bonus\"\n",
    "#    Otherwise, the action_item should be \"attend GA workshop\"\n",
    "\n",
    "\n",
    "def evaluate_employee(emp):\n",
    "  review = str(emp.get(\"performance_review\"))\n",
    "\n",
    "  if review == \"excellent\":\n",
    "    return \"bonus\"\n",
    "  elif review == \"poor\":\n",
    "    return \"terminate\"\n",
    "  else:\n",
    "    return \"attend GA workshop\"\n",
    "\n",
    "with open('06_scripting_output.csv', 'a') as df:\n",
    "  \n",
    "\n",
    "  action_item = \"\"\n",
    "  writer = csv.writer(df)\n",
    "\n",
    "  writer.writerow([\"First Name\", \"Last Name\", \"Job Title\", \"Hire Date\", \"Performance Review\", \"Action Item\"])\n",
    "  for emp in employees:\n",
    "    action_item = evaluate_employee(emp)\n",
    "    first_name = emp.get(\"first_name\")\n",
    "    last_name = emp.get(\"last_name\")\n",
    "    job_title = emp.get(\"job_title\")\n",
    "    hire_date = emp.get(\"hire_date\")\n",
    "    review = emp.get(\"performance_review\")\n",
    "    writer.writerow([str(first_name), str(last_name), str(job_title), int(hire_date), str(review), str(action_item)])\n",
    "\n",
    "\n"
   ]
  },
  {
   "cell_type": "code",
   "execution_count": 32,
   "metadata": {},
   "outputs": [
    {
     "ename": "IndentationError",
     "evalue": "expected an indented block (1878356857.py, line 14)",
     "output_type": "error",
     "traceback": [
      "\u001b[0;36m  Input \u001b[0;32mIn [32]\u001b[0;36m\u001b[0m\n\u001b[0;31m    def store_result(player_choice, computer_choice, result, file):\u001b[0m\n\u001b[0m                                                                   ^\u001b[0m\n\u001b[0;31mIndentationError\u001b[0m\u001b[0;31m:\u001b[0m expected an indented block\n"
     ]
    }
   ],
   "source": [
    "# 6.5 Stretch Goal: Ultimate RPS Challenge\n",
    "# Complete the following game to create csv records of each round's results\n",
    "import random\n",
    "import os\n",
    "choices = [\"rock\", \"paper\", \"scissors\"]\n",
    "headings = [\"player_choice\", \"computer_choice\", \"result\"]\n",
    "\n",
    "# This is the logic to create the results csv if it doesn't exist already\n",
    "if not os.path.exists(\"./rock_paper_scissors_results.csv\"):\n",
    "    with open(\"./rock_paper_scissors_results.csv\", \"w\") as file:\n",
    "        # A. Use csv.DictWriter to write the headings into the file\n",
    "        \n",
    "def store_result(player_choice, computer_choice, result, file):\n",
    "    # B. This function should write game results to the csv file using csv.DictWriter\n",
    "        \n",
    "with open(\"./rock_paper_scissors_results.csv\", \"a+\") as file:\n",
    "    current_choice = \"\"\n",
    "    print(\"Welcome to the arena of RPS!\")\n",
    "    while(current_choice != \"q\"):\n",
    "        # C. Solicit the user's input of the three choices. Include a choice to hit q to quit as well.\n",
    "        \n",
    "        # D. Set a variable named computer_choice equal to a random choice from the choices list\n",
    "\n",
    "        if(current_choice == \"rock\"):\n",
    "            if(computer_choice == \"paper\"):\n",
    "                store_result(current_choice, computer_choice, \"loss\", file)\n",
    "            elif(computer_choice == \"scissors\"):\n",
    "                store_result(current_choice, computer_choice, \"win\", file)\n",
    "            else:\n",
    "                store_result(current_choice, computer_choice, \"tie\", file)\n",
    "        elif(current_choice == \"paper\"):\n",
    "            if(computer_choice == \"scissors\"):\n",
    "                store_result(current_choice, computer_choice, \"loss\", file)\n",
    "            elif(computer_choice == \"rock\"):\n",
    "                store_result(current_choice, computer_choice, \"win\", file)\n",
    "            else:\n",
    "                store_result(current_choice, computer_choice, \"tie\", file)\n",
    "        elif(current_choice == \"scissors\"):\n",
    "            if(computer_choice == \"rock\"):\n",
    "                store_result(current_choice, computer_choice, \"loss\", file)\n",
    "            elif(computer_choice == \"paper\"):\n",
    "                store_result(current_choice, computer_choice, \"win\", file)\n",
    "            else:\n",
    "                store_result(current_choice, computer_choice, \"tie\", file)\n",
    "        elif(current_choice != \"q\"):\n",
    "            print(\"Invalid choice! Try again.\")\n",
    "            \n",
    "\n",
    "with open(\"./rock_paper_scissors_results.csv\", \"r\") as file:\n",
    "    wins = 0\n",
    "    losses = 0\n",
    "    # E. Analyze the csv of results by counting how many wins and losses there have been using csv.DictReader\n",
    "    #    Print a message listing the total wins and losses in the csv\n"
   ]
  }
 ],
 "metadata": {
  "kernelspec": {
   "display_name": "Python 3.9.12 64-bit",
   "language": "python",
   "name": "python3"
  },
  "language_info": {
   "codemirror_mode": {
    "name": "ipython",
    "version": 3
   },
   "file_extension": ".py",
   "mimetype": "text/x-python",
   "name": "python",
   "nbconvert_exporter": "python",
   "pygments_lexer": "ipython3",
   "version": "3.9.12"
  },
  "vscode": {
   "interpreter": {
    "hash": "aee8b7b246df8f9039afb4144a1f6fd8d2ca17a180786b69acc140d282b71a49"
   }
  }
 },
 "nbformat": 4,
 "nbformat_minor": 4
}
