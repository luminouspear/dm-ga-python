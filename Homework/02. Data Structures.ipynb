{
 "cells": [
  {
   "cell_type": "code",
   "execution_count": 4,
   "metadata": {},
   "outputs": [
    {
     "name": "stdout",
     "output_type": "stream",
     "text": [
      "The colors of the rainbow are red, orange, yellow, green, blue, indigo, and violet\n",
      "Lightning Yellow Deep Sea Blue\n",
      "['Red', 'Orange', 'Lightning Yellow', 'Green', 'Deep Sea Blue', 'Indigo', 'Violet']\n"
     ]
    }
   ],
   "source": [
    "# 2.1 Colors of the Rainbow\n",
    "# A. Make a list called colors that stores 7 strings, each a color of the rainbow\n",
    "\n",
    "colors = [\"Red\", \"Orange\", \"Yellow\", \"Green\", \"Blue\", \"Indigo\", \"Violet\"]\n",
    "\n",
    "# B. Then, print the following string, using list indices to access the specific colors:\n",
    "# \"The colors of the rainbow are red, orange, yellow, green, blue, indigo, and violet\"\n",
    "#  String concatenation might get a bit complex to read: try using an f-string for string interpolation!\n",
    "\n",
    "print(\n",
    "    f'The colors of the rainbow are {colors[0].lower()}, {colors[1].lower()}, {colors[2].lower()}, {colors[3].lower()}, {colors[4].lower()}, {colors[5].lower()}, and {colors[6].lower()}')\n",
    "\n",
    "# C. Change two of the colors to more descriptive names, such as \"Lightning Yellow\" or \"Deep Sea Blue\"\n",
    "\n",
    "colors[2] = \"Lightning Yellow\"\n",
    "colors[4] = \"Deep Sea Blue\"\n",
    "# D. Print the two new color names using list indices to access them\n",
    "\n",
    "print(f'{colors[2]} {colors[4]}')\n",
    "\n",
    "# E. Print the colors variable to see the difference between printing a specific item and printing the list itself\n",
    "print(colors)"
   ]
  },
  {
   "cell_type": "code",
   "execution_count": 17,
   "metadata": {},
   "outputs": [
    {
     "name": "stdout",
     "output_type": "stream",
     "text": [
      "['Alice', 'Boris', 'Carmen']\n",
      "['Alice', 'Boris', 'Carmen', 'Diego']\n",
      "['Aaron', 'Alyce', 'Boris', 'Carmen', 'Diego']\n",
      "Boris is in position 2\n",
      "['Aaron', 'Alyce', 'Boris', 'Diego']\n",
      "['Alyce', 'Boris', 'Diego']\n",
      "['Alyce', 'DeSean', 'Boris', 'Diego']\n"
     ]
    }
   ],
   "source": [
    "# 2.2 The Wait List\n",
    "# You will have to research some new methods to use for these challenges\n",
    "# You can use print statements to investigate whether your changes have succeeded as expected\n",
    "candidates = [\n",
    "    \"Alice\", \n",
    "    \"Boris\", \n",
    "    \"Carmen\"\n",
    "    ]\n",
    "\n",
    "print(candidates)\n",
    "# A. A promising new applicant, Diego, needs to be added to the end of the list\n",
    "\n",
    "candidates.append(\"Diego\")\n",
    "\n",
    "# B. Alice has informed us of a typo on their application: change their name to \"Alyce\"\n",
    "print(candidates)\n",
    "candidates[0] = \"Alyce\"\n",
    "\n",
    "# C. One of our generous donors has a nephew, Aaron, who should be added to the very front of the list\n",
    "\n",
    "candidates.insert(0, \"Aaron\")\n",
    "\n",
    "print(candidates)\n",
    "\n",
    "# D. Boris's parents are concerned. Use the .index() method to print a message explaining Boris's place in the list\n",
    "\n",
    "print(f\"Boris is in position {candidates.index('Boris')}\")\n",
    "\n",
    "# E. Carmen is upset by the priority given to relatives of donors, and has withdrawn their application.\n",
    "#    Use the .remove() method to remove them from the list.\n",
    "\n",
    "candidates.remove(\"Carmen\")\n",
    "\n",
    "print(candidates)\n",
    "# F. Use a method to remove the very first student in the list, as they have now been accepted!\n",
    "\n",
    "candidates.pop(0)\n",
    "print(candidates)\n",
    "\n",
    "# G. DeSean has submitted an impressive personal statement. Place them at index 1 by using .insert()\n",
    "candidates.insert(1, \"DeSean\")\n",
    "\n",
    "\n",
    "# H. We've been audited by the Board for Educational Fairness! Print the list of candidates.\n",
    "#    It should look like this: [\"Alyce\", \"DeSean\", Boris\", \"Diego\"]\n",
    "print(candidates)\n"
   ]
  },
  {
   "cell_type": "code",
   "execution_count": 22,
   "metadata": {},
   "outputs": [
    {
     "name": "stdout",
     "output_type": "stream",
     "text": [
      "{'address': '123 Fake Street', 'price': 750000, 'bedrooms': 3, 'zip_code': '95404'}\n",
      "This 3 bedroom house costs $750000\n",
      "825000.0000000001\n",
      "Price per square foot is: $1100.0\n",
      "{'address': '123 Fake Street', 'price': 825000.0000000001, 'bedrooms': 3, 'zip_code': '95404', 'sq_ft': 750, 'status': 'sold'}\n"
     ]
    }
   ],
   "source": [
    "# 2.3 Key Value Properties\n",
    "# Use the house dictionary for the following challenges\n",
    "house = { \"address\": \"123 Fake Street\", \"price\": 750000, \"bedrooms\": 3}\n",
    "\n",
    "# A. Buyers can't find the house without a zip code! Add a zip_code property equal to \"95404\"\n",
    "\n",
    "house['zip_code'] = \"95404\"\n",
    "\n",
    "print(house)\n",
    "# B. Our web designers want a statement reading: \"This 3 bedroom house costs 250000\"\n",
    "#    Print that statement by accessing the values from the dictionary: do NOT \"hard-code\" the string!\n",
    "print(f\"This 3 bedroom house costs ${house['price']}\")\n",
    "\n",
    "\n",
    "# C. We're getting a lot of interest in the house! Let's increase the price by 10%\n",
    "\n",
    "house['price'] *= 1.1\n",
    "\n",
    "print(house['price'])\n",
    "\n",
    "# D. Buyers are surprised at how small the house is. Let's add a square_feet property equal to 750\n",
    "\n",
    "house['sq_ft'] = 750\n",
    "\n",
    "# E. We want to show off the value per foot. Print a message explaining the price per square foot.\n",
    "\n",
    "print(f\"Price per square foot is: ${house['price']//house['sq_ft']}\")\n",
    "\n",
    "# F. After 2 long hours on the market, the house has finally sold! Add a status property equal to \"sold\"\n",
    "\n",
    "house['status'] = 'sold'\n",
    "\n",
    "# G. Print the entire listing. You should see a dictionary similar to the following:\n",
    "# {address: \"123 Fake Street\", price: 825000, bedrooms: 3, zip_code: \"95404\" square_feet: 750, status: \"sold\"}\n",
    "\n",
    "print(house)"
   ]
  },
  {
   "cell_type": "code",
   "execution_count": 24,
   "metadata": {},
   "outputs": [],
   "source": [
    "# 2.4 Python Librarian\n",
    "\n",
    "authors = {\n",
    "    \"Arundhati Roy\": {\n",
    "        \"genre\": \"literary fiction\",\n",
    "        \"books\": [\n",
    "            \"The God of Small Things\",\n",
    "            \"The Ministry of Utmost Happiness\"\n",
    "        ],\n",
    "        \"active\": True\n",
    "    },\n",
    "    \"Brandon Sanderson\": {\n",
    "        \"genre\": \"fantasy\",\n",
    "        \"books\": [\n",
    "            \"The Way of Kings\",\n",
    "            \"Words of Radiance\",\n",
    "            \"Oathbringer\"\n",
    "        ],\n",
    "        \"active\": True,\n",
    "        \"phone\": {\n",
    "            \"home\": \"(281) 330-8004\",\n",
    "            \"work\": \"(877) CASH-NOW\"\n",
    "        }\n",
    "    },\n",
    "    \"Kobo Abe\": {\n",
    "        \"genre\": \"absurdist fiction\",\n",
    "        \"books\": [\n",
    "            \"The Woman in the Dunes\",\n",
    "            \"The Face of Another\"\n",
    "        ],\n",
    "        \"active\": False\n",
    "    },\n",
    "}"
   ]
  },
  {
   "cell_type": "code",
   "execution_count": 26,
   "metadata": {},
   "outputs": [
    {
     "name": "stdout",
     "output_type": "stream",
     "text": [
      "The God of Small Things\n"
     ]
    }
   ],
   "source": [
    "# A. Access and print Arundhati Roy's first book\n",
    "\n",
    "print(authors['Arundhati Roy']['books'][0])"
   ]
  },
  {
   "cell_type": "code",
   "execution_count": 27,
   "metadata": {},
   "outputs": [
    {
     "name": "stdout",
     "output_type": "stream",
     "text": [
      "(877) CASH-NOW\n"
     ]
    }
   ],
   "source": [
    "# B. We need to contact Brandon at work: access and print their work phone number\n",
    "\n",
    "print(authors['Brandon Sanderson']['phone']['work'])"
   ]
  },
  {
   "cell_type": "code",
   "execution_count": 33,
   "metadata": {},
   "outputs": [
    {
     "name": "stdout",
     "output_type": "stream",
     "text": [
      "['literary fiction', 'fantasy', 'absurdist fiction']\n"
     ]
    }
   ],
   "source": [
    "# C. Create a list composed of all the genres available in our library\n",
    "genres = []\n",
    "\n",
    "for k, v in authors.items():\n",
    "    genres.append(authors[k]['genre'])\n",
    "\n",
    "print(genres)"
   ]
  },
  {
   "cell_type": "code",
   "execution_count": 37,
   "metadata": {},
   "outputs": [
    {
     "name": "stdout",
     "output_type": "stream",
     "text": [
      "['The God of Small Things', 'The Ministry of Utmost Happiness', 'The Way of Kings', 'Words of Radiance', 'Oathbringer', 'The Woman in the Dunes', 'The Face of Another']\n"
     ]
    }
   ],
   "source": [
    "# D. Create a list of all books available in our library\n",
    "\n",
    "books = []\n",
    "\n",
    "for k, v in authors.items():\n",
    "    for book in authors[k]['books']:\n",
    "        books.append(book)\n",
    "\n",
    "print(books)"
   ]
  },
  {
   "cell_type": "code",
   "execution_count": 39,
   "metadata": {},
   "outputs": [
    {
     "name": "stdout",
     "output_type": "stream",
     "text": [
      "literary fiction\n"
     ]
    }
   ],
   "source": [
    "# E. Arundhati has decided to expand their range of genres and tackle non-fiction\n",
    "#    Modify their \"genre\" property to now be a list that also includes non-fiction\n",
    "\n",
    "list(authors['Arundhati Roy']['genre']).append(\"non-fiction\")\n",
    "\n",
    "print(authors['Arundhati Roy']['genre'])"
   ]
  },
  {
   "cell_type": "code",
   "execution_count": null,
   "metadata": {},
   "outputs": [],
   "source": [
    "# F. Brandon Sanderson is retiring. Change their active property to False.\n",
    "#    BONUS: This means we should no longer contact them. Delete their \"phone\" property"
   ]
  },
  {
   "cell_type": "code",
   "execution_count": null,
   "metadata": {},
   "outputs": [],
   "source": [
    "# G. Add a new author to our collection of your choice. Make sure they have:\n",
    "#    i. A genre property equal to a string or list of strings\n",
    "#    ii. A books property equal to a list of strings\n",
    "#    iii. An active property equal to a boolean\n",
    "#    iv. Another property that is also a dictionary with one or more properties"
   ]
  }
 ],
 "metadata": {
  "kernelspec": {
   "display_name": "Python 3.9.12 64-bit",
   "language": "python",
   "name": "python3"
  },
  "language_info": {
   "codemirror_mode": {
    "name": "ipython",
    "version": 3
   },
   "file_extension": ".py",
   "mimetype": "text/x-python",
   "name": "python",
   "nbconvert_exporter": "python",
   "pygments_lexer": "ipython3",
   "version": "3.9.12"
  },
  "vscode": {
   "interpreter": {
    "hash": "aee8b7b246df8f9039afb4144a1f6fd8d2ca17a180786b69acc140d282b71a49"
   }
  }
 },
 "nbformat": 4,
 "nbformat_minor": 4
}
