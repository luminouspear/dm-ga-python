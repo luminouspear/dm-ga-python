{
 "cells": [
  {
   "cell_type": "code",
   "execution_count": null,
   "metadata": {},
   "outputs": [],
   "source": [
    "# 5.1 Functions"
   ]
  },
  {
   "cell_type": "code",
   "execution_count": 1,
   "metadata": {},
   "outputs": [
    {
     "name": "stdout",
     "output_type": "stream",
     "text": [
      "hello princeton!\n"
     ]
    }
   ],
   "source": [
    "# A. Write a function that accepts one parameter, name\n",
    "#    The function should print the message \"Hello, _____.\" filling in the blank with the name\n",
    "\n",
    "def print_hello(name):\n",
    "    print(f\"hello {name}\")\n",
    "\n",
    "print_hello(\"princeton!\")"
   ]
  },
  {
   "cell_type": "code",
   "execution_count": 3,
   "metadata": {},
   "outputs": [
    {
     "name": "stdout",
     "output_type": "stream",
     "text": [
      "False\n"
     ]
    }
   ],
   "source": [
    "# B. Write a function that accepts one parameter, a number\n",
    "#    The function should return true or false depending on whether the number is even\n",
    "\n",
    "def is_even(number):\n",
    "    return True if number % 2 == 0 else False\n",
    "\n",
    "print(is_even(3))"
   ]
  },
  {
   "cell_type": "code",
   "execution_count": null,
   "metadata": {},
   "outputs": [],
   "source": [
    "# C. Write a function that accepts one parameter, a list\n",
    "#    The function should return the sum total of all numbers in the list, using a loop\n",
    "\n",
    "def total_of_list(list):\n",
    "    total = 0\n",
    "\n",
    "    for l in list:\n",
    "        total+=int(l)\n",
    "    return total"
   ]
  },
  {
   "cell_type": "code",
   "execution_count": 4,
   "metadata": {},
   "outputs": [
    {
     "name": "stdout",
     "output_type": "stream",
     "text": [
      "Introducing Samwise Gamgee, Assistant Hobbit\n"
     ]
    }
   ],
   "source": [
    "# D. Write a function that accepts one parameter, a dictionary\n",
    "#    The function should print the message \"Introducing ______ ______, ________!\"\n",
    "#    Fill in the blanks with the \"first_name\", \"last_name\", and \"title\" properties of the dictionary\n",
    "\n",
    "dict = {\n",
    "    \"first_name\": \"Samwise\",\n",
    "    \"last_name\": \"Gamgee\",\n",
    "    \"title\": \"Assistant Hobbit\"\n",
    "}\n",
    "\n",
    "def greet(person):\n",
    "    print(f'Introducing {person.get(\"first_name\")} {person.get(\"last_name\")}, {person.get(\"title\")}')\n",
    "\n",
    "greet(dict)"
   ]
  },
  {
   "cell_type": "code",
   "execution_count": null,
   "metadata": {},
   "outputs": [],
   "source": [
    "# 5.2 Problem-Solving Functions"
   ]
  },
  {
   "cell_type": "code",
   "execution_count": 6,
   "metadata": {},
   "outputs": [
    {
     "data": {
      "text/plain": [
       "'aklsjdla92jasdkljasdasdasdasda'"
      ]
     },
     "execution_count": 6,
     "metadata": {},
     "output_type": "execute_result"
    }
   ],
   "source": [
    "# A. Find the longest string in a given list of strings\n",
    "\n",
    "list = [\n",
    "    \"aaaaaaaaa\",\n",
    "    \"kljaskdljalskdjaslkjd\",\n",
    "    \"aklsjdla92jasdkljasdasdasdasda\",\n",
    "    \"asd\",\n",
    "    \"2129klaskjdkloasjdlkjasldj\",\n",
    "    \"21323lkjas9\"    \n",
    "    ]\n",
    "\n",
    "def longest_string_in(list):\n",
    "    longest_string = \"\"\n",
    "\n",
    "    for s in list:\n",
    "        if len(s) > len(longest_string):\n",
    "            longest_string = s\n",
    "    return longest_string    \n",
    "\n",
    "longest_string_in(list)    "
   ]
  },
  {
   "cell_type": "code",
   "execution_count": 18,
   "metadata": {},
   "outputs": [
    {
     "name": "stdout",
     "output_type": "stream",
     "text": [
      "True\n",
      "False\n"
     ]
    }
   ],
   "source": [
    "# B. Determine whether a given list contains a given value\n",
    "\n",
    "def search_for(x, list):\n",
    "    found = False\n",
    "    for l in list:\n",
    "        if l.find(str(x)) >= 0:\n",
    "            found = True\n",
    "    \n",
    "    return found\n",
    "            \n",
    "\n",
    "print(search_for(\"asd\", list))\n",
    "print(search_for(\"shakespeare\", list))"
   ]
  },
  {
   "cell_type": "code",
   "execution_count": 21,
   "metadata": {},
   "outputs": [
    {
     "name": "stdout",
     "output_type": "stream",
     "text": [
      "25\n",
      "5\n",
      "0\n"
     ]
    }
   ],
   "source": [
    "# C. Count how many times a given string contains a given letter\n",
    "\n",
    "def count_num_of(string, list):\n",
    "    count = 0\n",
    "    for item in list:\n",
    "        for char in item:\n",
    "            if char == string:\n",
    "                count += 1\n",
    "    return count\n",
    "\n",
    "print(count_num_of(\"a\", list))\n",
    "print(count_num_of(\"2\", list))\n",
    "print(count_num_of(\",\", list))\n"
   ]
  },
  {
   "cell_type": "code",
   "execution_count": 34,
   "metadata": {},
   "outputs": [
    {
     "data": {
      "text/plain": [
       "'a'"
      ]
     },
     "execution_count": 34,
     "metadata": {},
     "output_type": "execute_result"
    }
   ],
   "source": [
    "# D. Find the most common letter in a given string, and use the previous function in your answer\n",
    "\n",
    "alphabet = \"abcdefghijklmnopqrstuvwxyzABCDEFGHIJKLMNOPQRSTUVWXYZ1234567890\"\n",
    "\n",
    "def most_numerous_character(list):\n",
    "    most_numerous_letter = \"\"\n",
    "    most_numerous_count = 0\n",
    "    for l in list:\n",
    "        count = count_num_of(l, list)\n",
    "        if count > most_numerous_count:\n",
    "            most_numerous_letter = l\n",
    "            most_numerous_count = count\n",
    "            \n",
    "    return most_numerous_letter\n",
    "    #for char in alphabet:\n",
    "\n",
    "most_numerous_character(list[2])"
   ]
  },
  {
   "cell_type": "code",
   "execution_count": 36,
   "metadata": {},
   "outputs": [
    {
     "data": {
      "text/plain": [
       "32.5"
      ]
     },
     "execution_count": 36,
     "metadata": {},
     "output_type": "execute_result"
    }
   ],
   "source": [
    "# E. Find the area of a triangle given its length and height as parameters\n",
    "\n",
    "# Assuming \"length\" = base?\n",
    "\n",
    "def area_of_triangle(base, height):\n",
    "    return 0.5 * base * height\n",
    "\n",
    "\n",
    "area_of_triangle(13, 5)"
   ]
  }
 ],
 "metadata": {
  "kernelspec": {
   "display_name": "Python 3.9.12 64-bit",
   "language": "python",
   "name": "python3"
  },
  "language_info": {
   "codemirror_mode": {
    "name": "ipython",
    "version": 3
   },
   "file_extension": ".py",
   "mimetype": "text/x-python",
   "name": "python",
   "nbconvert_exporter": "python",
   "pygments_lexer": "ipython3",
   "version": "3.9.12"
  },
  "vscode": {
   "interpreter": {
    "hash": "aee8b7b246df8f9039afb4144a1f6fd8d2ca17a180786b69acc140d282b71a49"
   }
  }
 },
 "nbformat": 4,
 "nbformat_minor": 4
}
