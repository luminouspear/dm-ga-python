{
 "cells": [
  {
   "cell_type": "markdown",
   "metadata": {},
   "source": [
    "#### Error Scavenger Hunt\n",
    "For each code sample below, add a comment describing, in your own words, what the error type was, what it means, and how to fix it."
   ]
  },
  {
   "cell_type": "code",
   "execution_count": 4,
   "metadata": {},
   "outputs": [
    {
     "ename": "KeyError",
     "evalue": "'key_error'",
     "output_type": "error",
     "traceback": [
      "\u001b[0;31m---------------------------------------------------------------------------\u001b[0m",
      "\u001b[0;31mKeyError\u001b[0m                                  Traceback (most recent call last)",
      "\u001b[1;32m/Users/quentinmacbook/Library/Mobile Documents/com~apple~CloudDocs/Development/PYTH-15/Homework/08. Debugging and Error Handling.ipynb Cell 2\u001b[0m in \u001b[0;36m<cell line: 4>\u001b[0;34m()\u001b[0m\n\u001b[1;32m      <a href='vscode-notebook-cell:/Users/quentinmacbook/Library/Mobile%20Documents/com~apple~CloudDocs/Development/PYTH-15/Homework/08.%20Debugging%20and%20Error%20Handling.ipynb#W1sZmlsZQ%3D%3D?line=0'>1</a>\u001b[0m errors \u001b[39m=\u001b[39m {\n\u001b[1;32m      <a href='vscode-notebook-cell:/Users/quentinmacbook/Library/Mobile%20Documents/com~apple~CloudDocs/Development/PYTH-15/Homework/08.%20Debugging%20and%20Error%20Handling.ipynb#W1sZmlsZQ%3D%3D?line=1'>2</a>\u001b[0m     \u001b[39m\"\u001b[39m\u001b[39mKey Error\u001b[39m\u001b[39m\"\u001b[39m : \u001b[39m\"\u001b[39m\u001b[39mbig mistake\u001b[39m\u001b[39m\"\u001b[39m\n\u001b[1;32m      <a href='vscode-notebook-cell:/Users/quentinmacbook/Library/Mobile%20Documents/com~apple~CloudDocs/Development/PYTH-15/Homework/08.%20Debugging%20and%20Error%20Handling.ipynb#W1sZmlsZQ%3D%3D?line=2'>3</a>\u001b[0m }\n\u001b[0;32m----> <a href='vscode-notebook-cell:/Users/quentinmacbook/Library/Mobile%20Documents/com~apple~CloudDocs/Development/PYTH-15/Homework/08.%20Debugging%20and%20Error%20Handling.ipynb#W1sZmlsZQ%3D%3D?line=3'>4</a>\u001b[0m \u001b[39mprint\u001b[39m(\u001b[39mf\u001b[39m\u001b[39m\"\u001b[39m\u001b[39mTry to avoid committing a \u001b[39m\u001b[39m{\u001b[39;00merrors[\u001b[39m'\u001b[39m\u001b[39mkey_error\u001b[39m\u001b[39m'\u001b[39m]\u001b[39m}\u001b[39;00m\u001b[39m\"\u001b[39m)\n",
      "\u001b[0;31mKeyError\u001b[0m: 'key_error'"
     ]
    }
   ],
   "source": [
    "errors = {\n",
    "    \"Key Error\" : \"big mistake\"\n",
    "}\n",
    "print(f\"Try to avoid committing a {errors['key_error']}\")\n",
    "\n",
    "#  The key is incorrect (doesn't match the literal string)"
   ]
  },
  {
   "cell_type": "code",
   "execution_count": 5,
   "metadata": {},
   "outputs": [
    {
     "ename": "AttributeError",
     "evalue": "'dict' object has no attribute 'attribute_error'",
     "output_type": "error",
     "traceback": [
      "\u001b[0;31m---------------------------------------------------------------------------\u001b[0m",
      "\u001b[0;31mAttributeError\u001b[0m                            Traceback (most recent call last)",
      "\u001b[1;32m/Users/quentinmacbook/Library/Mobile Documents/com~apple~CloudDocs/Development/PYTH-15/Homework/08. Debugging and Error Handling.ipynb Cell 3\u001b[0m in \u001b[0;36m<cell line: 1>\u001b[0;34m()\u001b[0m\n\u001b[0;32m----> <a href='vscode-notebook-cell:/Users/quentinmacbook/Library/Mobile%20Documents/com~apple~CloudDocs/Development/PYTH-15/Homework/08.%20Debugging%20and%20Error%20Handling.ipynb#W2sZmlsZQ%3D%3D?line=0'>1</a>\u001b[0m \u001b[39mprint\u001b[39m(\u001b[39mf\u001b[39m\u001b[39m\"\u001b[39m\u001b[39mSimilarly, it\u001b[39m\u001b[39m'\u001b[39m\u001b[39ms easy to make an \u001b[39m\u001b[39m{\u001b[39;00merrors\u001b[39m.\u001b[39mattribute_error\u001b[39m}\u001b[39;00m\u001b[39m\"\u001b[39m)\n",
      "\u001b[0;31mAttributeError\u001b[0m: 'dict' object has no attribute 'attribute_error'"
     ]
    }
   ],
   "source": [
    "print(f\"Similarly, it's easy to make an {errors.attribute_error}\")\n",
    "\n",
    "# There is no attribute called 'attribute error' on the error object"
   ]
  },
  {
   "cell_type": "code",
   "execution_count": null,
   "metadata": {},
   "outputs": [],
   "source": [
    "import CodeWithoutErrors"
   ]
  },
  {
   "cell_type": "code",
   "execution_count": 6,
   "metadata": {
    "scrolled": true
   },
   "outputs": [
    {
     "ename": "IndexError",
     "evalue": "list index out of range",
     "output_type": "error",
     "traceback": [
      "\u001b[0;31m---------------------------------------------------------------------------\u001b[0m",
      "\u001b[0;31mIndexError\u001b[0m                                Traceback (most recent call last)",
      "\u001b[1;32m/Users/quentinmacbook/Library/Mobile Documents/com~apple~CloudDocs/Development/PYTH-15/Homework/08. Debugging and Error Handling.ipynb Cell 5\u001b[0m in \u001b[0;36m<cell line: 5>\u001b[0;34m()\u001b[0m\n\u001b[1;32m      <a href='vscode-notebook-cell:/Users/quentinmacbook/Library/Mobile%20Documents/com~apple~CloudDocs/Development/PYTH-15/Homework/08.%20Debugging%20and%20Error%20Handling.ipynb#W4sZmlsZQ%3D%3D?line=2'>3</a>\u001b[0m first_place \u001b[39m=\u001b[39m race_runners[\u001b[39m1\u001b[39m]\n\u001b[1;32m      <a href='vscode-notebook-cell:/Users/quentinmacbook/Library/Mobile%20Documents/com~apple~CloudDocs/Development/PYTH-15/Homework/08.%20Debugging%20and%20Error%20Handling.ipynb#W4sZmlsZQ%3D%3D?line=3'>4</a>\u001b[0m second_place \u001b[39m=\u001b[39m race_runners[\u001b[39m2\u001b[39m]\n\u001b[0;32m----> <a href='vscode-notebook-cell:/Users/quentinmacbook/Library/Mobile%20Documents/com~apple~CloudDocs/Development/PYTH-15/Homework/08.%20Debugging%20and%20Error%20Handling.ipynb#W4sZmlsZQ%3D%3D?line=4'>5</a>\u001b[0m third_place \u001b[39m=\u001b[39m race_runners[\u001b[39m3\u001b[39;49m]\n\u001b[1;32m      <a href='vscode-notebook-cell:/Users/quentinmacbook/Library/Mobile%20Documents/com~apple~CloudDocs/Development/PYTH-15/Homework/08.%20Debugging%20and%20Error%20Handling.ipynb#W4sZmlsZQ%3D%3D?line=6'>7</a>\u001b[0m \u001b[39mprint\u001b[39m(\u001b[39m\"\u001b[39m\u001b[39mThe winners are:\u001b[39m\u001b[39m\"\u001b[39m, first_place, second_place, third_place)\n",
      "\u001b[0;31mIndexError\u001b[0m: list index out of range"
     ]
    }
   ],
   "source": [
    "race_runners = [\"Yuna\", \"Bill\", \"Hyun\"]\n",
    "\n",
    "first_place = race_runners[1]\n",
    "second_place = race_runners[2]\n",
    "third_place = race_runners[3]\n",
    "\n",
    "print(\"The winners are:\", first_place, second_place, third_place) \n",
    "\n",
    "# The array is 0 indexed"
   ]
  },
  {
   "cell_type": "code",
   "execution_count": 7,
   "metadata": {
    "scrolled": true
   },
   "outputs": [
    {
     "ename": "IndentationError",
     "evalue": "expected an indented block (1618862145.py, line 3)",
     "output_type": "error",
     "traceback": [
      "\u001b[0;36m  Input \u001b[0;32mIn [7]\u001b[0;36m\u001b[0m\n\u001b[0;31m    print(\"I am invincible!\")\u001b[0m\n\u001b[0m    ^\u001b[0m\n\u001b[0;31mIndentationError\u001b[0m\u001b[0;31m:\u001b[0m expected an indented block\n"
     ]
    }
   ],
   "source": [
    "code_is_perfect = False\n",
    "if code_is_perfect:\n",
    "print(\"I am invincible!\")\n",
    "# Indentation is required for the code beneath the \"if\" statement. The error is saying there's nothing indented for the if statement, and it found the \"print\" statement instead."
   ]
  },
  {
   "cell_type": "code",
   "execution_count": 8,
   "metadata": {
    "scrolled": true
   },
   "outputs": [
    {
     "ename": "NameError",
     "evalue": "name 'nameless_variable' is not defined",
     "output_type": "error",
     "traceback": [
      "\u001b[0;31m---------------------------------------------------------------------------\u001b[0m",
      "\u001b[0;31mNameError\u001b[0m                                 Traceback (most recent call last)",
      "\u001b[1;32m/Users/quentinmacbook/Library/Mobile Documents/com~apple~CloudDocs/Development/PYTH-15/Homework/08. Debugging and Error Handling.ipynb Cell 7\u001b[0m in \u001b[0;36m<cell line: 1>\u001b[0;34m()\u001b[0m\n\u001b[0;32m----> <a href='vscode-notebook-cell:/Users/quentinmacbook/Library/Mobile%20Documents/com~apple~CloudDocs/Development/PYTH-15/Homework/08.%20Debugging%20and%20Error%20Handling.ipynb#W6sZmlsZQ%3D%3D?line=0'>1</a>\u001b[0m \u001b[39mprint\u001b[39m(nameless_variable)\n",
      "\u001b[0;31mNameError\u001b[0m: name 'nameless_variable' is not defined"
     ]
    }
   ],
   "source": [
    "print(nameless_variable)\n",
    "\n",
    "# Nothing is defined called 'nameless_variable'"
   ]
  },
  {
   "cell_type": "code",
   "execution_count": 9,
   "metadata": {
    "scrolled": true
   },
   "outputs": [
    {
     "ename": "SyntaxError",
     "evalue": "invalid syntax (3683025114.py, line 2)",
     "output_type": "error",
     "traceback": [
      "\u001b[0;36m  Input \u001b[0;32mIn [9]\u001b[0;36m\u001b[0m\n\u001b[0;31m    if knowledge_of_python > 50\u001b[0m\n\u001b[0m                               ^\u001b[0m\n\u001b[0;31mSyntaxError\u001b[0m\u001b[0;31m:\u001b[0m invalid syntax\n"
     ]
    }
   ],
   "source": [
    "knowledge_of_python = 40\n",
    "if knowledge_of_python > 50\n",
    "    print(\"you will never make a mistake again\")\n",
    "\n",
    "# Missing a colon at the end of the if statement"
   ]
  },
  {
   "cell_type": "code",
   "execution_count": 10,
   "metadata": {
    "scrolled": true
   },
   "outputs": [
    {
     "ename": "TypeError",
     "evalue": "unsupported operand type(s) for +: 'int' and 'str'",
     "output_type": "error",
     "traceback": [
      "\u001b[0;31m---------------------------------------------------------------------------\u001b[0m",
      "\u001b[0;31mTypeError\u001b[0m                                 Traceback (most recent call last)",
      "\u001b[1;32m/Users/quentinmacbook/Library/Mobile Documents/com~apple~CloudDocs/Development/PYTH-15/Homework/08. Debugging and Error Handling.ipynb Cell 9\u001b[0m in \u001b[0;36m<cell line: 1>\u001b[0;34m()\u001b[0m\n\u001b[0;32m----> <a href='vscode-notebook-cell:/Users/quentinmacbook/Library/Mobile%20Documents/com~apple~CloudDocs/Development/PYTH-15/Homework/08.%20Debugging%20and%20Error%20Handling.ipynb#X11sZmlsZQ%3D%3D?line=0'>1</a>\u001b[0m \u001b[39mprint\u001b[39m(\u001b[39m99\u001b[39;49m \u001b[39m+\u001b[39;49m \u001b[39m\"\u001b[39;49m\u001b[39mRed Balloons\u001b[39;49m\u001b[39m\"\u001b[39;49m)\n",
      "\u001b[0;31mTypeError\u001b[0m: unsupported operand type(s) for +: 'int' and 'str'"
     ]
    }
   ],
   "source": [
    "print(99 + \"Red Balloons\")\n",
    "\n",
    "# Can't append a number (int) and a string"
   ]
  },
  {
   "cell_type": "code",
   "execution_count": 11,
   "metadata": {},
   "outputs": [
    {
     "ename": "ValueError",
     "evalue": "invalid literal for int() with base 10: 'five'",
     "output_type": "error",
     "traceback": [
      "\u001b[0;31m---------------------------------------------------------------------------\u001b[0m",
      "\u001b[0;31mValueError\u001b[0m                                Traceback (most recent call last)",
      "\u001b[1;32m/Users/quentinmacbook/Library/Mobile Documents/com~apple~CloudDocs/Development/PYTH-15/Homework/08. Debugging and Error Handling.ipynb Cell 10\u001b[0m in \u001b[0;36m<cell line: 1>\u001b[0;34m()\u001b[0m\n\u001b[0;32m----> <a href='vscode-notebook-cell:/Users/quentinmacbook/Library/Mobile%20Documents/com~apple~CloudDocs/Development/PYTH-15/Homework/08.%20Debugging%20and%20Error%20Handling.ipynb#X12sZmlsZQ%3D%3D?line=0'>1</a>\u001b[0m \u001b[39m5\u001b[39m \u001b[39m+\u001b[39m \u001b[39mint\u001b[39;49m(\u001b[39m\"\u001b[39;49m\u001b[39mfive\u001b[39;49m\u001b[39m\"\u001b[39;49m)\n",
      "\u001b[0;31mValueError\u001b[0m: invalid literal for int() with base 10: 'five'"
     ]
    }
   ],
   "source": [
    "5 + int(\"five\")\n",
    "\n",
    "# Int can't convert non numeric strings into integers"
   ]
  },
  {
   "cell_type": "markdown",
   "metadata": {},
   "source": [
    "#### Exceptional Error Handling\n",
    "We want to add some restrictions to the User class below:\n",
    "\n",
    "username must be unique. If a user in all_users has the same username, raise an exception.\n",
    "\n",
    "email must match a standard email regex pattern. Hint: this is a classic google situation!\n",
    "\n",
    "password must be at least 8 characters and contain a number. Hint: \"test if a string contains a number python\""
   ]
  },
  {
   "cell_type": "code",
   "execution_count": 1,
   "metadata": {},
   "outputs": [],
   "source": [
    "# A.\n",
    "# Add exception raising to the __init__ method to ensure users with invalid properties throw errors\n",
    "# For each property, raise an exception with a specific error message so we can test the message later\n",
    "# Only fully valid users should make it to the all_users list\n",
    "class User:\n",
    "    all_users = []\n",
    "    def __init__(self, username, email, password):\n",
    "        self.username = username\n",
    "        self.email = email\n",
    "        self.password = password\n",
    "        self.all_users.append(self)\n",
    "        print(f\"SUCCESSFULLY CREATED THE USER {username} WITH EMAIL {email} AND PASSWORD {password}\")"
   ]
  },
  {
   "cell_type": "code",
   "execution_count": 2,
   "metadata": {},
   "outputs": [],
   "source": [
    "# B.\n",
    "# Add try/except handling to this function\n",
    "# If an error is raised, check the error message to determine what value is invalid\n",
    "# Use the input function to get a new input for the invalid value\n",
    "# Once you have a new value from the user, invoke create_new_user again with updated input value\n",
    "def create_new_user(username, email, password):\n",
    "    try:\n",
    "        new_user = User(username, email, password)\n",
    "    except (NameError) as e:\n",
    "        new_username = input(\"Please enter a new username?\")\n",
    "        create_new_user(new_username, email, password)\n",
    "    finally:    \n",
    "        return new_user"
   ]
  },
  {
   "cell_type": "code",
   "execution_count": 11,
   "metadata": {},
   "outputs": [
    {
     "name": "stdout",
     "output_type": "stream",
     "text": [
      "SUCCESSFULLY CREATED THE USER El_Barto WITH EMAIL el_barto@gmail.com AND PASSWORD a1b2c3d4\n",
      "SUCCESSFULLY CREATED THE USER El_Barto WITH EMAIL barto_the_second@gmail.com AND PASSWORD a1b2c3d4\n",
      "SUCCESSFULLY CREATED THE USER pythonista WITH EMAIL programmer_supreme@hotmail.com AND PASSWORD 2short\n",
      "SUCCESSFULLY CREATED THE USER verbose_user WITH EMAIL iliketypingalot@aol.com AND PASSWORD longenoughbutnodigits\n",
      "SUCCESSFULLY CREATED THE USER off_tha_grid WITH EMAIL none_provided AND PASSWORD iburygold3\n"
     ]
    }
   ],
   "source": [
    "# C.    \n",
    "users_awaiting_creation = [\n",
    "    {\"username\":\"El_Barto\", \"email\":\"el_barto@gmail.com\", \"password\":\"a1b2c3d4\"}, #should be valid\n",
    "    {\"username\":\"El_Barto\", \"email\":\"barto_the_second@gmail.com\", \"password\":\"a1b2c3d4\"}, #should be invalid due to username\n",
    "    {\"username\":\"pythonista\", \"email\":\"programmer_supreme@hotmail.com\", \"password\":\"2short\"}, #should have invalid password length\n",
    "    {\"username\":\"verbose_user\", \"email\":\"iliketypingalot@aol.com\", \"password\":\"longenoughbutnodigits\"}, #should be invalid password due to no digits\n",
    "    {\"username\":\"off_tha_grid\", \"email\":\"none_provided\", \"password\":\"iburygold3\"},\n",
    "]\n",
    "# This loop should raise a good deal of errors due to bad user data\n",
    "# If you've added proper input prompts and error handling, you should be able to type in valid alternatives\n",
    "# By the end, you should see successful creation messages for the 5 users\n",
    "for user in users_awaiting_creation:\n",
    "    new_user = create_new_user(user['username'], user['email'], user['password'])\n",
    "\n",
    "# Unsure why this worked...?"
   ]
  }
 ],
 "metadata": {
  "kernelspec": {
   "display_name": "Python 3.8.9 64-bit",
   "language": "python",
   "name": "python3"
  },
  "language_info": {
   "codemirror_mode": {
    "name": "ipython",
    "version": 3
   },
   "file_extension": ".py",
   "mimetype": "text/x-python",
   "name": "python",
   "nbconvert_exporter": "python",
   "pygments_lexer": "ipython3",
   "version": "3.8.9"
  },
  "vscode": {
   "interpreter": {
    "hash": "31f2aee4e71d21fbe5cf8b01ff0e069b9275f58929596ceb00d14d90e3e16cd6"
   }
  }
 },
 "nbformat": 4,
 "nbformat_minor": 4
}
