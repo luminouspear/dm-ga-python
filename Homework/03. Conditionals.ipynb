{
 "cells": [
  {
   "cell_type": "code",
   "execution_count": null,
   "metadata": {},
   "outputs": [],
   "source": [
    "# 3.1 Price Conditions\n",
    "# Translate the following logical decisions into python conditionals"
   ]
  },
  {
   "cell_type": "code",
   "execution_count": 2,
   "metadata": {},
   "outputs": [
    {
     "name": "stdout",
     "output_type": "stream",
     "text": [
      "28.749999999999996\n"
     ]
    }
   ],
   "source": [
    "# A. If the price is under 10, add 10% tax to the price. \n",
    "# Otherwise, add 15% luxury tax instead.\n",
    "price = 25\n",
    "\n",
    "if price < 10:\n",
    "    price = price * 1.10\n",
    "else:\n",
    "    price = price * 1.15 #luxury tax\n",
    "\n",
    "print(price)"
   ]
  },
  {
   "cell_type": "code",
   "execution_count": 8,
   "metadata": {},
   "outputs": [
    {
     "name": "stdout",
     "output_type": "stream",
     "text": [
      "23.0\n"
     ]
    }
   ],
   "source": [
    "# B. If the customer's status is \"VIP\", lower the price by 20%\n",
    "customer = { \"name\": \"Lisa Su\", \"status\": \"VIP\" }\n",
    "\n",
    "\n",
    "if customer.get(\"status\") == \"VIP\":\n",
    "    price = price * .80\n",
    "\n",
    "print(price)"
   ]
  },
  {
   "cell_type": "code",
   "execution_count": null,
   "metadata": {},
   "outputs": [],
   "source": [
    "# C. Let's alter our advertising based on the price of the product, filling in the blank with the price\n",
    "#    i. If the price is less than 5, print \"For less than a cup of coffee, buy now for _____\"\n",
    "#.   ii. Otherwise, if the price is less than 20, print \"Good value. Great products. Buy now for _____\"\n",
    "#.   iii. Otherwise, print \"You get what you pay for. Get the most. Buy now for ______\""
   ]
  },
  {
   "cell_type": "code",
   "execution_count": 10,
   "metadata": {},
   "outputs": [
    {
     "name": "stdout",
     "output_type": "stream",
     "text": [
      "Your best value is 90s Comedy DVD for $2.99\n"
     ]
    }
   ],
   "source": [
    "# D. Given this list of products, use a conditional to figure out which has the lower price.\n",
    "#.   Print a message saying \"Your best value is the _____ for only ______\"\n",
    "#.   Fill in the blanks with the name and price of the cheaper item, respectively\n",
    "bargain_bin = [\n",
    "    {\"name\": \"90s Comedy DVD\", \"price\": 2.99},\n",
    "    {\"name\": \"80s Drama DVD\", \"price\": 3.99}\n",
    "]\n",
    "price_one = bargain_bin[0].get(\"price\")\n",
    "price_two = bargain_bin[1].get(\"price\")\n",
    "best_title = \"\"\n",
    "best_price = 0\n",
    "\n",
    "if price_one < price_two:\n",
    "    best_title = bargain_bin[0].get(\"name\")\n",
    "    best_price = price_one\n",
    "\n",
    "else:\n",
    "    best_title = bargain_bin[1].get(\"name\")\n",
    "    best_price = price_two\n",
    "\n",
    "print(f\"Your best value is {best_title} for ${best_price}\")\n",
    "    "
   ]
  },
  {
   "cell_type": "code",
   "execution_count": null,
   "metadata": {},
   "outputs": [],
   "source": [
    "# 3.2 Complex Conditions"
   ]
  },
  {
   "cell_type": "code",
   "execution_count": 12,
   "metadata": {},
   "outputs": [
    {
     "name": "stdout",
     "output_type": "stream",
     "text": [
      "e is a vowel\n"
     ]
    }
   ],
   "source": [
    "# A. Write a conditional that determines whether the letter is a vowel\n",
    "#.   Print a message stating \"___ is a vowel\" or \"___ is not a vowel\"\n",
    "letter = \"e\"\n",
    "message = f\"{letter} is a vowel\" if letter.lower() in \"aeiou\" else f\"{letter} is not a vowel\"\n",
    "\n",
    "print(message)"
   ]
  },
  {
   "cell_type": "code",
   "execution_count": 13,
   "metadata": {},
   "outputs": [
    {
     "name": "stdout",
     "output_type": "stream",
     "text": [
      "You win\n"
     ]
    }
   ],
   "source": [
    "# B. Determine whether the player beat the computer at rock, paper, scissors\n",
    "#    As a reminder, \"rock\" beats \"paper\", \"paper\" beats \"scissors\", and \"scissors\" beats \"rock\"\n",
    "#.   Print a message saying whether the player won, lost, or tied\n",
    "player_choice = \"rock\"\n",
    "computer_choice = \"scissors\"\n",
    "\n",
    "if player_choice == computer_choice:\n",
    "    print(\"Tied\")\n",
    "elif player_choice == \"rock\":\n",
    "    if computer_choice == \"scissors\":\n",
    "        print(\"You win\")\n",
    "    else:\n",
    "        print(\"You lose\")\n",
    "elif player_choice == \"paper\":\n",
    "    if computer_choice == \"rock\":\n",
    "        print(\"You win\")\n",
    "    else:\n",
    "        print(\"You lose\")\n",
    "elif player_choice == \"scissors\":\n",
    "    if computer_choice == \"paper\":\n",
    "        print(\"You win\")\n",
    "    else:\n",
    "        print(\"You lose\")\n"
   ]
  },
  {
   "cell_type": "code",
   "execution_count": 16,
   "metadata": {},
   "outputs": [
    {
     "name": "stdout",
     "output_type": "stream",
     "text": [
      "Scalene\n"
     ]
    }
   ],
   "source": [
    "# C. Write the code that determines if the triangle is:\n",
    "#      equalateral - all three sides are equal in length\n",
    "#      scalene - all three sides are unequal in length\n",
    "#      isosceles - two sides are the same length\n",
    "side_a = 5\n",
    "side_b = 7\n",
    "side_c = 6\n",
    "\n",
    "if side_a == side_b and side_b == side_c:\n",
    "    print(\"Equilateral\")\n",
    "elif side_a != side_b and side_a != side_c and side_b != side_c:\n",
    "    print(\"Scalene\")\n",
    "else:\n",
    "    print(\"Isoceles\")"
   ]
  },
  {
   "cell_type": "code",
   "execution_count": 18,
   "metadata": {},
   "outputs": [
    {
     "name": "stdout",
     "output_type": "stream",
     "text": [
      "Sep 25 is in Fall\n"
     ]
    }
   ],
   "source": [
    "# D. Calculate what season it is based upon this chart:\n",
    "#      Dec 21 - Mar 19: Winter\n",
    "#      Mar 20 - Jun 20: Spring\n",
    "#      Jun 21 - Sep 21: Summer\n",
    "#      Sep 22 - Dec 20: Fall\n",
    "# Print the result as follows:\n",
    "#      <Mmm> <dd> is in <season> \n",
    "month = \"Sep\"\n",
    "date = 25\n",
    "season = \"\"\n",
    "\n",
    "if (month == \"Dec\" and date >= 21) or (month == \"Jan\" or month == \"Feb\") or (month == \"Mar\" and date < 20):\n",
    "    season = \"Winter\"\n",
    "if (month == \"Mar\" and date >= 20) or (month == \"Apr\" or month == \"May\") or (month == \"Jun\" and date < 21):\n",
    "    season = \"Spring\"\n",
    "if (month == \"Jun\" and date >= 21) or (month == \"Jul\" or month == \"Aug\") or (month == \"Sep\" and date < 22):\n",
    "    season = \"Summer\"\n",
    "if (month == \"Sep\" and date >= 22) or (month == \"Oct\" or month == \"Nov\") or (month == \"Dec\" and date < 21):\n",
    "    season = \"Fall\"\n",
    "\n",
    "print(f\"{month} {date} is in {season}\")"
   ]
  },
  {
   "cell_type": "code",
   "execution_count": 24,
   "metadata": {},
   "outputs": [
    {
     "name": "stdout",
     "output_type": "stream",
     "text": [
      "The fox ate the chicken\n"
     ]
    }
   ],
   "source": [
    "# E. The Farmer's Boat\n",
    "boat = {\n",
    "    \"has_fox\": True,\n",
    "    \"has_chicken\": True,\n",
    "    \"has_grain\": False\n",
    "}\n",
    "# 1. If all three properties are true, print \"The boat was too heavy and sank\"\n",
    "# 2. If the boat's has_fox and has_chicken properties are true, print \"The fox ate the chicken\" \n",
    "# 3. If the boat's has_chicken and has_grain propertes are true, print \"The chicken ate the grain\"\n",
    "# 4. If none of them are true, print \"The boat sank from disuse\"\n",
    "# 5. Otherwise, print \"The boat is in a valid, productive state. Go boat!\"\n",
    "\n",
    "foxiness = boat.get(\"has_fox\")\n",
    "chickenness = boat.get(\"has_chicken\")\n",
    "graininess = boat.get(\"has_grain\")\n",
    "\n",
    "if foxiness and chickenness and graininess:\n",
    "    print(\"The boat was too heavy and sank.\")\n",
    "elif foxiness and chickenness:\n",
    "    print(\"The fox ate the chicken\")\n",
    "elif chickenness and graininess:\n",
    "    print(\"The chicken ate the grain\")\n",
    "elif not chickenness and not graininess and not foxiness:\n",
    "    print(\"The boat sank from disuse\")\n",
    "else:\n",
    "    print(\"The boat is in a valid, productive state. Go boat!\")\n"
   ]
  }
 ],
 "metadata": {
  "kernelspec": {
   "display_name": "Python 3.9.12 64-bit",
   "language": "python",
   "name": "python3"
  },
  "language_info": {
   "codemirror_mode": {
    "name": "ipython",
    "version": 3
   },
   "file_extension": ".py",
   "mimetype": "text/x-python",
   "name": "python",
   "nbconvert_exporter": "python",
   "pygments_lexer": "ipython3",
   "version": "3.9.12"
  },
  "vscode": {
   "interpreter": {
    "hash": "aee8b7b246df8f9039afb4144a1f6fd8d2ca17a180786b69acc140d282b71a49"
   }
  }
 },
 "nbformat": 4,
 "nbformat_minor": 4
}
