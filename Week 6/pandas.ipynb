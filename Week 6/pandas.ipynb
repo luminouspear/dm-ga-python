{
 "cells": [
  {
   "cell_type": "code",
   "execution_count": null,
   "metadata": {},
   "outputs": [
    {
     "ename": "",
     "evalue": "",
     "output_type": "error",
     "traceback": [
      "\u001b[1;31mFailed to start the Kernel. \n",
      "\u001b[1;31mTraceback (most recent call last):\n",
      "\u001b[1;31m  File \"/Users/quentinmacbook/.vscode/extensions/ms-toolsai.jupyter-2022.7.1002181843/pythonFiles/vscode_datascience_helpers/jupyter_daemon.py\", line 158, in _start_notebook\n",
      "\u001b[1;31m    from notebook import notebookapp as app\n",
      "\u001b[1;31m  File \"/Users/quentinmacbook/Library/Python/3.8/lib/python/site-packages/notebook/notebookapp.py\", line 77, in <module>\n",
      "\u001b[1;31m    from .services.kernels.kernelmanager import MappingKernelManager, AsyncMappingKernelManager\n",
      "\u001b[1;31m  File \"/Users/quentinmacbook/Library/Python/3.8/lib/python/site-packages/notebook/services/kernels/kernelmanager.py\", line 18, in <module>\n",
      "\u001b[1;31m    from jupyter_client.session import Session\n",
      "\u001b[1;31m  File \"/Users/quentinmacbook/Library/Python/3.8/lib/python/site-packages/jupyter_client/__init__.py\", line 8, in <module>\n",
      "\u001b[1;31m    from .asynchronous import AsyncKernelClient  # noqa\n",
      "\u001b[1;31m  File \"/Users/quentinmacbook/Library/Python/3.8/lib/python/site-packages/jupyter_client/asynchronous/__init__.py\", line 1, in <module>\n",
      "\u001b[1;31m    from .client import AsyncKernelClient  # noqa\n",
      "\u001b[1;31m  File \"/Users/quentinmacbook/Library/Python/3.8/lib/python/site-packages/jupyter_client/asynchronous/client.py\", line 6, in <module>\n",
      "\u001b[1;31m    from jupyter_client.channels import HBChannel\n",
      "\u001b[1;31m  File \"/Users/quentinmacbook/Library/Python/3.8/lib/python/site-packages/jupyter_client/channels.py\", line 12, in <module>\n",
      "\u001b[1;31m    import zmq.asyncio\n",
      "\u001b[1;31m  File \"/Users/quentinmacbook/Library/Python/3.8/lib/python/site-packages/zmq/__init__.py\", line 103, in <module>\n",
      "\u001b[1;31m    from zmq import backend\n",
      "\u001b[1;31m  File \"/Users/quentinmacbook/Library/Python/3.8/lib/python/site-packages/zmq/backend/__init__.py\", line 31, in <module>\n",
      "\u001b[1;31m    raise original_error from None\n",
      "\u001b[1;31m  File \"/Users/quentinmacbook/Library/Python/3.8/lib/python/site-packages/zmq/backend/__init__.py\", line 26, in <module>\n",
      "\u001b[1;31m    _ns = select_backend(first)\n",
      "\u001b[1;31m  File \"/Users/quentinmacbook/Library/Python/3.8/lib/python/site-packages/zmq/backend/select.py\", line 31, in select_backend\n",
      "\u001b[1;31m    mod = import_module(name)\n",
      "\u001b[1;31m  File \"/Applications/Xcode.app/Contents/Developer/Library/Frameworks/Python3.framework/Versions/3.8/lib/python3.8/importlib/__init__.py\", line 127, in import_module\n",
      "\u001b[1;31m    return _bootstrap._gcd_import(name[level:], package, level)\n",
      "\u001b[1;31m  File \"/Users/quentinmacbook/Library/Python/3.8/lib/python/site-packages/zmq/backend/cython/__init__.py\", line 6, in <module>\n",
      "\u001b[1;31m    from . import (\n",
      "\u001b[1;31mImportError: dlopen(/Users/quentinmacbook/Library/Python/3.8/lib/python/site-packages/zmq/backend/cython/_device.cpython-38-darwin.so, 0x0002): symbol not found in flat namespace (_zmq_errno)\n",
      "\u001b[1;31m\n",
      "\u001b[1;31mDuring handling of the above exception, another exception occurred:\n",
      "\u001b[1;31m\n",
      "\u001b[1;31mTraceback (most recent call last):\n",
      "\u001b[1;31m  File \"/Users/quentinmacbook/.vscode/extensions/ms-toolsai.jupyter-2022.7.1002181843/pythonFiles/vscode_datascience_helpers/daemon/daemon_python.py\", line 54, in _decorator\n",
      "\u001b[1;31m    return func(self, *args, **kwargs)\n",
      "\u001b[1;31m  File \"/Users/quentinmacbook/.vscode/extensions/ms-toolsai.jupyter-2022.7.1002181843/pythonFiles/vscode_datascience_helpers/jupyter_daemon.py\", line 111, in m_exec_module_observable\n",
      "\u001b[1;31m    self._start_notebook(args, cwd, env)\n",
      "\u001b[1;31m  File \"/Users/quentinmacbook/.vscode/extensions/ms-toolsai.jupyter-2022.7.1002181843/pythonFiles/vscode_datascience_helpers/jupyter_daemon.py\", line 160, in _start_notebook\n",
      "\u001b[1;31m    from notebook import app as app\n",
      "\u001b[1;31mImportError: cannot import name 'app' from 'notebook' (/Users/quentinmacbook/Library/Python/3.8/lib/python/site-packages/notebook/__init__.py)\n",
      "\u001b[1;31m\n",
      "\u001b[1;31mFailed to run jupyter as observable with args notebook --no-browser --notebook-dir=\"/Users/quentinmacbook/Library/Mobile Documents/com~apple~CloudDocs/Development/PYTH-15/Week 6\" --config=/var/folders/sk/30jvkbhs3s5gtlg9n1bfzjs80000gp/T/d83610d9-3f8c-49ca-aa11-c71067164343/jupyter_notebook_config.py --NotebookApp.iopub_data_rate_limit=10000000000.0. \n",
      "View Jupyter <a href='command:jupyter.viewOutput'>log</a> for further details."
     ]
    }
   ],
   "source": [
    "# \n",
    "\n",
    "import pandas as pd\n",
    "\n",
    "# use pandas to read csv\n",
    "\n",
    "data = pd.read_csv('example.csv')\n",
    "\n",
    "data"
   ]
  },
  {
   "cell_type": "code",
   "execution_count": 3,
   "metadata": {},
   "outputs": [
    {
     "name": "stdout",
     "output_type": "stream",
     "text": [
      "<class 'pandas.core.frame.DataFrame'>\n"
     ]
    }
   ],
   "source": [
    "print(type(data))\n",
    "\n",
    "# data is a pandas.core.frame.DataFrame"
   ]
  },
  {
   "cell_type": "code",
   "execution_count": 8,
   "metadata": {},
   "outputs": [
    {
     "data": {
      "text/html": [
       "<div>\n",
       "<style scoped>\n",
       "    .dataframe tbody tr th:only-of-type {\n",
       "        vertical-align: middle;\n",
       "    }\n",
       "\n",
       "    .dataframe tbody tr th {\n",
       "        vertical-align: top;\n",
       "    }\n",
       "\n",
       "    .dataframe thead th {\n",
       "        text-align: right;\n",
       "    }\n",
       "</style>\n",
       "<table border=\"1\" class=\"dataframe\">\n",
       "  <thead>\n",
       "    <tr style=\"text-align: right;\">\n",
       "      <th></th>\n",
       "      <th>account_number</th>\n",
       "      <th>title</th>\n",
       "      <th>type</th>\n",
       "      <th>amount</th>\n",
       "      <th>date</th>\n",
       "    </tr>\n",
       "  </thead>\n",
       "  <tbody>\n",
       "    <tr>\n",
       "      <th>0</th>\n",
       "      <td>1</td>\n",
       "      <td>Another title</td>\n",
       "      <td>Expense</td>\n",
       "      <td>-20000</td>\n",
       "      <td>01-03-2021</td>\n",
       "    </tr>\n",
       "    <tr>\n",
       "      <th>1</th>\n",
       "      <td>1</td>\n",
       "      <td>Something</td>\n",
       "      <td>Expense</td>\n",
       "      <td>-20000</td>\n",
       "      <td>01-01-2021</td>\n",
       "    </tr>\n",
       "    <tr>\n",
       "      <th>2</th>\n",
       "      <td>1</td>\n",
       "      <td>A Title</td>\n",
       "      <td>Income</td>\n",
       "      <td>80000</td>\n",
       "      <td>01-02-2021</td>\n",
       "    </tr>\n",
       "    <tr>\n",
       "      <th>3</th>\n",
       "      <td>1</td>\n",
       "      <td>New Expense</td>\n",
       "      <td>Expense</td>\n",
       "      <td>-60000</td>\n",
       "      <td>01-03-2022</td>\n",
       "    </tr>\n",
       "    <tr>\n",
       "      <th>4</th>\n",
       "      <td>2</td>\n",
       "      <td>A new income</td>\n",
       "      <td>Income</td>\n",
       "      <td>100000</td>\n",
       "      <td>01-03-2022</td>\n",
       "    </tr>\n",
       "  </tbody>\n",
       "</table>\n",
       "</div>"
      ],
      "text/plain": [
       "   account_number          title     type  amount        date\n",
       "0               1  Another title  Expense  -20000  01-03-2021\n",
       "1               1      Something  Expense  -20000  01-01-2021\n",
       "2               1        A Title   Income   80000  01-02-2021\n",
       "3               1    New Expense  Expense  -60000  01-03-2022\n",
       "4               2   A new income   Income  100000  01-03-2022"
      ]
     },
     "execution_count": 8,
     "metadata": {},
     "output_type": "execute_result"
    }
   ],
   "source": [
    "# Look at the first 5 rows in a data frame\n",
    "\n",
    "data.head()\n",
    "\n",
    "# is the same as data head 5. 5 is the default\n",
    "data.head(5)"
   ]
  },
  {
   "cell_type": "code",
   "execution_count": 9,
   "metadata": {},
   "outputs": [
    {
     "data": {
      "text/html": [
       "<div>\n",
       "<style scoped>\n",
       "    .dataframe tbody tr th:only-of-type {\n",
       "        vertical-align: middle;\n",
       "    }\n",
       "\n",
       "    .dataframe tbody tr th {\n",
       "        vertical-align: top;\n",
       "    }\n",
       "\n",
       "    .dataframe thead th {\n",
       "        text-align: right;\n",
       "    }\n",
       "</style>\n",
       "<table border=\"1\" class=\"dataframe\">\n",
       "  <thead>\n",
       "    <tr style=\"text-align: right;\">\n",
       "      <th></th>\n",
       "      <th>account_number</th>\n",
       "      <th>amount</th>\n",
       "    </tr>\n",
       "  </thead>\n",
       "  <tbody>\n",
       "    <tr>\n",
       "      <th>count</th>\n",
       "      <td>9.000000</td>\n",
       "      <td>9.000000</td>\n",
       "    </tr>\n",
       "    <tr>\n",
       "      <th>mean</th>\n",
       "      <td>138.444444</td>\n",
       "      <td>4216.666667</td>\n",
       "    </tr>\n",
       "    <tr>\n",
       "      <th>std</th>\n",
       "      <td>410.833638</td>\n",
       "      <td>55738.205030</td>\n",
       "    </tr>\n",
       "    <tr>\n",
       "      <th>min</th>\n",
       "      <td>1.000000</td>\n",
       "      <td>-60000.000000</td>\n",
       "    </tr>\n",
       "    <tr>\n",
       "      <th>25%</th>\n",
       "      <td>1.000000</td>\n",
       "      <td>-20000.000000</td>\n",
       "    </tr>\n",
       "    <tr>\n",
       "      <th>50%</th>\n",
       "      <td>2.000000</td>\n",
       "      <td>-17000.000000</td>\n",
       "    </tr>\n",
       "    <tr>\n",
       "      <th>75%</th>\n",
       "      <td>2.000000</td>\n",
       "      <td>30000.000000</td>\n",
       "    </tr>\n",
       "    <tr>\n",
       "      <th>max</th>\n",
       "      <td>1234.000000</td>\n",
       "      <td>100000.000000</td>\n",
       "    </tr>\n",
       "  </tbody>\n",
       "</table>\n",
       "</div>"
      ],
      "text/plain": [
       "       account_number         amount\n",
       "count        9.000000       9.000000\n",
       "mean       138.444444    4216.666667\n",
       "std        410.833638   55738.205030\n",
       "min          1.000000  -60000.000000\n",
       "25%          1.000000  -20000.000000\n",
       "50%          2.000000  -17000.000000\n",
       "75%          2.000000   30000.000000\n",
       "max       1234.000000  100000.000000"
      ]
     },
     "execution_count": 9,
     "metadata": {},
     "output_type": "execute_result"
    }
   ],
   "source": [
    "# Describe gives the basic statistical information in a data set\n",
    "# count, mean, std, min, max and 25%, 50% and 75%\n",
    "\n",
    "data.describe()"
   ]
  },
  {
   "cell_type": "code",
   "execution_count": 10,
   "metadata": {},
   "outputs": [
    {
     "data": {
      "text/plain": [
       "Index(['account_number', 'title', 'type', 'amount', 'date'], dtype='object')"
      ]
     },
     "execution_count": 10,
     "metadata": {},
     "output_type": "execute_result"
    }
   ],
   "source": [
    "data.columns"
   ]
  },
  {
   "cell_type": "code",
   "execution_count": 11,
   "metadata": {},
   "outputs": [
    {
     "data": {
      "text/plain": [
       "account_number    9\n",
       "title             9\n",
       "type              9\n",
       "amount            9\n",
       "date              9\n",
       "dtype: int64"
      ]
     },
     "execution_count": 11,
     "metadata": {},
     "output_type": "execute_result"
    }
   ],
   "source": [
    "data.count()"
   ]
  },
  {
   "cell_type": "code",
   "execution_count": 12,
   "metadata": {},
   "outputs": [
    {
     "data": {
      "text/plain": [
       "account_number     int64\n",
       "title             object\n",
       "type              object\n",
       "amount             int64\n",
       "date              object\n",
       "dtype: object"
      ]
     },
     "execution_count": 12,
     "metadata": {},
     "output_type": "execute_result"
    }
   ],
   "source": [
    "# display the data types\n",
    "\n",
    "data.dtypes"
   ]
  },
  {
   "cell_type": "code",
   "execution_count": 5,
   "metadata": {},
   "outputs": [
    {
     "data": {
      "text/html": [
       "<div>\n",
       "<style scoped>\n",
       "    .dataframe tbody tr th:only-of-type {\n",
       "        vertical-align: middle;\n",
       "    }\n",
       "\n",
       "    .dataframe tbody tr th {\n",
       "        vertical-align: top;\n",
       "    }\n",
       "\n",
       "    .dataframe thead th {\n",
       "        text-align: right;\n",
       "    }\n",
       "</style>\n",
       "<table border=\"1\" class=\"dataframe\">\n",
       "  <thead>\n",
       "    <tr style=\"text-align: right;\">\n",
       "      <th></th>\n",
       "      <th>title</th>\n",
       "    </tr>\n",
       "  </thead>\n",
       "  <tbody>\n",
       "    <tr>\n",
       "      <th>0</th>\n",
       "      <td>Another title</td>\n",
       "    </tr>\n",
       "    <tr>\n",
       "      <th>1</th>\n",
       "      <td>Something</td>\n",
       "    </tr>\n",
       "    <tr>\n",
       "      <th>2</th>\n",
       "      <td>A Title</td>\n",
       "    </tr>\n",
       "    <tr>\n",
       "      <th>3</th>\n",
       "      <td>New Expense</td>\n",
       "    </tr>\n",
       "    <tr>\n",
       "      <th>4</th>\n",
       "      <td>A new income</td>\n",
       "    </tr>\n",
       "    <tr>\n",
       "      <th>5</th>\n",
       "      <td>A new expense</td>\n",
       "    </tr>\n",
       "    <tr>\n",
       "      <th>6</th>\n",
       "      <td>A brand new income source</td>\n",
       "    </tr>\n",
       "    <tr>\n",
       "      <th>7</th>\n",
       "      <td>Some expense</td>\n",
       "    </tr>\n",
       "    <tr>\n",
       "      <th>8</th>\n",
       "      <td>New expense for 1234</td>\n",
       "    </tr>\n",
       "  </tbody>\n",
       "</table>\n",
       "</div>"
      ],
      "text/plain": [
       "                       title\n",
       "0              Another title\n",
       "1                  Something\n",
       "2                    A Title\n",
       "3                New Expense\n",
       "4               A new income\n",
       "5              A new expense\n",
       "6  A brand new income source\n",
       "7               Some expense\n",
       "8       New expense for 1234"
      ]
     },
     "execution_count": 5,
     "metadata": {},
     "output_type": "execute_result"
    }
   ],
   "source": [
    "# select a portion of our data as a dataframe\n",
    "\n",
    "data[['title']]"
   ]
  },
  {
   "cell_type": "code",
   "execution_count": 6,
   "metadata": {},
   "outputs": [
    {
     "data": {
      "text/plain": [
       "0                Another title\n",
       "1                    Something\n",
       "2                      A Title\n",
       "3                  New Expense\n",
       "4                 A new income\n",
       "5                A new expense\n",
       "6    A brand new income source\n",
       "7                 Some expense\n",
       "8         New expense for 1234\n",
       "Name: title, dtype: object"
      ]
     },
     "execution_count": 6,
     "metadata": {},
     "output_type": "execute_result"
    }
   ],
   "source": [
    "# select portion of our data as a series\n",
    "\n",
    "data['title']"
   ]
  },
  {
   "cell_type": "code",
   "execution_count": 14,
   "metadata": {},
   "outputs": [
    {
     "name": "stdout",
     "output_type": "stream",
     "text": [
      "<class 'pandas.core.series.Series'>\n"
     ]
    }
   ],
   "source": [
    "# the data['title'] object is a series.\n",
    "\n",
    "print(type(data['title']))"
   ]
  },
  {
   "cell_type": "code",
   "execution_count": 19,
   "metadata": {},
   "outputs": [
    {
     "data": {
      "text/html": [
       "<div>\n",
       "<style scoped>\n",
       "    .dataframe tbody tr th:only-of-type {\n",
       "        vertical-align: middle;\n",
       "    }\n",
       "\n",
       "    .dataframe tbody tr th {\n",
       "        vertical-align: top;\n",
       "    }\n",
       "\n",
       "    .dataframe thead th {\n",
       "        text-align: right;\n",
       "    }\n",
       "</style>\n",
       "<table border=\"1\" class=\"dataframe\">\n",
       "  <thead>\n",
       "    <tr style=\"text-align: right;\">\n",
       "      <th></th>\n",
       "      <th>account_number</th>\n",
       "      <th>title</th>\n",
       "      <th>type</th>\n",
       "      <th>amount</th>\n",
       "      <th>date</th>\n",
       "    </tr>\n",
       "  </thead>\n",
       "  <tbody>\n",
       "    <tr>\n",
       "      <th>2</th>\n",
       "      <td>1</td>\n",
       "      <td>A Title</td>\n",
       "      <td>Income</td>\n",
       "      <td>80000</td>\n",
       "      <td>01-02-2021</td>\n",
       "    </tr>\n",
       "    <tr>\n",
       "      <th>4</th>\n",
       "      <td>2</td>\n",
       "      <td>A new income</td>\n",
       "      <td>Income</td>\n",
       "      <td>100000</td>\n",
       "      <td>01-03-2022</td>\n",
       "    </tr>\n",
       "    <tr>\n",
       "      <th>6</th>\n",
       "      <td>2</td>\n",
       "      <td>A brand new income source</td>\n",
       "      <td>Income</td>\n",
       "      <td>30000</td>\n",
       "      <td>09-10-2022</td>\n",
       "    </tr>\n",
       "  </tbody>\n",
       "</table>\n",
       "</div>"
      ],
      "text/plain": [
       "   account_number                      title    type  amount        date\n",
       "2               1                    A Title  Income   80000  01-02-2021\n",
       "4               2               A new income  Income  100000  01-03-2022\n",
       "6               2  A brand new income source  Income   30000  09-10-2022"
      ]
     },
     "execution_count": 19,
     "metadata": {},
     "output_type": "execute_result"
    }
   ],
   "source": [
    "# filtering: get all the incomes\n",
    "data[data['type'] == 'Income'] #write the condition first, then bracket it with the data [] wrapper"
   ]
  },
  {
   "cell_type": "code",
   "execution_count": 20,
   "metadata": {},
   "outputs": [
    {
     "data": {
      "text/html": [
       "<div>\n",
       "<style scoped>\n",
       "    .dataframe tbody tr th:only-of-type {\n",
       "        vertical-align: middle;\n",
       "    }\n",
       "\n",
       "    .dataframe tbody tr th {\n",
       "        vertical-align: top;\n",
       "    }\n",
       "\n",
       "    .dataframe thead th {\n",
       "        text-align: right;\n",
       "    }\n",
       "</style>\n",
       "<table border=\"1\" class=\"dataframe\">\n",
       "  <thead>\n",
       "    <tr style=\"text-align: right;\">\n",
       "      <th></th>\n",
       "      <th>account_number</th>\n",
       "      <th>title</th>\n",
       "      <th>type</th>\n",
       "      <th>amount</th>\n",
       "      <th>date</th>\n",
       "    </tr>\n",
       "  </thead>\n",
       "  <tbody>\n",
       "    <tr>\n",
       "      <th>2</th>\n",
       "      <td>1</td>\n",
       "      <td>A Title</td>\n",
       "      <td>Income</td>\n",
       "      <td>80000</td>\n",
       "      <td>01-02-2021</td>\n",
       "    </tr>\n",
       "    <tr>\n",
       "      <th>4</th>\n",
       "      <td>2</td>\n",
       "      <td>A new income</td>\n",
       "      <td>Income</td>\n",
       "      <td>100000</td>\n",
       "      <td>01-03-2022</td>\n",
       "    </tr>\n",
       "    <tr>\n",
       "      <th>6</th>\n",
       "      <td>2</td>\n",
       "      <td>A brand new income source</td>\n",
       "      <td>Income</td>\n",
       "      <td>30000</td>\n",
       "      <td>09-10-2022</td>\n",
       "    </tr>\n",
       "  </tbody>\n",
       "</table>\n",
       "</div>"
      ],
      "text/plain": [
       "   account_number                      title    type  amount        date\n",
       "2               1                    A Title  Income   80000  01-02-2021\n",
       "4               2               A new income  Income  100000  01-03-2022\n",
       "6               2  A brand new income source  Income   30000  09-10-2022"
      ]
     },
     "execution_count": 20,
     "metadata": {},
     "output_type": "execute_result"
    }
   ],
   "source": [
    "# grab values where amount is positive\n",
    "\n",
    "data[data['amount'] > 0]"
   ]
  },
  {
   "cell_type": "code",
   "execution_count": 35,
   "metadata": {},
   "outputs": [
    {
     "data": {
      "text/html": [
       "<div>\n",
       "<style scoped>\n",
       "    .dataframe tbody tr th:only-of-type {\n",
       "        vertical-align: middle;\n",
       "    }\n",
       "\n",
       "    .dataframe tbody tr th {\n",
       "        vertical-align: top;\n",
       "    }\n",
       "\n",
       "    .dataframe thead th {\n",
       "        text-align: right;\n",
       "    }\n",
       "</style>\n",
       "<table border=\"1\" class=\"dataframe\">\n",
       "  <thead>\n",
       "    <tr style=\"text-align: right;\">\n",
       "      <th></th>\n",
       "      <th>account_number</th>\n",
       "      <th>title</th>\n",
       "      <th>type</th>\n",
       "      <th>amount</th>\n",
       "      <th>date</th>\n",
       "    </tr>\n",
       "  </thead>\n",
       "  <tbody>\n",
       "    <tr>\n",
       "      <th>0</th>\n",
       "      <td>1</td>\n",
       "      <td>Another title</td>\n",
       "      <td>Expense</td>\n",
       "      <td>-20000</td>\n",
       "      <td>01-03-2021</td>\n",
       "    </tr>\n",
       "    <tr>\n",
       "      <th>2</th>\n",
       "      <td>1</td>\n",
       "      <td>A Title</td>\n",
       "      <td>Income</td>\n",
       "      <td>80000</td>\n",
       "      <td>01-02-2021</td>\n",
       "    </tr>\n",
       "    <tr>\n",
       "      <th>4</th>\n",
       "      <td>2</td>\n",
       "      <td>A new income</td>\n",
       "      <td>Income</td>\n",
       "      <td>100000</td>\n",
       "      <td>01-03-2022</td>\n",
       "    </tr>\n",
       "    <tr>\n",
       "      <th>5</th>\n",
       "      <td>2</td>\n",
       "      <td>A new expense</td>\n",
       "      <td>Expense</td>\n",
       "      <td>-55000</td>\n",
       "      <td>09-09-2022</td>\n",
       "    </tr>\n",
       "    <tr>\n",
       "      <th>6</th>\n",
       "      <td>2</td>\n",
       "      <td>A brand new income source</td>\n",
       "      <td>Income</td>\n",
       "      <td>30000</td>\n",
       "      <td>09-10-2022</td>\n",
       "    </tr>\n",
       "  </tbody>\n",
       "</table>\n",
       "</div>"
      ],
      "text/plain": [
       "   account_number                      title     type  amount        date\n",
       "0               1              Another title  Expense  -20000  01-03-2021\n",
       "2               1                    A Title   Income   80000  01-02-2021\n",
       "4               2               A new income   Income  100000  01-03-2022\n",
       "5               2              A new expense  Expense  -55000  09-09-2022\n",
       "6               2  A brand new income source   Income   30000  09-10-2022"
      ]
     },
     "execution_count": 35,
     "metadata": {},
     "output_type": "execute_result"
    }
   ],
   "source": [
    "# filter titles that start with \"A\"\n",
    "\n",
    "data[data['title'].str.startswith(\"A\")]"
   ]
  }
 ],
 "metadata": {
  "kernelspec": {
   "display_name": "Python 3.9.12 64-bit",
   "language": "python",
   "name": "python3"
  },
  "language_info": {
   "codemirror_mode": {
    "name": "ipython",
    "version": 3
   },
   "file_extension": ".py",
   "mimetype": "text/x-python",
   "name": "python",
   "nbconvert_exporter": "python",
   "pygments_lexer": "ipython3",
   "version": "3.9.12"
  },
  "orig_nbformat": 4,
  "vscode": {
   "interpreter": {
    "hash": "aee8b7b246df8f9039afb4144a1f6fd8d2ca17a180786b69acc140d282b71a49"
   }
  }
 },
 "nbformat": 4,
 "nbformat_minor": 2
}
