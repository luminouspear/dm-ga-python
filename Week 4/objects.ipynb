{
 "cells": [
  {
   "cell_type": "code",
   "execution_count": 23,
   "metadata": {},
   "outputs": [],
   "source": [
    "# OOP - Object-Oriented Programming\n",
    "\n",
    "# 1. Write classes; these classes will have instance variables & methods (function)\n",
    "# 2. Use classes to create objects"
   ]
  },
  {
   "cell_type": "markdown",
   "metadata": {},
   "source": [
    "## Encapsulation: Put all associated data and methods together in one associated class.\n",
    "\n"
   ]
  },
  {
   "cell_type": "code",
   "execution_count": 24,
   "metadata": {},
   "outputs": [
    {
     "name": "stdout",
     "output_type": "stream",
     "text": [
      "Class has been initialized\n",
      "23\n"
     ]
    }
   ],
   "source": [
    "class Person:\n",
    "    def __init__(self, name, age):\n",
    "        print(\"Class has been initialized\")\n",
    "        self.name = name\n",
    "        self.age = age\n",
    "\n",
    "    def birthday(self):\n",
    "        self.age += 1\n",
    "    \n",
    "\n",
    "p = Person(\"Dan\", 22)\n",
    "p.birthday()\n",
    "print(p.age)\n"
   ]
  },
  {
   "cell_type": "code",
   "execution_count": 25,
   "metadata": {},
   "outputs": [
    {
     "name": "stdout",
     "output_type": "stream",
     "text": [
      "32\n",
      "24\n"
     ]
    }
   ],
   "source": [
    "# Create a rectangle class\n",
    "\n",
    "class Rectangle:\n",
    "    def __init__(self, length, width):\n",
    "        self.length = length\n",
    "        self.width = width\n",
    "    \n",
    "    def area(self) -> int:\n",
    "        return self.length * self.width\n",
    "    \n",
    "    def perimeter(self) -> int:\n",
    "        return 2 * self.length + 2 * self.width\n",
    "    \n",
    "rect = Rectangle(4, 8)\n",
    "\n",
    "print(rect.area())\n",
    "print(rect.perimeter())"
   ]
  },
  {
   "cell_type": "code",
   "execution_count": 26,
   "metadata": {},
   "outputs": [
    {
     "name": "stdout",
     "output_type": "stream",
     "text": [
      "['Eminem', 'Dr. Dre']\n",
      "Lose Yourself\tRap/Hip Hop\tEminem, Dr. Dre\t2002\n"
     ]
    }
   ],
   "source": [
    "# Create a song class\n",
    "# with title, genre, artist, year of release & rating\n",
    "\n",
    "class Song:\n",
    "    def __init__(self, title, genre):\n",
    "        self.title = title\n",
    "        self.genre = genre\n",
    "        self.artist = []\n",
    "        self.release_year = \"\"\n",
    "        self.rating = 0.0\n",
    "    \n",
    "    def set_artist(self, artist):\n",
    "        self.artist.append(artist)\n",
    "    \n",
    "    def set_release_year(self, release_year):\n",
    "        self.release_year = release_year\n",
    "    \n",
    "    #allows us to define the string representation for the class (ie print(Class()))\n",
    "    def __str__(self):\n",
    "        #should return a string\n",
    "        return f'{self.title}\\t{self.genre}\\t{\", \".join(self.artist)}\\t{self.release_year}'\n",
    "\n",
    "s = Song(\"Lose Yourself\", \"Rap/Hip Hop\")\n",
    "\n",
    "s.set_artist(\"Eminem\")\n",
    "s.set_artist(\"Dr. Dre\")\n",
    "s.set_release_year(\"2002\")\n",
    "\n",
    "print(s.artist)\n",
    "    \n",
    "print(s)\n",
    "\n"
   ]
  },
  {
   "cell_type": "code",
   "execution_count": 52,
   "metadata": {},
   "outputs": [
    {
     "name": "stdout",
     "output_type": "stream",
     "text": [
      "added Wild horses\tRock\t\t\n",
      "added Lose Yourself\tRap/Hip Hop\t\t\n",
      "Eminem Songs\n",
      "---------------------------\n",
      "1. Lose Yourself\n",
      "2. The Real Slim Shady\n",
      "3. Wild horses\n",
      "4. Lose Yourself\n",
      "\n",
      "Song not found/removed.\n",
      "Eminem Songs\n",
      "---------------------------\n",
      "1. Lose Yourself\n",
      "2. The Real Slim Shady\n",
      "3. Wild horses\n",
      "4. Lose Yourself\n",
      "\n"
     ]
    }
   ],
   "source": [
    "# Create a Playlist\n",
    "# title, songs\n",
    "# add_song, delete_song change_title, share methods\n",
    "\n",
    "class Playlist:\n",
    "    def __init__(self, title, songs):\n",
    "        self.title = title\n",
    "        self.songs = songs\n",
    "\n",
    "    def add_song(self, song):\n",
    "        if type(song) is Song:\n",
    "           self.songs.append(song)\n",
    "           print(f\"added {song}\")\n",
    "    \n",
    "    def get_numbered_song_list(self):\n",
    "        song_list = []\n",
    "\n",
    "        for index in range(len(self.songs)):\n",
    "            song_list.append(f\"{index + 1}. {self.songs[index].title}\\n\")\n",
    "    \n",
    "        return \"\".join(song_list)\n",
    "\n",
    "    def remove_song(self, song):\n",
    "        for s in self.songs:\n",
    "            if s is song:\n",
    "                self.songs.remove(s)\n",
    "                return\n",
    "            \n",
    "        print(\"Song not found/removed.\")\n",
    "    \n",
    "\n",
    "\n",
    "    def __repr__(self):\n",
    "        #display my title like this:\n",
    "        # Title\n",
    "        # ----------------------------------\n",
    "        # 1. <song 1>\n",
    "        # 2. <song 2>\n",
    "        # etc\n",
    "        return f\"{self.title}\\n---------------------------\\n{self.get_numbered_song_list()}\"\n",
    "\n",
    "    \n",
    "s = [Song(\"Lose Yourself\", \"Rap/Hip Hop\"), Song(\"The Real Slim Shady\", 1998)]\n",
    "\n",
    "s2 = s\n",
    "\n",
    "pl = Playlist(\"Eminem Songs\", s)\n",
    "pl.add_song(Song(\"Wild horses\", \"Rock\"))\n",
    "pl.add_song(s2[0])\n",
    "print(pl)\n",
    "\n",
    "pl.remove_song(\"Lose Yourself\")\n",
    "print(pl)\n"
   ]
  },
  {
   "cell_type": "code",
   "execution_count": 54,
   "metadata": {},
   "outputs": [
    {
     "name": "stdout",
     "output_type": "stream",
     "text": [
      "True\n",
      "False\n"
     ]
    }
   ],
   "source": [
    "s1 = Song(\"Working My Way Back to You Girl\", \"Oldies\")\n",
    "s2 = s1\n",
    "s3 = Song(\"Working My Way Back to You Girl\", \"Oldies\")\n",
    "\n",
    "print(s1 is s2)\n",
    "print(s1 is s3)"
   ]
  }
 ],
 "metadata": {
  "kernelspec": {
   "display_name": "Python 3.9.12 64-bit",
   "language": "python",
   "name": "python3"
  },
  "language_info": {
   "codemirror_mode": {
    "name": "ipython",
    "version": 3
   },
   "file_extension": ".py",
   "mimetype": "text/x-python",
   "name": "python",
   "nbconvert_exporter": "python",
   "pygments_lexer": "ipython3",
   "version": "3.9.12"
  },
  "orig_nbformat": 4,
  "vscode": {
   "interpreter": {
    "hash": "aee8b7b246df8f9039afb4144a1f6fd8d2ca17a180786b69acc140d282b71a49"
   }
  }
 },
 "nbformat": 4,
 "nbformat_minor": 2
}
