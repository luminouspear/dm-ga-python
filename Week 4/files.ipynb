{
 "cells": [
  {
   "cell_type": "code",
   "execution_count": 1,
   "metadata": {},
   "outputs": [
    {
     "name": "stdout",
     "output_type": "stream",
     "text": [
      "This is one line\n",
      "this is another line\n"
     ]
    }
   ],
   "source": [
    "# read from a file\n",
    "\n",
    "my_file = open(\"lines.txt\")\n",
    "data = my_file.read()\n",
    "\n",
    "print(data)\n",
    "my_file.close()\n"
   ]
  },
  {
   "cell_type": "code",
   "execution_count": 2,
   "metadata": {},
   "outputs": [
    {
     "name": "stdout",
     "output_type": "stream",
     "text": [
      "This is one line\n",
      "\n"
     ]
    }
   ],
   "source": [
    "my_file = open(\"lines.txt\")\n",
    "line = my_file.readline()\n",
    "\n",
    "print(line)\n",
    "\n",
    "my_file.close()"
   ]
  },
  {
   "cell_type": "code",
   "execution_count": 3,
   "metadata": {},
   "outputs": [
    {
     "name": "stdout",
     "output_type": "stream",
     "text": [
      "['This is one line\\n', 'this is another line']\n"
     ]
    }
   ],
   "source": [
    "my_file = open(\"lines.txt\")\n",
    "line = my_file.readlines()\n",
    "\n",
    "print(line)\n",
    "\n",
    "my_file.close()\n"
   ]
  },
  {
   "cell_type": "code",
   "execution_count": 4,
   "metadata": {},
   "outputs": [
    {
     "name": "stdout",
     "output_type": "stream",
     "text": [
      "['This is one line\\n', 'this is another line']\n"
     ]
    }
   ],
   "source": [
    "# use with if we don't want to deal with closing\n",
    "\n",
    "with open(\"lines.txt\") as my_file:\n",
    "    lines = my_file.readlines()\n",
    "    print(lines)"
   ]
  },
  {
   "cell_type": "code",
   "execution_count": 5,
   "metadata": {},
   "outputs": [],
   "source": [
    "# writing a file\n",
    "\n",
    "with open(\"linex.txt\", \"w\") as lines_file:\n",
    "    lines_file.write(\"This a third line\\n\")\n",
    "\n",
    "#using 'w' will overwrite any previous content\n",
    "#use append to add to the existing content\n",
    "\n",
    "with open(\"lines.txt\", \"a\") as lines_file:\n",
    "    lines_file.write(\"\\nA fourth line (actually the second now that we wiped the previous\")"
   ]
  }
 ],
 "metadata": {
  "interpreter": {
   "hash": "aee8b7b246df8f9039afb4144a1f6fd8d2ca17a180786b69acc140d282b71a49"
  },
  "kernelspec": {
   "display_name": "Python 3.9.12 64-bit",
   "language": "python",
   "name": "python3"
  },
  "language_info": {
   "codemirror_mode": {
    "name": "ipython",
    "version": 3
   },
   "file_extension": ".py",
   "mimetype": "text/x-python",
   "name": "python",
   "nbconvert_exporter": "python",
   "pygments_lexer": "ipython3",
   "version": "3.9.12"
  },
  "orig_nbformat": 4
 },
 "nbformat": 4,
 "nbformat_minor": 2
}
