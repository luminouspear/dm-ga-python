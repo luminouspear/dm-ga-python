{
 "cells": [
  {
   "cell_type": "code",
   "execution_count": 1,
   "metadata": {},
   "outputs": [
    {
     "name": "stdout",
     "output_type": "stream",
     "text": [
      "Hello!\n"
     ]
    }
   ],
   "source": [
    "# function definition\n",
    "\n",
    "def say_hello():\n",
    "    print(\"Hello!\")\n",
    "\n",
    "# function call\n",
    "\n",
    "say_hello()\n"
   ]
  },
  {
   "cell_type": "code",
   "execution_count": 3,
   "metadata": {},
   "outputs": [
    {
     "name": "stdout",
     "output_type": "stream",
     "text": [
      "hey there {name}!\n"
     ]
    }
   ],
   "source": [
    "def say_hello_with_name(name):\n",
    "    print(f'hey there {name}!')\n",
    "\n",
    "say_hello_with_name(\"Dan\")"
   ]
  },
  {
   "cell_type": "code",
   "execution_count": 5,
   "metadata": {},
   "outputs": [
    {
     "data": {
      "text/plain": [
       "60"
      ]
     },
     "execution_count": 5,
     "metadata": {},
     "output_type": "execute_result"
    }
   ],
   "source": [
    "# functions most often return a value\n",
    "\n",
    "def add_two(num1, num2):\n",
    "    return num1 + num2\n",
    "\n",
    "add_two(add_two(10,20), 30)\n"
   ]
  },
  {
   "cell_type": "code",
   "execution_count": 20,
   "metadata": {},
   "outputs": [
    {
     "data": {
      "text/plain": [
       "80"
      ]
     },
     "execution_count": 20,
     "metadata": {},
     "output_type": "execute_result"
    }
   ],
   "source": [
    "# write a function to return the sum of the numbers in a list\n",
    "\n",
    "def sum_list(a_list):\n",
    "  total = 0\n",
    "  for a in a_list:\n",
    "    total += a\n",
    "  return total\n",
    "\n",
    "sum_list([-2, -5, -1, 0, 2, 5, 11, 7, 13, 21])\n",
    "numbers = [-2, 4, 8, 9, 15, 27, 19]\n",
    "\n",
    "sum_list(numbers)\n"
   ]
  },
  {
   "cell_type": "code",
   "execution_count": 25,
   "metadata": {},
   "outputs": [
    {
     "data": {
      "text/plain": [
       "True"
      ]
     },
     "execution_count": 25,
     "metadata": {},
     "output_type": "execute_result"
    }
   ],
   "source": [
    "# write a function that accepts \n",
    "# the function must return True if the character we pass in is in the string. False otherwise\n",
    "\n",
    "def find_char(letter, a_string):\n",
    "    if letter in a_string:\n",
    "        return True\n",
    "    return False\n",
    "\n",
    "\n",
    "find_char(\"c\", \"abc\")\n",
    "\n",
    "# functions that return boolean values are often named with 'is' or 'has'\n",
    "# as a prefix\n",
    "\n"
   ]
  },
  {
   "cell_type": "code",
   "execution_count": 26,
   "metadata": {},
   "outputs": [
    {
     "data": {
      "text/plain": [
       "[-2, -5, -1]"
      ]
     },
     "execution_count": 26,
     "metadata": {},
     "output_type": "execute_result"
    }
   ],
   "source": [
    "# write a function that takes a list of numbers and returns a new list\n",
    "# with only the negative numbers\n",
    "\n",
    "def return_negatives(a_list):\n",
    "    negative_list = []\n",
    "    for a in a_list:\n",
    "        if a < 0:\n",
    "           negative_list.append(a)\n",
    "    return negative_list\n",
    "\n",
    "\n",
    "return_negatives([-2, -5, -1, 0, 2, 5, 11, 7, 13, 21])\n"
   ]
  },
  {
   "cell_type": "code",
   "execution_count": 28,
   "metadata": {},
   "outputs": [
    {
     "data": {
      "text/plain": [
       "11"
      ]
     },
     "execution_count": 28,
     "metadata": {},
     "output_type": "execute_result"
    }
   ],
   "source": [
    "# functions that take any number of arguments\n",
    "\n",
    "# use *args\n",
    "\n",
    "def add(*args):\n",
    "    total = 0\n",
    "    for a in args:\n",
    "        total +=a\n",
    "\n",
    "    return total\n",
    "\n",
    "add(1,1,4,5)\n"
   ]
  },
  {
   "cell_type": "code",
   "execution_count": null,
   "metadata": {},
   "outputs": [],
   "source": []
  }
 ],
 "metadata": {
  "interpreter": {
   "hash": "aee8b7b246df8f9039afb4144a1f6fd8d2ca17a180786b69acc140d282b71a49"
  },
  "kernelspec": {
   "display_name": "Python 3.9.12 64-bit",
   "language": "python",
   "name": "python3"
  },
  "language_info": {
   "codemirror_mode": {
    "name": "ipython",
    "version": 3
   },
   "file_extension": ".py",
   "mimetype": "text/x-python",
   "name": "python",
   "nbconvert_exporter": "python",
   "pygments_lexer": "ipython3",
   "version": "3.9.12"
  },
  "orig_nbformat": 4
 },
 "nbformat": 4,
 "nbformat_minor": 2
}
