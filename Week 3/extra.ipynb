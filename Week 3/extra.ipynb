{
 "cells": [
  {
   "cell_type": "code",
   "execution_count": 13,
   "metadata": {},
   "outputs": [
    {
     "data": {
      "text/plain": [
       "['Cardi B', 'Taylor Swift', 'Travis Scott', 'Chronixx', 'Drake, Jhene Aiko']"
      ]
     },
     "execution_count": 13,
     "metadata": {},
     "output_type": "execute_result"
    }
   ],
   "source": [
    "# use the playlist to write these fucntions\n",
    "\n",
    "# write a function that returns a list of the artist's names\n",
    "\n",
    "# write a function that returns the longest running song\n",
    "\n",
    "# write a function that returns the total running time of the playlist\n",
    "\n",
    "playlist = [\n",
    "    {\n",
    "        'title': 'Bodak Yellow',\n",
    "        'genre': 'Pop',\n",
    "        'artiste': 'Cardi B',\n",
    "        'year': '2017',\n",
    "        'length': 3.25\n",
    "    },\n",
    "    {\n",
    "        'title': 'Shake it Off',\n",
    "        'genre': 'Pop',\n",
    "        'artiste': 'Taylor Swift',\n",
    "        'year': '2016',\n",
    "        'length': 3.15\n",
    "    },\n",
    "    {\n",
    "        'title': 'Through the Night',\n",
    "        'genre': 'Pop',\n",
    "        'artiste': 'Travis Scott',\n",
    "        'year': '2016',\n",
    "        'length': 4.50\n",
    "    },\n",
    "    {\n",
    "        'title': 'Likes',\n",
    "        'genre': 'Reggae',\n",
    "        'artiste': 'Chronixx',\n",
    "        'year': '2017',\n",
    "        'length': 3.45\n",
    "    },\n",
    "    {\n",
    "        'title': 'From Time',\n",
    "        'genre': 'Pop',\n",
    "        'artiste': 'Drake, Jhene Aiko',\n",
    "        'year': '2013',\n",
    "        'length': 2.50\n",
    "    }\n",
    "]\n",
    "\n",
    "playlist[2]['year']\n",
    "\n",
    "def get_names(my_playlist):\n",
    "    matching_names = []\n",
    "    # index = 0\n",
    "    for song in my_playlist:\n",
    "        matching_names.append(song['artiste'])\n",
    "     #   index+=1\n",
    "\n",
    "    return matching_names\n",
    "\n",
    "def get_longest_song(my_playlist):\n",
    "    longest_song = 0\n",
    "    #index = 0\n",
    "    for song in my_playlist:\n",
    "        if float(song['length']) > longest_song:\n",
    "            longest_song = float(song['length'])\n",
    "    #    index+=1\n",
    "    return longest_song\n",
    "\n",
    "\n",
    "def get_total_length(my_playlist):\n",
    "    total_length = 0\n",
    "    # index = 0\n",
    "    for song in my_playlist:\n",
    "        total_length += float(song['length'])\n",
    "      #  index += 1\n",
    "    return total_length\n",
    "\n",
    "get_names(playlist)\n",
    "\n",
    "get_longest_song(playlist)\n",
    "\n",
    "get_total_length(playlist)"
   ]
  },
  {
   "cell_type": "code",
   "execution_count": 23,
   "metadata": {},
   "outputs": [
    {
     "data": {
      "text/plain": [
       "'(310) 555-1212'"
      ]
     },
     "execution_count": 23,
     "metadata": {},
     "output_type": "execute_result"
    }
   ],
   "source": [
    "def create_phone_number(n):\n",
    "\n",
    "\n",
    "    output_string = \"(\"\n",
    "\n",
    "    for n in n[0:3]:\n",
    "        output_string+=str(n)\n",
    "    \n",
    "    output_string+=\") \"\n",
    "\n",
    "    for n in n[3: 6]:\n",
    "        output_string+=str(n)\n",
    "\n",
    "    output_string+=\"-\"\n",
    "\n",
    "    for n in n[6: 10]:\n",
    "        output_string+=str(n)\n",
    "\n",
    "    \n",
    "    return output_string\n",
    "\n",
    "create_phone_number([3,1,0,5,5,5,1,2,1,2])\n"
   ]
  },
  {
   "cell_type": "code",
   "execution_count": 29,
   "metadata": {},
   "outputs": [
    {
     "name": "stdout",
     "output_type": "stream",
     "text": [
      "['3', '1', '0', '5', '5', '5', '1', '2', '1', '2']\n"
     ]
    }
   ],
   "source": [
    "# using map\n",
    "\n",
    "def create_phone_number(n):\n",
    "\n",
    "    print(list(map(lambda a : str(a), n)))\n",
    "\n",
    "\n",
    "create_phone_number([3, 1, 0, 5, 5, 5, 1, 2, 1, 2])\n",
    "\n",
    "\n"
   ]
  },
  {
   "cell_type": "code",
   "execution_count": 27,
   "metadata": {},
   "outputs": [
    {
     "data": {
      "text/plain": [
       "'(310) 555-1212'"
      ]
     },
     "execution_count": 27,
     "metadata": {},
     "output_type": "execute_result"
    }
   ],
   "source": [
    "def create_phone_number(n):\n",
    "\n",
    "    output_string = \"\"\n",
    "\n",
    "    for index in range(len(n)):\n",
    "        if index == 0:\n",
    "            output_string += \"(\"\n",
    "        if index == 3:\n",
    "            output_string += \") \"\n",
    "        if index == 6:\n",
    "            output_string += \"-\"\n",
    "        output_string +=str(n[index])\n",
    "    \n",
    "    return output_string\n",
    "    \n",
    "\n",
    "create_phone_number([3, 1, 0, 5, 5, 5, 1, 2, 1, 2])\n"
   ]
  },
  {
   "cell_type": "code",
   "execution_count": null,
   "metadata": {},
   "outputs": [],
   "source": []
  }
 ],
 "metadata": {
  "interpreter": {
   "hash": "aee8b7b246df8f9039afb4144a1f6fd8d2ca17a180786b69acc140d282b71a49"
  },
  "kernelspec": {
   "display_name": "Python 3.9.12 64-bit",
   "language": "python",
   "name": "python3"
  },
  "language_info": {
   "codemirror_mode": {
    "name": "ipython",
    "version": 3
   },
   "file_extension": ".py",
   "mimetype": "text/x-python",
   "name": "python",
   "nbconvert_exporter": "python",
   "pygments_lexer": "ipython3",
   "version": "3.9.12"
  },
  "orig_nbformat": 4
 },
 "nbformat": 4,
 "nbformat_minor": 2
}
