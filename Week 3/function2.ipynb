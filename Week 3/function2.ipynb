{
 "cells": [
  {
   "cell_type": "code",
   "execution_count": 4,
   "metadata": {},
   "outputs": [
    {
     "name": "stdout",
     "output_type": "stream",
     "text": [
      "a=10, b=20\n",
      "x = 0, y = 0\n"
     ]
    }
   ],
   "source": [
    "# positional vs. keyword arguments\n",
    "\n",
    "# a and b are positional arguments\n",
    "\n",
    "def func(a, b):\n",
    "    print(f'a={a}, b={b}')\n",
    "\n",
    "func(10, 20)\n",
    "\n",
    "\n",
    "# we can define functionals and then call them with arguments in any order. .. if they are keyword arguments\n",
    "\n",
    "# x and y are also default arguments\n",
    "\n",
    "def bar(x = 0, y = 0):\n",
    "    print(f'x = {x}, y = {y}')\n",
    "\n",
    "bar()"
   ]
  },
  {
   "cell_type": "code",
   "execution_count": 7,
   "metadata": {},
   "outputs": [
    {
     "name": "stdout",
     "output_type": "stream",
     "text": [
      "Dan|McCollum.\n"
     ]
    }
   ],
   "source": [
    "first_name = \"Dan\"\n",
    "last_name = \"McCollum\"\n",
    "\n",
    "print(first_name, last_name, sep=\"|\", end=\".\\n\")"
   ]
  },
  {
   "cell_type": "code",
   "execution_count": 9,
   "metadata": {},
   "outputs": [
    {
     "name": "stdout",
     "output_type": "stream",
     "text": [
      "Dan\n",
      "Your hobbies are: Coding, Guitar, Games, \n",
      "John\n",
      "city = Toronto\n",
      "age = 30\n",
      "Your hobbies are: Skiing, \n"
     ]
    }
   ],
   "source": [
    "# if we have a combination of positional, variable args and keyword args\n",
    "# positional args MUST go first.\n",
    "# variable args go next\n",
    "# keyword args last\n",
    "\n",
    "def baz(name, *args, **kwargs):\n",
    "    print(name)\n",
    "\n",
    "    hobby_string = \"\"\n",
    "    for item in args:\n",
    "        hobby_string += item + \", \"\n",
    "\n",
    "    for key in kwargs:\n",
    "        print(f'{key} = {kwargs[key]}')\n",
    "\n",
    "    print(\"Your hobbies are: \" + hobby_string)\n",
    "\n",
    "baz(\"Dan\", \"Coding\", \"Guitar\", \"Games\")\n",
    "baz(\"John\", \"Skiing\", city=\"Toronto\", age=30)"
   ]
  },
  {
   "cell_type": "code",
   "execution_count": 16,
   "metadata": {},
   "outputs": [
    {
     "name": "stdout",
     "output_type": "stream",
     "text": [
      "[24, 22, 16, 12, 9, 4, 1, 0, -4, -10]\n",
      "[{'title': 'From Time', 'genre': 'Pop', 'artiste': 'Drake, Jhene Aiko', 'year': '2013', 'length': 2.5}, {'title': 'Shake it Off', 'genre': 'Pop', 'artiste': 'Taylor Swift', 'year': '2016', 'length': 3.15}, {'title': 'Bodak Yellow', 'genre': 'Pop', 'artiste': 'Cardi B', 'year': '2017', 'length': 3.25}, {'title': 'Likes', 'genre': 'Reggae', 'artiste': 'Chronixx', 'year': '2017', 'length': 3.45}, {'title': 'Through the Night', 'genre': 'Pop', 'artiste': 'Travis Scott', 'year': '2016', 'length': 4.5}]\n"
     ]
    }
   ],
   "source": [
    "# lambda functions\n",
    "\n",
    "playlist = [\n",
    "    {\n",
    "        'title': 'Bodak Yellow',\n",
    "        'genre': 'Pop',\n",
    "        'artiste': 'Cardi B',\n",
    "        'year': '2017',\n",
    "        'length': 3.25\n",
    "    },\n",
    "    {\n",
    "        'title': 'Shake it Off',\n",
    "        'genre': 'Pop',\n",
    "        'artiste': 'Taylor Swift',\n",
    "        'year': '2016',\n",
    "        'length': 3.15\n",
    "    },\n",
    "    {\n",
    "        'title': 'Through the Night',\n",
    "        'genre': 'Pop',\n",
    "        'artiste': 'Travis Scott',\n",
    "        'year': '2016',\n",
    "        'length': 4.50\n",
    "    },\n",
    "    {\n",
    "        'title': 'Likes',\n",
    "        'genre': 'Reggae',\n",
    "        'artiste': 'Chronixx',\n",
    "        'year': '2017',\n",
    "        'length': 3.45\n",
    "    },\n",
    "    {\n",
    "        'title': 'From Time',\n",
    "        'genre': 'Pop',\n",
    "        'artiste': 'Drake, Jhene Aiko',\n",
    "        'year': '2013',\n",
    "        'length': 2.50\n",
    "    }\n",
    "]\n",
    "\n",
    "# what if we want to sort this playlist?\n",
    "\n",
    "nums = [-10, 4, 0 , 1, 12, 24, -4, 16, 22, 9]\n",
    "\n",
    "print(sorted(nums,reverse=True))\n",
    "\n",
    "print(sorted(playlist, key=lambda song : song['length']))"
   ]
  }
 ],
 "metadata": {
  "interpreter": {
   "hash": "aee8b7b246df8f9039afb4144a1f6fd8d2ca17a180786b69acc140d282b71a49"
  },
  "kernelspec": {
   "display_name": "Python 3.9.12 64-bit",
   "language": "python",
   "name": "python3"
  },
  "language_info": {
   "codemirror_mode": {
    "name": "ipython",
    "version": 3
   },
   "file_extension": ".py",
   "mimetype": "text/x-python",
   "name": "python",
   "nbconvert_exporter": "python",
   "pygments_lexer": "ipython3",
   "version": "3.9.12"
  },
  "orig_nbformat": 4
 },
 "nbformat": 4,
 "nbformat_minor": 2
}
