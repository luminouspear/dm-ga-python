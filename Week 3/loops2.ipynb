{
 "cells": [
  {
   "cell_type": "code",
   "execution_count": 1,
   "metadata": {},
   "outputs": [
    {
     "name": "stdout",
     "output_type": "stream",
     "text": [
      "1\n",
      "2\n",
      "3\n",
      "4\n",
      "5\n",
      "6\n",
      "7\n",
      "8\n",
      "9\n",
      "10\n"
     ]
    }
   ],
   "source": [
    "number = 0\n",
    "while number < 10:\n",
    "    number += 1\n",
    "    print(number)"
   ]
  },
  {
   "cell_type": "code",
   "execution_count": 3,
   "metadata": {},
   "outputs": [
    {
     "name": "stdout",
     "output_type": "stream",
     "text": [
      "Not correct. Guess again.\n",
      "Not correct. Guess again.\n",
      "Not correct. Guess again.\n",
      "Not correct. Guess again.\n",
      "Not correct. Guess again.\n",
      "Not correct. Guess again.\n",
      "Not correct. Guess again.\n",
      "Not correct. Guess again.\n",
      "You did it!\n"
     ]
    }
   ],
   "source": [
    "#continously ask for user input\n",
    "\n",
    "#prompt user to guess a secret number\n",
    "\n",
    "#use random module to generate a random integer\n",
    "\n",
    "import random\n",
    "\n",
    "secret_number = random.randint(1, 10)\n",
    "\n",
    "guess = input(\"Guess the secret number! [A number between 1 and 10]:\")\n",
    "\n",
    "while int(guess) != secret_number:\n",
    "    print('Not correct. Guess again.')\n",
    "    guess = input(\"Guess the secret number! [A number between 1 and 10]:\")\n",
    "\n",
    "print(\"You did it!\")"
   ]
  },
  {
   "cell_type": "code",
   "execution_count": 4,
   "metadata": {},
   "outputs": [
    {
     "name": "stdout",
     "output_type": "stream",
     "text": [
      "Not correct. Guess again.\n",
      "Not correct. Guess again.\n",
      "Not correct. Guess again.\n",
      "Not correct. Guess again.\n",
      "Not correct. Guess again.\n",
      "You did it!\n"
     ]
    }
   ],
   "source": [
    "# infinite loop, deliberately\n",
    "secret_number = random.randint(1, 9)\n",
    "\n",
    "\n",
    "while True:\n",
    "    guess = input(\"Guess the secret number! [A number between 1 and 10]:\")\n",
    "    if int(guess) == secret_number:\n",
    "        print(\"You did it!\")\n",
    "        break\n",
    "    else:\n",
    "        print(\"Not correct. Guess again.\")\n"
   ]
  }
 ],
 "metadata": {
  "interpreter": {
   "hash": "aee8b7b246df8f9039afb4144a1f6fd8d2ca17a180786b69acc140d282b71a49"
  },
  "kernelspec": {
   "display_name": "Python 3.9.12 64-bit",
   "language": "python",
   "name": "python3"
  },
  "language_info": {
   "codemirror_mode": {
    "name": "ipython",
    "version": 3
   },
   "file_extension": ".py",
   "mimetype": "text/x-python",
   "name": "python",
   "nbconvert_exporter": "python",
   "pygments_lexer": "ipython3",
   "version": "3.9.12"
  },
  "orig_nbformat": 4
 },
 "nbformat": 4,
 "nbformat_minor": 2
}
